{
 "cells": [
  {
   "cell_type": "code",
   "execution_count": 1,
   "metadata": {},
   "outputs": [],
   "source": [
    "from fbs.bpfbs import *"
   ]
  },
  {
   "cell_type": "code",
   "execution_count": 2,
   "metadata": {},
   "outputs": [
    {
     "data": {
      "text/html": [
       "<div>\n",
       "<style scoped>\n",
       "    .dataframe tbody tr th:only-of-type {\n",
       "        vertical-align: middle;\n",
       "    }\n",
       "\n",
       "    .dataframe tbody tr th {\n",
       "        vertical-align: top;\n",
       "    }\n",
       "\n",
       "    .dataframe thead th {\n",
       "        text-align: right;\n",
       "    }\n",
       "</style>\n",
       "<table border=\"1\" class=\"dataframe\">\n",
       "  <thead>\n",
       "    <tr style=\"text-align: right;\">\n",
       "      <th></th>\n",
       "      <th>size</th>\n",
       "      <th>count</th>\n",
       "      <th>relfreq</th>\n",
       "      <th>pdb_code</th>\n",
       "      <th>b</th>\n",
       "    </tr>\n",
       "  </thead>\n",
       "  <tbody>\n",
       "    <tr>\n",
       "      <th>1305030</th>\n",
       "      <td>25</td>\n",
       "      <td>31</td>\n",
       "      <td>0.000065</td>\n",
       "      <td>2vda</td>\n",
       "      <td>1011110111101111011110111</td>\n",
       "    </tr>\n",
       "    <tr>\n",
       "      <th>1304751</th>\n",
       "      <td>25</td>\n",
       "      <td>29</td>\n",
       "      <td>0.000060</td>\n",
       "      <td>2lfs</td>\n",
       "      <td>1011110111101111011110111</td>\n",
       "    </tr>\n",
       "    <tr>\n",
       "      <th>1304689</th>\n",
       "      <td>25</td>\n",
       "      <td>23</td>\n",
       "      <td>0.000048</td>\n",
       "      <td>2kz1</td>\n",
       "      <td>1011110111101111011110111</td>\n",
       "    </tr>\n",
       "    <tr>\n",
       "      <th>1305167</th>\n",
       "      <td>25</td>\n",
       "      <td>21</td>\n",
       "      <td>0.000044</td>\n",
       "      <td>6h5h</td>\n",
       "      <td>1011110111101111011110111</td>\n",
       "    </tr>\n",
       "    <tr>\n",
       "      <th>1304740</th>\n",
       "      <td>25</td>\n",
       "      <td>20</td>\n",
       "      <td>0.000042</td>\n",
       "      <td>2ld4</td>\n",
       "      <td>1011110111101111011110111</td>\n",
       "    </tr>\n",
       "  </tbody>\n",
       "</table>\n",
       "</div>"
      ],
      "text/plain": [
       "         size  count   relfreq pdb_code                          b\n",
       "1305030    25     31  0.000065     2vda  1011110111101111011110111\n",
       "1304751    25     29  0.000060     2lfs  1011110111101111011110111\n",
       "1304689    25     23  0.000048     2kz1  1011110111101111011110111\n",
       "1305167    25     21  0.000044     6h5h  1011110111101111011110111\n",
       "1304740    25     20  0.000042     2ld4  1011110111101111011110111"
      ]
     },
     "execution_count": 2,
     "metadata": {},
     "output_type": "execute_result"
    }
   ],
   "source": [
    "import pickle\n",
    "\n",
    "fn_binary = 'pickled_df_count_slices.pkl'\n",
    "with open(fn_binary, 'rb') as f:\n",
    "    df = pickle.load(f)\n",
    "\n",
    "df.head()"
   ]
  },
  {
   "cell_type": "code",
   "execution_count": 6,
   "metadata": {},
   "outputs": [
    {
     "data": {
      "text/html": [
       "<div>\n",
       "<style scoped>\n",
       "    .dataframe tbody tr th:only-of-type {\n",
       "        vertical-align: middle;\n",
       "    }\n",
       "\n",
       "    .dataframe tbody tr th {\n",
       "        vertical-align: top;\n",
       "    }\n",
       "\n",
       "    .dataframe thead th {\n",
       "        text-align: right;\n",
       "    }\n",
       "</style>\n",
       "<table border=\"1\" class=\"dataframe\">\n",
       "  <thead>\n",
       "    <tr style=\"text-align: right;\">\n",
       "      <th></th>\n",
       "      <th>count</th>\n",
       "    </tr>\n",
       "    <tr>\n",
       "      <th>type</th>\n",
       "      <th></th>\n",
       "    </tr>\n",
       "  </thead>\n",
       "  <tbody>\n",
       "    <tr>\n",
       "      <th>str</th>\n",
       "      <td>2080220</td>\n",
       "    </tr>\n",
       "  </tbody>\n",
       "</table>\n",
       "</div>"
      ],
      "text/plain": [
       "        count\n",
       "type         \n",
       "str   2080220"
      ]
     },
     "execution_count": 6,
     "metadata": {},
     "output_type": "execute_result"
    }
   ],
   "source": [
    "df['type'] = df['b'].apply(lambda x: type(x).__name__)\n",
    "\n",
    "df[['type','count']].groupby('type').count()"
   ]
  },
  {
   "cell_type": "code",
   "execution_count": 3,
   "metadata": {},
   "outputs": [
    {
     "name": "stdout",
     "output_type": "stream",
     "text": [
      "states:  ['1011110111101111011110111', '1101110111101111011110111', '1011111011101111011110111', '1101111011110111101111011', '1011110111100111011110111']\n",
      "p:  [0.0048952141005486555, 0.001796924614535725, 0.0016532539327246416, 0.0016407608299584603, 0.0015720487647444639]\n"
     ]
    }
   ],
   "source": [
    "# generate a sample of training-testing pbd binary data\n",
    "from sklearn.model_selection import train_test_split\n",
    "\n",
    "seed = 42\n",
    "\n",
    "# selecting the train-test sample based on the choosen pdb_codes\n",
    "pdb_train, pdb_test = train_test_split(df['pdb_code'].unique(), train_size=0.8, random_state=seed)\n",
    "df_train = df[df['pdb_code'].isin(pdb_train)]\n",
    "\n",
    "# once the sample was choosen, we need to group the identical binaries present in different pdb instances,\n",
    "# summing up their absolute frequency (count) and their relative frequency (relfreq).\n",
    "df_train = df_train.groupby(['b', 'size']).agg({'count': 'sum', 'relfreq': 'sum'}).reset_index()\n",
    "df_train.sort_values(by=['size', 'count'], inplace=True, ascending=False)\n",
    "df_train = df_train[['size', 'count', 'relfreq', 'b']]\n",
    "\n",
    "states = list(df_train['b'])\n",
    "p = list(df_train['relfreq'])\n",
    "\n",
    "\n",
    "# adding missing binary statis of length 5 if it is necessary.\n",
    "# it also adds the relative frequencies of the missing states as the uniform distribution\n",
    "# in order to the sum of all frequencies be 1.\n",
    "from itertools import product\n",
    "\n",
    "states_len_5 = []\n",
    "p_len_5 = []\n",
    "for i in range(len(states)):\n",
    "    s = states[i]\n",
    "    prob = p[i]\n",
    "    if len(s) == 5:\n",
    "        states_len_5.append(s)\n",
    "        p_len_5.append(prob)\n",
    "\n",
    "if len(states_len_5) < 32:\n",
    "    all_bin_len_5 = set(product(range(2), repeat=5))\n",
    "    \n",
    "    missing_states_len_5 = list(all_bin_len_5 - set(states_len_5))\n",
    "    \n",
    "    p_len_5 = np.array(p_len_5)\n",
    "    missing_prob_uniform = (float(1 - np.sum(p_len_5)))/float(len(missing_states_len_5))\n",
    "    \n",
    "    for i in range(len(missing_states_len_5)):\n",
    "        states.append(missing_states_len_5[i])\n",
    "        p.append(missing_prob_uniform)\n",
    "\n",
    "    \n",
    "\n",
    "print('states: ', states[:5])\n",
    "print('p: ', p[:5])\n",
    "\n",
    "fn = 'pickled_states.pkl'\n",
    "with open(fn, 'wb') as f:\n",
    "    pickle.dump((states,p), f)\n",
    "\n",
    "\n",
    "# df_la = df.groupby(['b', 'size']).agg({'count': 'sum', 'relfreq': 'sum'}).reset_index()\n",
    "# df_la.sort_values(by=['size', 'count'], inplace=True, ascending=False)\n",
    "# df_la = df_la[['size', 'count', 'relfreq', 'b']]"
   ]
  },
  {
   "cell_type": "code",
   "execution_count": 20,
   "metadata": {},
   "outputs": [],
   "source": [
    "import pickle\n",
    "\n",
    "with open('pickled_binary.pkl', 'rb') as f:\n",
    "    wd_binary = pickle.load(f)\n",
    "\n",
    "with open('pickled_original_sol.pkl', 'rb') as f:\n",
    "    wd_original_sol = pickle.load(f)"
   ]
  },
  {
   "cell_type": "code",
   "execution_count": 21,
   "metadata": {},
   "outputs": [
    {
     "name": "stderr",
     "output_type": "stream",
     "text": [
      "100%|██████████| 73649/73649 [00:23<00:00, 3165.98it/s]\n"
     ]
    },
    {
     "data": {
      "text/html": [
       "<div>\n",
       "<style scoped>\n",
       "    .dataframe tbody tr th:only-of-type {\n",
       "        vertical-align: middle;\n",
       "    }\n",
       "\n",
       "    .dataframe tbody tr th {\n",
       "        vertical-align: top;\n",
       "    }\n",
       "\n",
       "    .dataframe thead th {\n",
       "        text-align: right;\n",
       "    }\n",
       "</style>\n",
       "<table border=\"1\" class=\"dataframe\">\n",
       "  <thead>\n",
       "    <tr style=\"text-align: right;\">\n",
       "      <th></th>\n",
       "      <th>fn</th>\n",
       "      <th>order</th>\n",
       "      <th>parents</th>\n",
       "      <th>xsol</th>\n",
       "    </tr>\n",
       "  </thead>\n",
       "  <tbody>\n",
       "    <tr>\n",
       "      <th>0</th>\n",
       "      <td>1a03_model1_chainA_segment0_binary.csv</td>\n",
       "      <td>[0, 1, 3, 2, 7, 4, 5, 8, 6, 12, 9, 10, 13, 11,...</td>\n",
       "      <td>[[-1, -1, -1], [-1, -1, -1], [-1, -1, -1], [0,...</td>\n",
       "      <td>[[-12.449, 7.053, 5.066], [-11.098, 6.511, 5.1...</td>\n",
       "    </tr>\n",
       "    <tr>\n",
       "      <th>1</th>\n",
       "      <td>1a03_model1_chainA_segment1_binary.csv</td>\n",
       "      <td>[0, 1, 3, 2, 7, 4, 5, 8, 6, 12, 9, 10, 13, 11,...</td>\n",
       "      <td>[[-1, -1, -1], [-1, -1, -1], [-1, -1, -1], [0,...</td>\n",
       "      <td>[[-11.299, -7.574, 2.87], [-11.467, -8.365, 1....</td>\n",
       "    </tr>\n",
       "    <tr>\n",
       "      <th>2</th>\n",
       "      <td>1a03_model1_chainA_segment2_binary.csv</td>\n",
       "      <td>[0, 1, 3, 2, 7, 4, 5, 8, 6, 12, 9, 10, 13, 11,...</td>\n",
       "      <td>[[-1, -1, -1], [-1, -1, -1], [-1, -1, -1], [0,...</td>\n",
       "      <td>[[-10.069, -18.068, 5.889], [-9.382, -16.777, ...</td>\n",
       "    </tr>\n",
       "    <tr>\n",
       "      <th>3</th>\n",
       "      <td>1a03_model1_chainA_segment3_binary.csv</td>\n",
       "      <td>[0, 1, 3, 2, 7, 4, 5, 8, 6, 12, 9, 10, 13, 11,...</td>\n",
       "      <td>[[-1, -1, -1], [-1, -1, -1], [-1, -1, -1], [0,...</td>\n",
       "      <td>[[-7.242, -12.744, -21.486], [-7.716, -11.455,...</td>\n",
       "    </tr>\n",
       "    <tr>\n",
       "      <th>4</th>\n",
       "      <td>1a03_model1_chainA_segment4_binary.csv</td>\n",
       "      <td>[0, 1, 3, 2, 7, 4, 5, 8, 6, 12, 9, 10, 13, 11,...</td>\n",
       "      <td>[[-1, -1, -1], [-1, -1, -1], [-1, -1, -1], [0,...</td>\n",
       "      <td>[[1.536, -0.32, -6.37], [1.878, -0.516, -7.772...</td>\n",
       "    </tr>\n",
       "  </tbody>\n",
       "</table>\n",
       "</div>"
      ],
      "text/plain": [
       "                                       fn  \\\n",
       "0  1a03_model1_chainA_segment0_binary.csv   \n",
       "1  1a03_model1_chainA_segment1_binary.csv   \n",
       "2  1a03_model1_chainA_segment2_binary.csv   \n",
       "3  1a03_model1_chainA_segment3_binary.csv   \n",
       "4  1a03_model1_chainA_segment4_binary.csv   \n",
       "\n",
       "                                               order  \\\n",
       "0  [0, 1, 3, 2, 7, 4, 5, 8, 6, 12, 9, 10, 13, 11,...   \n",
       "1  [0, 1, 3, 2, 7, 4, 5, 8, 6, 12, 9, 10, 13, 11,...   \n",
       "2  [0, 1, 3, 2, 7, 4, 5, 8, 6, 12, 9, 10, 13, 11,...   \n",
       "3  [0, 1, 3, 2, 7, 4, 5, 8, 6, 12, 9, 10, 13, 11,...   \n",
       "4  [0, 1, 3, 2, 7, 4, 5, 8, 6, 12, 9, 10, 13, 11,...   \n",
       "\n",
       "                                             parents  \\\n",
       "0  [[-1, -1, -1], [-1, -1, -1], [-1, -1, -1], [0,...   \n",
       "1  [[-1, -1, -1], [-1, -1, -1], [-1, -1, -1], [0,...   \n",
       "2  [[-1, -1, -1], [-1, -1, -1], [-1, -1, -1], [0,...   \n",
       "3  [[-1, -1, -1], [-1, -1, -1], [-1, -1, -1], [0,...   \n",
       "4  [[-1, -1, -1], [-1, -1, -1], [-1, -1, -1], [0,...   \n",
       "\n",
       "                                                xsol  \n",
       "0  [[-12.449, 7.053, 5.066], [-11.098, 6.511, 5.1...  \n",
       "1  [[-11.299, -7.574, 2.87], [-11.467, -8.365, 1....  \n",
       "2  [[-10.069, -18.068, 5.889], [-9.382, -16.777, ...  \n",
       "3  [[-7.242, -12.744, -21.486], [-7.716, -11.455,...  \n",
       "4  [[1.536, -0.32, -6.37], [1.878, -0.516, -7.772...  "
      ]
     },
     "execution_count": 21,
     "metadata": {},
     "output_type": "execute_result"
    }
   ],
   "source": [
    "# generate tests when the binary and xsol information come from pickled files\n",
    "import pandas as pd\n",
    "from tqdm import tqdm\n",
    "\n",
    "def generate_tests(pdb_test):    \n",
    "    M = {'fn':[], 'order': [], 'parents': [], 'xsol':[]}\n",
    "    \n",
    "    pdb_test = set(pdb_test)\n",
    "    for key in tqdm(wd_binary):        \n",
    "        \n",
    "        fn_binary = key.replace('binary\\\\','')\n",
    "        \n",
    "        pdb_code = fn_binary.split('_')[0]\n",
    "\n",
    "        if not pdb_code in pdb_test:\n",
    "            continue\n",
    "        \n",
    "        df = wd_binary[key]\n",
    "        \n",
    "        df.fillna(-1, inplace=True)\n",
    "\n",
    "        # convert from b (binary) to s (string)\n",
    "        M['fn'].append(fn_binary)\n",
    "        M['order'].append(df['order'].values)\n",
    "        parents = zip(df['N_1'].astype(int).values, df['N_2'].astype(int).values, df['N_3'].astype(int).values)\n",
    "        # convert parents to list\n",
    "        M['parents'].append([list(p) for p in parents])\n",
    "\n",
    "        fn_xsol = 'original_sol\\\\' + fn_binary.replace('_binary.csv','.sol')\n",
    "        df = wd_original_sol[fn_xsol]\n",
    "        xsol = [[float(x) for s in df.columns for x in s.split()]]\n",
    "        xsol += [[float(x) for x in s[0].split()] for s in df.values]\n",
    "        xsol = np.array(xsol)\n",
    "        M['xsol'].append(xsol)\n",
    "\n",
    "    M = pd.DataFrame(M)\n",
    "\n",
    "    return M\n",
    "\n",
    "M = generate_tests(pdb_test)\n",
    "M.head()"
   ]
  },
  {
   "cell_type": "code",
   "execution_count": 5,
   "metadata": {},
   "outputs": [
    {
     "name": "stderr",
     "output_type": "stream",
     "text": [
      "100%|██████████| 73649/73649 [04:35<00:00, 267.16it/s]\n"
     ]
    },
    {
     "data": {
      "text/html": [
       "<div>\n",
       "<style scoped>\n",
       "    .dataframe tbody tr th:only-of-type {\n",
       "        vertical-align: middle;\n",
       "    }\n",
       "\n",
       "    .dataframe tbody tr th {\n",
       "        vertical-align: top;\n",
       "    }\n",
       "\n",
       "    .dataframe thead th {\n",
       "        text-align: right;\n",
       "    }\n",
       "</style>\n",
       "<table border=\"1\" class=\"dataframe\">\n",
       "  <thead>\n",
       "    <tr style=\"text-align: right;\">\n",
       "      <th></th>\n",
       "      <th>fn</th>\n",
       "      <th>order</th>\n",
       "      <th>parents</th>\n",
       "      <th>xsol</th>\n",
       "    </tr>\n",
       "  </thead>\n",
       "  <tbody>\n",
       "    <tr>\n",
       "      <th>0</th>\n",
       "      <td>binary\\1a03_model1_chainA_segment0_binary.csv</td>\n",
       "      <td>[0, 1, 3, 2, 7, 4, 5, 8, 6, 12, 9, 10, 13, 11,...</td>\n",
       "      <td>[[-1, -1, -1], [-1, -1, -1], [-1, -1, -1], [0,...</td>\n",
       "      <td>[[-12.449, 7.053, 5.066], [-11.098, 6.511, 5.1...</td>\n",
       "    </tr>\n",
       "    <tr>\n",
       "      <th>1</th>\n",
       "      <td>binary\\1a03_model1_chainA_segment1_binary.csv</td>\n",
       "      <td>[0, 1, 3, 2, 7, 4, 5, 8, 6, 12, 9, 10, 13, 11,...</td>\n",
       "      <td>[[-1, -1, -1], [-1, -1, -1], [-1, -1, -1], [0,...</td>\n",
       "      <td>[[-11.299, -7.574, 2.87], [-11.467, -8.365, 1....</td>\n",
       "    </tr>\n",
       "    <tr>\n",
       "      <th>2</th>\n",
       "      <td>binary\\1a03_model1_chainA_segment2_binary.csv</td>\n",
       "      <td>[0, 1, 3, 2, 7, 4, 5, 8, 6, 12, 9, 10, 13, 11,...</td>\n",
       "      <td>[[-1, -1, -1], [-1, -1, -1], [-1, -1, -1], [0,...</td>\n",
       "      <td>[[-10.069, -18.068, 5.889], [-9.382, -16.777, ...</td>\n",
       "    </tr>\n",
       "    <tr>\n",
       "      <th>3</th>\n",
       "      <td>binary\\1a03_model1_chainA_segment3_binary.csv</td>\n",
       "      <td>[0, 1, 3, 2, 7, 4, 5, 8, 6, 12, 9, 10, 13, 11,...</td>\n",
       "      <td>[[-1, -1, -1], [-1, -1, -1], [-1, -1, -1], [0,...</td>\n",
       "      <td>[[-7.242, -12.744, -21.486], [-7.716, -11.455,...</td>\n",
       "    </tr>\n",
       "    <tr>\n",
       "      <th>4</th>\n",
       "      <td>binary\\1a03_model1_chainA_segment4_binary.csv</td>\n",
       "      <td>[0, 1, 3, 2, 7, 4, 5, 8, 6, 12, 9, 10, 13, 11,...</td>\n",
       "      <td>[[-1, -1, -1], [-1, -1, -1], [-1, -1, -1], [0,...</td>\n",
       "      <td>[[1.536, -0.32, -6.37], [1.878, -0.516, -7.772...</td>\n",
       "    </tr>\n",
       "  </tbody>\n",
       "</table>\n",
       "</div>"
      ],
      "text/plain": [
       "                                              fn  \\\n",
       "0  binary\\1a03_model1_chainA_segment0_binary.csv   \n",
       "1  binary\\1a03_model1_chainA_segment1_binary.csv   \n",
       "2  binary\\1a03_model1_chainA_segment2_binary.csv   \n",
       "3  binary\\1a03_model1_chainA_segment3_binary.csv   \n",
       "4  binary\\1a03_model1_chainA_segment4_binary.csv   \n",
       "\n",
       "                                               order  \\\n",
       "0  [0, 1, 3, 2, 7, 4, 5, 8, 6, 12, 9, 10, 13, 11,...   \n",
       "1  [0, 1, 3, 2, 7, 4, 5, 8, 6, 12, 9, 10, 13, 11,...   \n",
       "2  [0, 1, 3, 2, 7, 4, 5, 8, 6, 12, 9, 10, 13, 11,...   \n",
       "3  [0, 1, 3, 2, 7, 4, 5, 8, 6, 12, 9, 10, 13, 11,...   \n",
       "4  [0, 1, 3, 2, 7, 4, 5, 8, 6, 12, 9, 10, 13, 11,...   \n",
       "\n",
       "                                             parents  \\\n",
       "0  [[-1, -1, -1], [-1, -1, -1], [-1, -1, -1], [0,...   \n",
       "1  [[-1, -1, -1], [-1, -1, -1], [-1, -1, -1], [0,...   \n",
       "2  [[-1, -1, -1], [-1, -1, -1], [-1, -1, -1], [0,...   \n",
       "3  [[-1, -1, -1], [-1, -1, -1], [-1, -1, -1], [0,...   \n",
       "4  [[-1, -1, -1], [-1, -1, -1], [-1, -1, -1], [0,...   \n",
       "\n",
       "                                                xsol  \n",
       "0  [[-12.449, 7.053, 5.066], [-11.098, 6.511, 5.1...  \n",
       "1  [[-11.299, -7.574, 2.87], [-11.467, -8.365, 1....  \n",
       "2  [[-10.069, -18.068, 5.889], [-9.382, -16.777, ...  \n",
       "3  [[-7.242, -12.744, -21.486], [-7.716, -11.455,...  \n",
       "4  [[1.536, -0.32, -6.37], [1.878, -0.516, -7.772...  "
      ]
     },
     "execution_count": 5,
     "metadata": {},
     "output_type": "execute_result"
    }
   ],
   "source": [
    "# generate tests when the binary and xsol information come from directories\n",
    "import numpy as np\n",
    "import pandas as pd\n",
    "from tqdm import tqdm\n",
    "\n",
    "wd_binary = 'binary'\n",
    "wd_original_sol = 'original_sol'\n",
    "\n",
    "def generate_tests(pdb_test):    \n",
    "    M = {'fn':[], 'order': [], 'parents': [], 'xsol':[]}\n",
    "    \n",
    "    pdb_test = set(pdb_test)\n",
    "    for fn_binary in tqdm(os.listdir(wd_binary)):\n",
    "        pdb_code = fn_binary.split('_')[0]\n",
    "        \n",
    "        if not pdb_code in pdb_test:\n",
    "            continue\n",
    "\n",
    "        fn_binary = os.path.join(wd_binary, fn_binary)\n",
    "        df = pd.read_csv(fn_binary)\n",
    "        \n",
    "        df.fillna(-1, inplace=True)\n",
    "\n",
    "        # convert from b (binary) to s (string)\n",
    "        M['fn'].append(fn_binary)\n",
    "        M['order'].append(df['order'].values)\n",
    "        parents = zip(df['N_1'].astype(int).values, df['N_2'].astype(int).values, df['N_3'].astype(int).values)\n",
    "        # convert parents to list\n",
    "        M['parents'].append([list(p) for p in parents])\n",
    "\n",
    "        fn_xsol = os.path.basename(fn_binary).replace('_binary.csv', '.sol')\n",
    "        fn_xsol = os.path.join(wd_original_sol, fn_xsol)\n",
    "\n",
    "        M['xsol'].append(np.loadtxt(fn_xsol))\n",
    "\n",
    "    M = pd.DataFrame(M)\n",
    "\n",
    "    return M\n",
    "\n",
    "M = generate_tests(pdb_test)\n",
    "M.head()"
   ]
  },
  {
   "cell_type": "code",
   "execution_count": 6,
   "metadata": {},
   "outputs": [
    {
     "data": {
      "application/vnd.plotly.v1+json": {
       "config": {
        "plotlyServerURL": "https://plot.ly"
       },
       "data": [
        {
         "alignmentgroup": "True",
         "hovertemplate": "size=%{x}<br>fn=%{y}<extra></extra>",
         "legendgroup": "",
         "marker": {
          "color": "#636efa",
          "pattern": {
           "shape": ""
          }
         },
         "name": "",
         "offsetgroup": "",
         "orientation": "v",
         "showlegend": false,
         "textposition": "auto",
         "type": "bar",
         "x": [
          19,
          24,
          29,
          34,
          39,
          44,
          49,
          54,
          59,
          64,
          69,
          74,
          79,
          84,
          89,
          94,
          99,
          104,
          109,
          114,
          119,
          124,
          129,
          134,
          139,
          144,
          149,
          154,
          159,
          164,
          169,
          174,
          179,
          184,
          189,
          194,
          199,
          204,
          209,
          214,
          219,
          224,
          229,
          234,
          239,
          244,
          249,
          254,
          259,
          264,
          269,
          274,
          279,
          284,
          289,
          294,
          299,
          309,
          319,
          324,
          329,
          334,
          339,
          354,
          364,
          369,
          384,
          409,
          424,
          449,
          459
         ],
         "xaxis": "x",
         "y": [
          1724,
          1375,
          1325,
          1188,
          1070,
          949,
          885,
          757,
          613,
          587,
          567,
          455,
          376,
          376,
          311,
          232,
          265,
          175,
          173,
          138,
          137,
          101,
          119,
          73,
          73,
          107,
          73,
          72,
          49,
          46,
          42,
          35,
          32,
          20,
          29,
          25,
          20,
          13,
          14,
          11,
          15,
          13,
          11,
          6,
          9,
          2,
          3,
          12,
          2,
          5,
          3,
          3,
          6,
          1,
          3,
          3,
          1,
          2,
          2,
          1,
          1,
          3,
          2,
          1,
          1,
          3,
          1,
          1,
          1,
          1,
          1
         ],
         "yaxis": "y"
        }
       ],
       "layout": {
        "barmode": "relative",
        "legend": {
         "tracegroupgap": 0
        },
        "margin": {
         "t": 60
        },
        "template": {
         "data": {
          "bar": [
           {
            "error_x": {
             "color": "#2a3f5f"
            },
            "error_y": {
             "color": "#2a3f5f"
            },
            "marker": {
             "line": {
              "color": "#E5ECF6",
              "width": 0.5
             },
             "pattern": {
              "fillmode": "overlay",
              "size": 10,
              "solidity": 0.2
             }
            },
            "type": "bar"
           }
          ],
          "barpolar": [
           {
            "marker": {
             "line": {
              "color": "#E5ECF6",
              "width": 0.5
             },
             "pattern": {
              "fillmode": "overlay",
              "size": 10,
              "solidity": 0.2
             }
            },
            "type": "barpolar"
           }
          ],
          "carpet": [
           {
            "aaxis": {
             "endlinecolor": "#2a3f5f",
             "gridcolor": "white",
             "linecolor": "white",
             "minorgridcolor": "white",
             "startlinecolor": "#2a3f5f"
            },
            "baxis": {
             "endlinecolor": "#2a3f5f",
             "gridcolor": "white",
             "linecolor": "white",
             "minorgridcolor": "white",
             "startlinecolor": "#2a3f5f"
            },
            "type": "carpet"
           }
          ],
          "choropleth": [
           {
            "colorbar": {
             "outlinewidth": 0,
             "ticks": ""
            },
            "type": "choropleth"
           }
          ],
          "contour": [
           {
            "colorbar": {
             "outlinewidth": 0,
             "ticks": ""
            },
            "colorscale": [
             [
              0,
              "#0d0887"
             ],
             [
              0.1111111111111111,
              "#46039f"
             ],
             [
              0.2222222222222222,
              "#7201a8"
             ],
             [
              0.3333333333333333,
              "#9c179e"
             ],
             [
              0.4444444444444444,
              "#bd3786"
             ],
             [
              0.5555555555555556,
              "#d8576b"
             ],
             [
              0.6666666666666666,
              "#ed7953"
             ],
             [
              0.7777777777777778,
              "#fb9f3a"
             ],
             [
              0.8888888888888888,
              "#fdca26"
             ],
             [
              1,
              "#f0f921"
             ]
            ],
            "type": "contour"
           }
          ],
          "contourcarpet": [
           {
            "colorbar": {
             "outlinewidth": 0,
             "ticks": ""
            },
            "type": "contourcarpet"
           }
          ],
          "heatmap": [
           {
            "colorbar": {
             "outlinewidth": 0,
             "ticks": ""
            },
            "colorscale": [
             [
              0,
              "#0d0887"
             ],
             [
              0.1111111111111111,
              "#46039f"
             ],
             [
              0.2222222222222222,
              "#7201a8"
             ],
             [
              0.3333333333333333,
              "#9c179e"
             ],
             [
              0.4444444444444444,
              "#bd3786"
             ],
             [
              0.5555555555555556,
              "#d8576b"
             ],
             [
              0.6666666666666666,
              "#ed7953"
             ],
             [
              0.7777777777777778,
              "#fb9f3a"
             ],
             [
              0.8888888888888888,
              "#fdca26"
             ],
             [
              1,
              "#f0f921"
             ]
            ],
            "type": "heatmap"
           }
          ],
          "heatmapgl": [
           {
            "colorbar": {
             "outlinewidth": 0,
             "ticks": ""
            },
            "colorscale": [
             [
              0,
              "#0d0887"
             ],
             [
              0.1111111111111111,
              "#46039f"
             ],
             [
              0.2222222222222222,
              "#7201a8"
             ],
             [
              0.3333333333333333,
              "#9c179e"
             ],
             [
              0.4444444444444444,
              "#bd3786"
             ],
             [
              0.5555555555555556,
              "#d8576b"
             ],
             [
              0.6666666666666666,
              "#ed7953"
             ],
             [
              0.7777777777777778,
              "#fb9f3a"
             ],
             [
              0.8888888888888888,
              "#fdca26"
             ],
             [
              1,
              "#f0f921"
             ]
            ],
            "type": "heatmapgl"
           }
          ],
          "histogram": [
           {
            "marker": {
             "pattern": {
              "fillmode": "overlay",
              "size": 10,
              "solidity": 0.2
             }
            },
            "type": "histogram"
           }
          ],
          "histogram2d": [
           {
            "colorbar": {
             "outlinewidth": 0,
             "ticks": ""
            },
            "colorscale": [
             [
              0,
              "#0d0887"
             ],
             [
              0.1111111111111111,
              "#46039f"
             ],
             [
              0.2222222222222222,
              "#7201a8"
             ],
             [
              0.3333333333333333,
              "#9c179e"
             ],
             [
              0.4444444444444444,
              "#bd3786"
             ],
             [
              0.5555555555555556,
              "#d8576b"
             ],
             [
              0.6666666666666666,
              "#ed7953"
             ],
             [
              0.7777777777777778,
              "#fb9f3a"
             ],
             [
              0.8888888888888888,
              "#fdca26"
             ],
             [
              1,
              "#f0f921"
             ]
            ],
            "type": "histogram2d"
           }
          ],
          "histogram2dcontour": [
           {
            "colorbar": {
             "outlinewidth": 0,
             "ticks": ""
            },
            "colorscale": [
             [
              0,
              "#0d0887"
             ],
             [
              0.1111111111111111,
              "#46039f"
             ],
             [
              0.2222222222222222,
              "#7201a8"
             ],
             [
              0.3333333333333333,
              "#9c179e"
             ],
             [
              0.4444444444444444,
              "#bd3786"
             ],
             [
              0.5555555555555556,
              "#d8576b"
             ],
             [
              0.6666666666666666,
              "#ed7953"
             ],
             [
              0.7777777777777778,
              "#fb9f3a"
             ],
             [
              0.8888888888888888,
              "#fdca26"
             ],
             [
              1,
              "#f0f921"
             ]
            ],
            "type": "histogram2dcontour"
           }
          ],
          "mesh3d": [
           {
            "colorbar": {
             "outlinewidth": 0,
             "ticks": ""
            },
            "type": "mesh3d"
           }
          ],
          "parcoords": [
           {
            "line": {
             "colorbar": {
              "outlinewidth": 0,
              "ticks": ""
             }
            },
            "type": "parcoords"
           }
          ],
          "pie": [
           {
            "automargin": true,
            "type": "pie"
           }
          ],
          "scatter": [
           {
            "fillpattern": {
             "fillmode": "overlay",
             "size": 10,
             "solidity": 0.2
            },
            "type": "scatter"
           }
          ],
          "scatter3d": [
           {
            "line": {
             "colorbar": {
              "outlinewidth": 0,
              "ticks": ""
             }
            },
            "marker": {
             "colorbar": {
              "outlinewidth": 0,
              "ticks": ""
             }
            },
            "type": "scatter3d"
           }
          ],
          "scattercarpet": [
           {
            "marker": {
             "colorbar": {
              "outlinewidth": 0,
              "ticks": ""
             }
            },
            "type": "scattercarpet"
           }
          ],
          "scattergeo": [
           {
            "marker": {
             "colorbar": {
              "outlinewidth": 0,
              "ticks": ""
             }
            },
            "type": "scattergeo"
           }
          ],
          "scattergl": [
           {
            "marker": {
             "colorbar": {
              "outlinewidth": 0,
              "ticks": ""
             }
            },
            "type": "scattergl"
           }
          ],
          "scattermapbox": [
           {
            "marker": {
             "colorbar": {
              "outlinewidth": 0,
              "ticks": ""
             }
            },
            "type": "scattermapbox"
           }
          ],
          "scatterpolar": [
           {
            "marker": {
             "colorbar": {
              "outlinewidth": 0,
              "ticks": ""
             }
            },
            "type": "scatterpolar"
           }
          ],
          "scatterpolargl": [
           {
            "marker": {
             "colorbar": {
              "outlinewidth": 0,
              "ticks": ""
             }
            },
            "type": "scatterpolargl"
           }
          ],
          "scatterternary": [
           {
            "marker": {
             "colorbar": {
              "outlinewidth": 0,
              "ticks": ""
             }
            },
            "type": "scatterternary"
           }
          ],
          "surface": [
           {
            "colorbar": {
             "outlinewidth": 0,
             "ticks": ""
            },
            "colorscale": [
             [
              0,
              "#0d0887"
             ],
             [
              0.1111111111111111,
              "#46039f"
             ],
             [
              0.2222222222222222,
              "#7201a8"
             ],
             [
              0.3333333333333333,
              "#9c179e"
             ],
             [
              0.4444444444444444,
              "#bd3786"
             ],
             [
              0.5555555555555556,
              "#d8576b"
             ],
             [
              0.6666666666666666,
              "#ed7953"
             ],
             [
              0.7777777777777778,
              "#fb9f3a"
             ],
             [
              0.8888888888888888,
              "#fdca26"
             ],
             [
              1,
              "#f0f921"
             ]
            ],
            "type": "surface"
           }
          ],
          "table": [
           {
            "cells": {
             "fill": {
              "color": "#EBF0F8"
             },
             "line": {
              "color": "white"
             }
            },
            "header": {
             "fill": {
              "color": "#C8D4E3"
             },
             "line": {
              "color": "white"
             }
            },
            "type": "table"
           }
          ]
         },
         "layout": {
          "annotationdefaults": {
           "arrowcolor": "#2a3f5f",
           "arrowhead": 0,
           "arrowwidth": 1
          },
          "autotypenumbers": "strict",
          "coloraxis": {
           "colorbar": {
            "outlinewidth": 0,
            "ticks": ""
           }
          },
          "colorscale": {
           "diverging": [
            [
             0,
             "#8e0152"
            ],
            [
             0.1,
             "#c51b7d"
            ],
            [
             0.2,
             "#de77ae"
            ],
            [
             0.3,
             "#f1b6da"
            ],
            [
             0.4,
             "#fde0ef"
            ],
            [
             0.5,
             "#f7f7f7"
            ],
            [
             0.6,
             "#e6f5d0"
            ],
            [
             0.7,
             "#b8e186"
            ],
            [
             0.8,
             "#7fbc41"
            ],
            [
             0.9,
             "#4d9221"
            ],
            [
             1,
             "#276419"
            ]
           ],
           "sequential": [
            [
             0,
             "#0d0887"
            ],
            [
             0.1111111111111111,
             "#46039f"
            ],
            [
             0.2222222222222222,
             "#7201a8"
            ],
            [
             0.3333333333333333,
             "#9c179e"
            ],
            [
             0.4444444444444444,
             "#bd3786"
            ],
            [
             0.5555555555555556,
             "#d8576b"
            ],
            [
             0.6666666666666666,
             "#ed7953"
            ],
            [
             0.7777777777777778,
             "#fb9f3a"
            ],
            [
             0.8888888888888888,
             "#fdca26"
            ],
            [
             1,
             "#f0f921"
            ]
           ],
           "sequentialminus": [
            [
             0,
             "#0d0887"
            ],
            [
             0.1111111111111111,
             "#46039f"
            ],
            [
             0.2222222222222222,
             "#7201a8"
            ],
            [
             0.3333333333333333,
             "#9c179e"
            ],
            [
             0.4444444444444444,
             "#bd3786"
            ],
            [
             0.5555555555555556,
             "#d8576b"
            ],
            [
             0.6666666666666666,
             "#ed7953"
            ],
            [
             0.7777777777777778,
             "#fb9f3a"
            ],
            [
             0.8888888888888888,
             "#fdca26"
            ],
            [
             1,
             "#f0f921"
            ]
           ]
          },
          "colorway": [
           "#636efa",
           "#EF553B",
           "#00cc96",
           "#ab63fa",
           "#FFA15A",
           "#19d3f3",
           "#FF6692",
           "#B6E880",
           "#FF97FF",
           "#FECB52"
          ],
          "font": {
           "color": "#2a3f5f"
          },
          "geo": {
           "bgcolor": "white",
           "lakecolor": "white",
           "landcolor": "#E5ECF6",
           "showlakes": true,
           "showland": true,
           "subunitcolor": "white"
          },
          "hoverlabel": {
           "align": "left"
          },
          "hovermode": "closest",
          "mapbox": {
           "style": "light"
          },
          "paper_bgcolor": "white",
          "plot_bgcolor": "#E5ECF6",
          "polar": {
           "angularaxis": {
            "gridcolor": "white",
            "linecolor": "white",
            "ticks": ""
           },
           "bgcolor": "#E5ECF6",
           "radialaxis": {
            "gridcolor": "white",
            "linecolor": "white",
            "ticks": ""
           }
          },
          "scene": {
           "xaxis": {
            "backgroundcolor": "#E5ECF6",
            "gridcolor": "white",
            "gridwidth": 2,
            "linecolor": "white",
            "showbackground": true,
            "ticks": "",
            "zerolinecolor": "white"
           },
           "yaxis": {
            "backgroundcolor": "#E5ECF6",
            "gridcolor": "white",
            "gridwidth": 2,
            "linecolor": "white",
            "showbackground": true,
            "ticks": "",
            "zerolinecolor": "white"
           },
           "zaxis": {
            "backgroundcolor": "#E5ECF6",
            "gridcolor": "white",
            "gridwidth": 2,
            "linecolor": "white",
            "showbackground": true,
            "ticks": "",
            "zerolinecolor": "white"
           }
          },
          "shapedefaults": {
           "line": {
            "color": "#2a3f5f"
           }
          },
          "ternary": {
           "aaxis": {
            "gridcolor": "white",
            "linecolor": "white",
            "ticks": ""
           },
           "baxis": {
            "gridcolor": "white",
            "linecolor": "white",
            "ticks": ""
           },
           "bgcolor": "#E5ECF6",
           "caxis": {
            "gridcolor": "white",
            "linecolor": "white",
            "ticks": ""
           }
          },
          "title": {
           "x": 0.05
          },
          "xaxis": {
           "automargin": true,
           "gridcolor": "white",
           "linecolor": "white",
           "ticks": "",
           "title": {
            "standoff": 15
           },
           "zerolinecolor": "white",
           "zerolinewidth": 2
          },
          "yaxis": {
           "automargin": true,
           "gridcolor": "white",
           "linecolor": "white",
           "ticks": "",
           "title": {
            "standoff": 15
           },
           "zerolinecolor": "white",
           "zerolinewidth": 2
          }
         }
        },
        "xaxis": {
         "anchor": "y",
         "domain": [
          0,
          1
         ],
         "title": {
          "text": "size"
         }
        },
        "yaxis": {
         "anchor": "x",
         "domain": [
          0,
          1
         ],
         "title": {
          "text": "fn"
         }
        }
       }
      }
     },
     "metadata": {},
     "output_type": "display_data"
    }
   ],
   "source": [
    "import plotly.express as px\n",
    "\n",
    "M['size'] = M['xsol'].apply(lambda x: x.shape[0])\n",
    "df_ = M.groupby('size').count().reset_index()\n",
    "\n",
    "fig = px.bar(df_, x='size', y='fn')\n",
    "fig.show()"
   ]
  },
  {
   "cell_type": "code",
   "execution_count": 7,
   "metadata": {},
   "outputs": [
    {
     "name": "stderr",
     "output_type": "stream",
     "text": [
      "100%|██████████| 14751/14751 [00:38<00:00, 382.97it/s]\n"
     ]
    }
   ],
   "source": [
    "# creating all the ddgp instances associated with the test sample\n",
    "import os\n",
    "\n",
    "os.makedirs('ddgp', exist_ok=True)\n",
    "\n",
    "\n",
    "def create_ddgp(row):\n",
    "    order = row['order']\n",
    "    \n",
    "    n = len(order)\n",
    "\n",
    "    # set permutation from original indices to ddgp indices\n",
    "    permutation = np.zeros(n, dtype=int) \n",
    "    for k, i in enumerate(order):\n",
    "        permutation[i] = k\n",
    "\n",
    "    parents = []\n",
    "    for v in row['parents']:\n",
    "        parents.append([permutation[i] for i in v])\n",
    "    \n",
    "    # The atoms follow the following ddgp order: N^1, CA^1, HA^1, ..., C^{j-1}, H^j, N^j, CA^j, HA^j, ..., C^nres\n",
    "    d = {}\n",
    "    xsol = row['xsol']\n",
    "    # exact distances between the first three atoms\n",
    "    for i in range(3):\n",
    "        d[i] = {}\n",
    "        for j in range(i-1, -1, -1):\n",
    "            d[i][j] = norm(xsol[order[i]] - xsol[order[j]])\n",
    "    \n",
    "    H = []\n",
    "    # exact distances associated with the atoms of each block ( C^{j-1}, H^j, N^j, CA^j, HA^j ), with j in {2,n}\n",
    "    for i in range(3, n-1, 5):\n",
    "        # i: C^{j-1}\n",
    "        d[i] = {}\n",
    "        d[i][i-1] = norm(xsol[order[i]] - xsol[order[i-1]])\n",
    "        d[i][i-2] = norm(xsol[order[i]] - xsol[order[i-2]])\n",
    "        d[i][i-3] = norm(xsol[order[i]] - xsol[order[i-3]])\n",
    "        \n",
    "        # i+1: H^j\n",
    "        d[i+1] = {}\n",
    "        d[i+1][i] = norm(xsol[order[i+1]] - xsol[order[i]])\n",
    "        d[i+1][i-1] = norm(xsol[order[i+1]] - xsol[order[i-1]])\n",
    "        d[i+1][i-2] = norm(xsol[order[i+1]] - xsol[order[i-2]])\n",
    "        H.append(i+1)\n",
    "\n",
    "        # i+2: N^j\n",
    "        d[i+2] = {}\n",
    "        d[i+2][i+1] = norm(xsol[order[i+2]] - xsol[order[i+1]])\n",
    "        d[i+2][i] = norm(xsol[order[i+2]] - xsol[order[i]])\n",
    "        d[i+2][i-2] = norm(xsol[order[i+2]] - xsol[order[i-2]])\n",
    "\n",
    "        # i+3: CA^j\n",
    "        d[i+3] = {}\n",
    "        d[i+3][i+2] = norm(xsol[order[i+3]] - xsol[order[i+2]])\n",
    "        d[i+3][i+1] = norm(xsol[order[i+3]] - xsol[order[i+1]])\n",
    "        d[i+3][i] = norm(xsol[order[i+3]] - xsol[order[i]])\n",
    "        d[i+3][i-2] = norm(xsol[order[i+3]] - xsol[order[i-2]])\n",
    "\n",
    "        # i+4: HA^j\n",
    "        d[i+4] = {}\n",
    "        d[i+4][i+3] = norm(xsol[order[i+4]] - xsol[order[i+3]])\n",
    "        d[i+4][i+2] = norm(xsol[order[i+4]] - xsol[order[i+2]])\n",
    "        d[i+4][i+1] = norm(xsol[order[i+4]] - xsol[order[i+1]])\n",
    "        H.append(i+4)\n",
    "    \n",
    "    # distances associated with the atom C^nres\n",
    "    i = i+5\n",
    "    d[i] = {}\n",
    "    d[i][i-1] = norm(xsol[order[i]] - xsol[order[i-1]])\n",
    "    d[i][i-2] = norm(xsol[order[i]] - xsol[order[i-2]])\n",
    "    d[i][i-3] = norm(xsol[order[i]] - xsol[order[i-3]])\n",
    "\n",
    "    # distances between hydrogen atoms that are not the adjacent and that are at most 5 angstroms apart\n",
    "    for i in range(len(H)):\n",
    "        for j in range(i-2):\n",
    "            # (i+1: H^j) and (i+4: HA^j)\n",
    "            dij = norm(xsol[order[H[i]]] - xsol[order[H[j]]])\n",
    "            if dij <= 5:\n",
    "                d[i][j] = dij\n",
    "\n",
    "    # symmetrize\n",
    "    for i in range(n):\n",
    "        for j in d[i].keys():\n",
    "            d[j][i] = d[i][j]\n",
    "    \n",
    "    D = DDGP(d, parents)\n",
    "\n",
    "    # pickle DDGP\n",
    "    # fn_ddgp = row['fn'].replace('binary', 'ddgp').replace('.csv', '.pkl')\n",
    "    fn_ddgp = os.path.basename(row['fn']).replace('binary', 'ddgp').replace('.csv', '.pkl')\n",
    "    fn_ddgp = os.path.join('ddgp', fn_ddgp)\n",
    "    with open(fn_ddgp, 'wb') as f:\n",
    "        pickle.dump(D, f)\n",
    "        \n",
    "\n",
    "for idx, row in tqdm(list(M.iterrows())):\n",
    "    try:\n",
    "        create_ddgp(row)\n",
    "    except Exception as e:\n",
    "        print(idx, e)\n",
    "        print(row['fn'])\n",
    "        raise e"
   ]
  },
  {
   "cell_type": "code",
   "execution_count": 6,
   "metadata": {},
   "outputs": [
    {
     "ename": "SyntaxError",
     "evalue": "invalid syntax (1743905887.py, line 2)",
     "output_type": "error",
     "traceback": [
      "\u001b[1;36m  Cell \u001b[1;32mIn[6], line 2\u001b[1;36m\u001b[0m\n\u001b[1;33m    iimport numpy as np\u001b[0m\n\u001b[1;37m            ^\u001b[0m\n\u001b[1;31mSyntaxError\u001b[0m\u001b[1;31m:\u001b[0m invalid syntax\n"
     ]
    }
   ],
   "source": [
    "import pandas as pd\n",
    "import numpy as np\n",
    "import plotly.express as px\n",
    "\n",
    "df_speedup = pd.read_excel('df_speedup.xlsx')\n",
    "df_speedup = df_speedup.dropna().reset_index()\n",
    "# df_speedup = df_speedup[df_speedup['speed_up'] != 1].reset_index()\n",
    "\n",
    "# max_speedup = df_speedup['speed_up'].max()\n",
    "# max_speedup = max_speedup - 1.0\n",
    "# df_speedup['speed_up'] = df_speedup.apply(lambda x : float(1.0 + ((x.loc['speed_up'] - 1.0) * 9.0 / max_speedup)) if x.loc['speed_up'] > 1 else x.loc['speed_up'], axis=1)\n",
    "\n",
    "df_speedup['speed_up'] = df_speedup.apply(lambda x : float(np.log10(x.loc['speed_up'])), axis=1)\n",
    "\n",
    "df_speedup.to_excel('df_speedup_without_none.xlsx', index=False)\n",
    "\n",
    "fig = px.histogram(df_speedup, x=\"speed_up\", nbins=50)\n",
    "fig.show()\n",
    "arroz = 1"
   ]
  },
  {
   "cell_type": "code",
   "execution_count": null,
   "metadata": {},
   "outputs": [],
   "source": []
  }
 ],
 "metadata": {
  "kernelspec": {
   "display_name": ".venv",
   "language": "python",
   "name": "python3"
  },
  "language_info": {
   "codemirror_mode": {
    "name": "ipython",
    "version": 3
   },
   "file_extension": ".py",
   "mimetype": "text/x-python",
   "name": "python",
   "nbconvert_exporter": "python",
   "pygments_lexer": "ipython3",
   "version": "3.11.9"
  }
 },
 "nbformat": 4,
 "nbformat_minor": 2
}
