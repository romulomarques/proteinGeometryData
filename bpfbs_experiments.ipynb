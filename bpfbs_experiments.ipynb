{
 "cells": [
  {
   "cell_type": "code",
   "execution_count": 1,
   "metadata": {},
   "outputs": [],
   "source": [
    "from fbs.bpfbs import *"
   ]
  },
  {
   "cell_type": "code",
   "execution_count": 2,
   "metadata": {},
   "outputs": [
    {
     "data": {
      "text/html": [
       "<div>\n",
       "<style scoped>\n",
       "    .dataframe tbody tr th:only-of-type {\n",
       "        vertical-align: middle;\n",
       "    }\n",
       "\n",
       "    .dataframe tbody tr th {\n",
       "        vertical-align: top;\n",
       "    }\n",
       "\n",
       "    .dataframe thead th {\n",
       "        text-align: right;\n",
       "    }\n",
       "</style>\n",
       "<table border=\"1\" class=\"dataframe\">\n",
       "  <thead>\n",
       "    <tr style=\"text-align: right;\">\n",
       "      <th></th>\n",
       "      <th>size</th>\n",
       "      <th>count</th>\n",
       "      <th>relfreq</th>\n",
       "      <th>pdb_code</th>\n",
       "      <th>b</th>\n",
       "    </tr>\n",
       "  </thead>\n",
       "  <tbody>\n",
       "    <tr>\n",
       "      <th>0</th>\n",
       "      <td>25</td>\n",
       "      <td>31</td>\n",
       "      <td>0.000065</td>\n",
       "      <td>2vda</td>\n",
       "      <td>1011110111101111011110111</td>\n",
       "    </tr>\n",
       "    <tr>\n",
       "      <th>1</th>\n",
       "      <td>25</td>\n",
       "      <td>29</td>\n",
       "      <td>0.000060</td>\n",
       "      <td>2lfs</td>\n",
       "      <td>1011110111101111011110111</td>\n",
       "    </tr>\n",
       "    <tr>\n",
       "      <th>2</th>\n",
       "      <td>25</td>\n",
       "      <td>23</td>\n",
       "      <td>0.000048</td>\n",
       "      <td>2kz1</td>\n",
       "      <td>1011110111101111011110111</td>\n",
       "    </tr>\n",
       "    <tr>\n",
       "      <th>3</th>\n",
       "      <td>25</td>\n",
       "      <td>21</td>\n",
       "      <td>0.000044</td>\n",
       "      <td>6h5h</td>\n",
       "      <td>1011110111101111011110111</td>\n",
       "    </tr>\n",
       "    <tr>\n",
       "      <th>4</th>\n",
       "      <td>25</td>\n",
       "      <td>20</td>\n",
       "      <td>0.000042</td>\n",
       "      <td>2ld4</td>\n",
       "      <td>1011110111101111011110111</td>\n",
       "    </tr>\n",
       "  </tbody>\n",
       "</table>\n",
       "</div>"
      ],
      "text/plain": [
       "   size  count   relfreq pdb_code                          b\n",
       "0    25     31  0.000065     2vda  1011110111101111011110111\n",
       "1    25     29  0.000060     2lfs  1011110111101111011110111\n",
       "2    25     23  0.000048     2kz1  1011110111101111011110111\n",
       "3    25     21  0.000044     6h5h  1011110111101111011110111\n",
       "4    25     20  0.000042     2ld4  1011110111101111011110111"
      ]
     },
     "execution_count": 2,
     "metadata": {},
     "output_type": "execute_result"
    }
   ],
   "source": [
    "import pickle\n",
    "\n",
    "fn_binary = 'df_count_slices.pkl'\n",
    "with open(fn_binary, 'rb') as f:\n",
    "    df = pickle.load(f)\n",
    "\n",
    "df.head()"
   ]
  },
  {
   "cell_type": "code",
   "execution_count": 3,
   "metadata": {},
   "outputs": [
    {
     "name": "stdout",
     "output_type": "stream",
     "text": [
      "states:  ['1011110111101111011110111', '1011110111101111011110111', '1011110111101111011110111', '1011110111101111011110111', '1011110111101111011110111']\n",
      "p:  [6.0383330036542327e-05, 4.789022727036116e-05, 4.164367588727057e-05, 4.164367588727057e-05, 3.956149209290704e-05]\n"
     ]
    }
   ],
   "source": [
    "seed = 42\n",
    "pdb_train, pdb_test = train_test_split(df['pdb_code'].unique(), train_size=0.8, random_state=seed)\n",
    "df_train = df[df['pdb_code'].isin(pdb_train)]\n",
    "states = list(df_train['b'])\n",
    "p = list(df_train['relfreq'])\n",
    "\n",
    "print('states: ', states[:5])\n",
    "print('p: ', p[:5])"
   ]
  },
  {
   "cell_type": "code",
   "execution_count": 4,
   "metadata": {},
   "outputs": [
    {
     "name": "stderr",
     "output_type": "stream",
     "text": [
      "100%|██████████| 73649/73649 [08:00<00:00, 153.20it/s]\n"
     ]
    },
    {
     "data": {
      "text/html": [
       "<div>\n",
       "<style scoped>\n",
       "    .dataframe tbody tr th:only-of-type {\n",
       "        vertical-align: middle;\n",
       "    }\n",
       "\n",
       "    .dataframe tbody tr th {\n",
       "        vertical-align: top;\n",
       "    }\n",
       "\n",
       "    .dataframe thead th {\n",
       "        text-align: right;\n",
       "    }\n",
       "</style>\n",
       "<table border=\"1\" class=\"dataframe\">\n",
       "  <thead>\n",
       "    <tr style=\"text-align: right;\">\n",
       "      <th></th>\n",
       "      <th>fn</th>\n",
       "      <th>order</th>\n",
       "      <th>parents</th>\n",
       "      <th>xsol</th>\n",
       "    </tr>\n",
       "  </thead>\n",
       "  <tbody>\n",
       "    <tr>\n",
       "      <th>0</th>\n",
       "      <td>binary\\1a03_model1_chainA_segment0_binary.csv</td>\n",
       "      <td>[0, 1, 3, 2, 7, 4, 5, 8, 6, 12, 9, 10, 13, 11,...</td>\n",
       "      <td>[[-1, -1, -1], [-1, -1, -1], [-1, -1, -1], [0,...</td>\n",
       "      <td>[[-12.449, 7.053, 5.066], [-11.098, 6.511, 5.1...</td>\n",
       "    </tr>\n",
       "    <tr>\n",
       "      <th>1</th>\n",
       "      <td>binary\\1a03_model1_chainA_segment1_binary.csv</td>\n",
       "      <td>[0, 1, 3, 2, 7, 4, 5, 8, 6, 12, 9, 10, 13, 11,...</td>\n",
       "      <td>[[-1, -1, -1], [-1, -1, -1], [-1, -1, -1], [0,...</td>\n",
       "      <td>[[-11.299, -7.574, 2.87], [-11.467, -8.365, 1....</td>\n",
       "    </tr>\n",
       "    <tr>\n",
       "      <th>2</th>\n",
       "      <td>binary\\1a03_model1_chainA_segment2_binary.csv</td>\n",
       "      <td>[0, 1, 3, 2, 7, 4, 5, 8, 6, 12, 9, 10, 13, 11,...</td>\n",
       "      <td>[[-1, -1, -1], [-1, -1, -1], [-1, -1, -1], [0,...</td>\n",
       "      <td>[[-10.069, -18.068, 5.889], [-9.382, -16.777, ...</td>\n",
       "    </tr>\n",
       "    <tr>\n",
       "      <th>3</th>\n",
       "      <td>binary\\1a03_model1_chainA_segment3_binary.csv</td>\n",
       "      <td>[0, 1, 3, 2, 7, 4, 5, 8, 6, 12, 9, 10, 13, 11,...</td>\n",
       "      <td>[[-1, -1, -1], [-1, -1, -1], [-1, -1, -1], [0,...</td>\n",
       "      <td>[[-7.242, -12.744, -21.486], [-7.716, -11.455,...</td>\n",
       "    </tr>\n",
       "    <tr>\n",
       "      <th>4</th>\n",
       "      <td>binary\\1a03_model1_chainA_segment4_binary.csv</td>\n",
       "      <td>[0, 1, 3, 2, 7, 4, 5, 8, 6, 12, 9, 10, 13, 11,...</td>\n",
       "      <td>[[-1, -1, -1], [-1, -1, -1], [-1, -1, -1], [0,...</td>\n",
       "      <td>[[1.536, -0.32, -6.37], [1.878, -0.516, -7.772...</td>\n",
       "    </tr>\n",
       "    <tr>\n",
       "      <th>...</th>\n",
       "      <td>...</td>\n",
       "      <td>...</td>\n",
       "      <td>...</td>\n",
       "      <td>...</td>\n",
       "    </tr>\n",
       "    <tr>\n",
       "      <th>14746</th>\n",
       "      <td>binary\\8wls_model1_chainA_segment4_binary.csv</td>\n",
       "      <td>[0, 1, 3, 2, 7, 4, 5, 8, 6, 12, 9, 10, 13, 11,...</td>\n",
       "      <td>[[-1, -1, -1], [-1, -1, -1], [-1, -1, -1], [0,...</td>\n",
       "      <td>[[15.863, -5.167, 6.072], [14.924, -4.241, 6.7...</td>\n",
       "    </tr>\n",
       "    <tr>\n",
       "      <th>14747</th>\n",
       "      <td>binary\\8wls_model1_chainA_segment5_binary.csv</td>\n",
       "      <td>[0, 1, 3, 2, 7, 4, 5, 8, 6, 12, 9, 10, 13, 11,...</td>\n",
       "      <td>[[-1, -1, -1], [-1, -1, -1], [-1, -1, -1], [0,...</td>\n",
       "      <td>[[-9.888, -4.909, 3.205], [-8.464, -4.721, 3.5...</td>\n",
       "    </tr>\n",
       "    <tr>\n",
       "      <th>14748</th>\n",
       "      <td>binary\\8wls_model1_chainA_segment6_binary.csv</td>\n",
       "      <td>[0, 1, 3, 2, 7, 4, 5, 8, 6, 12, 9, 10, 13, 11,...</td>\n",
       "      <td>[[-1, -1, -1], [-1, -1, -1], [-1, -1, -1], [0,...</td>\n",
       "      <td>[[2.196, -2.452, -6.283], [2.824, -1.142, -6.4...</td>\n",
       "    </tr>\n",
       "    <tr>\n",
       "      <th>14749</th>\n",
       "      <td>binary\\8wls_model1_chainA_segment7_binary.csv</td>\n",
       "      <td>[0, 1, 3, 2, 7, 4, 5, 8, 6, 12, 9, 10, 13, 11,...</td>\n",
       "      <td>[[-1, -1, -1], [-1, -1, -1], [-1, -1, -1], [0,...</td>\n",
       "      <td>[[-8.246, -17.427, 7.782], [-9.374, -16.486, 7...</td>\n",
       "    </tr>\n",
       "    <tr>\n",
       "      <th>14750</th>\n",
       "      <td>binary\\8wls_model1_chainA_segment8_binary.csv</td>\n",
       "      <td>[0, 1, 3, 2, 7, 4, 5, 8, 6, 12, 9, 10, 13, 11,...</td>\n",
       "      <td>[[-1, -1, -1], [-1, -1, -1], [-1, -1, -1], [0,...</td>\n",
       "      <td>[[-11.288, -17.587, -1.86], [-11.311, -16.657,...</td>\n",
       "    </tr>\n",
       "  </tbody>\n",
       "</table>\n",
       "<p>14751 rows × 4 columns</p>\n",
       "</div>"
      ],
      "text/plain": [
       "                                                  fn  \\\n",
       "0      binary\\1a03_model1_chainA_segment0_binary.csv   \n",
       "1      binary\\1a03_model1_chainA_segment1_binary.csv   \n",
       "2      binary\\1a03_model1_chainA_segment2_binary.csv   \n",
       "3      binary\\1a03_model1_chainA_segment3_binary.csv   \n",
       "4      binary\\1a03_model1_chainA_segment4_binary.csv   \n",
       "...                                              ...   \n",
       "14746  binary\\8wls_model1_chainA_segment4_binary.csv   \n",
       "14747  binary\\8wls_model1_chainA_segment5_binary.csv   \n",
       "14748  binary\\8wls_model1_chainA_segment6_binary.csv   \n",
       "14749  binary\\8wls_model1_chainA_segment7_binary.csv   \n",
       "14750  binary\\8wls_model1_chainA_segment8_binary.csv   \n",
       "\n",
       "                                                   order  \\\n",
       "0      [0, 1, 3, 2, 7, 4, 5, 8, 6, 12, 9, 10, 13, 11,...   \n",
       "1      [0, 1, 3, 2, 7, 4, 5, 8, 6, 12, 9, 10, 13, 11,...   \n",
       "2      [0, 1, 3, 2, 7, 4, 5, 8, 6, 12, 9, 10, 13, 11,...   \n",
       "3      [0, 1, 3, 2, 7, 4, 5, 8, 6, 12, 9, 10, 13, 11,...   \n",
       "4      [0, 1, 3, 2, 7, 4, 5, 8, 6, 12, 9, 10, 13, 11,...   \n",
       "...                                                  ...   \n",
       "14746  [0, 1, 3, 2, 7, 4, 5, 8, 6, 12, 9, 10, 13, 11,...   \n",
       "14747  [0, 1, 3, 2, 7, 4, 5, 8, 6, 12, 9, 10, 13, 11,...   \n",
       "14748  [0, 1, 3, 2, 7, 4, 5, 8, 6, 12, 9, 10, 13, 11,...   \n",
       "14749  [0, 1, 3, 2, 7, 4, 5, 8, 6, 12, 9, 10, 13, 11,...   \n",
       "14750  [0, 1, 3, 2, 7, 4, 5, 8, 6, 12, 9, 10, 13, 11,...   \n",
       "\n",
       "                                                 parents  \\\n",
       "0      [[-1, -1, -1], [-1, -1, -1], [-1, -1, -1], [0,...   \n",
       "1      [[-1, -1, -1], [-1, -1, -1], [-1, -1, -1], [0,...   \n",
       "2      [[-1, -1, -1], [-1, -1, -1], [-1, -1, -1], [0,...   \n",
       "3      [[-1, -1, -1], [-1, -1, -1], [-1, -1, -1], [0,...   \n",
       "4      [[-1, -1, -1], [-1, -1, -1], [-1, -1, -1], [0,...   \n",
       "...                                                  ...   \n",
       "14746  [[-1, -1, -1], [-1, -1, -1], [-1, -1, -1], [0,...   \n",
       "14747  [[-1, -1, -1], [-1, -1, -1], [-1, -1, -1], [0,...   \n",
       "14748  [[-1, -1, -1], [-1, -1, -1], [-1, -1, -1], [0,...   \n",
       "14749  [[-1, -1, -1], [-1, -1, -1], [-1, -1, -1], [0,...   \n",
       "14750  [[-1, -1, -1], [-1, -1, -1], [-1, -1, -1], [0,...   \n",
       "\n",
       "                                                    xsol  \n",
       "0      [[-12.449, 7.053, 5.066], [-11.098, 6.511, 5.1...  \n",
       "1      [[-11.299, -7.574, 2.87], [-11.467, -8.365, 1....  \n",
       "2      [[-10.069, -18.068, 5.889], [-9.382, -16.777, ...  \n",
       "3      [[-7.242, -12.744, -21.486], [-7.716, -11.455,...  \n",
       "4      [[1.536, -0.32, -6.37], [1.878, -0.516, -7.772...  \n",
       "...                                                  ...  \n",
       "14746  [[15.863, -5.167, 6.072], [14.924, -4.241, 6.7...  \n",
       "14747  [[-9.888, -4.909, 3.205], [-8.464, -4.721, 3.5...  \n",
       "14748  [[2.196, -2.452, -6.283], [2.824, -1.142, -6.4...  \n",
       "14749  [[-8.246, -17.427, 7.782], [-9.374, -16.486, 7...  \n",
       "14750  [[-11.288, -17.587, -1.86], [-11.311, -16.657,...  \n",
       "\n",
       "[14751 rows x 4 columns]"
      ]
     },
     "execution_count": 4,
     "metadata": {},
     "output_type": "execute_result"
    }
   ],
   "source": [
    "import numpy as np\n",
    "from tqdm import tqdm\n",
    "\n",
    "wd_binary = 'binary'\n",
    "wd_original_sol = 'original_sol'\n",
    "\n",
    "def generate_tests(pdb_test):    \n",
    "    M = {'fn':[], 'order': [], 'parents': [], 'xsol':[]}\n",
    "    \n",
    "    pdb_test = set(pdb_test)\n",
    "    for fn_binary in tqdm(os.listdir(wd_binary)):\n",
    "        pdb_code = fn_binary.split('_')[0]\n",
    "        if not pdb_code in pdb_test:\n",
    "            continue\n",
    "\n",
    "        fn_binary = os.path.join(wd_binary, fn_binary)\n",
    "        df = pd.read_csv(fn_binary)\n",
    "        \n",
    "        df.fillna(-1, inplace=True)\n",
    "\n",
    "        # convert from b (binary) to s (string)\n",
    "        M['fn'].append(fn_binary)\n",
    "        M['order'].append(df['order'].values)\n",
    "        parents = zip(df['N_1'].astype(int).values, df['N_2'].astype(int).values, df['N_3'].astype(int).values)\n",
    "        # convert parents to list\n",
    "        M['parents'].append([list(p) for p in parents])\n",
    "\n",
    "        fn_xsol = os.path.basename(fn_binary).replace('_binary.csv', '.sol')\n",
    "        fn_xsol = os.path.join(wd_original_sol, fn_xsol)\n",
    "\n",
    "        M['xsol'].append(np.loadtxt(fn_xsol))\n",
    "\n",
    "    M = pd.DataFrame(M)\n",
    "\n",
    "    return M\n",
    "\n",
    "M = generate_tests(pdb_test)\n",
    "M "
   ]
  },
  {
   "cell_type": "code",
   "execution_count": 5,
   "metadata": {},
   "outputs": [
    {
     "data": {
      "application/vnd.plotly.v1+json": {
       "config": {
        "plotlyServerURL": "https://plot.ly"
       },
       "data": [
        {
         "alignmentgroup": "True",
         "hovertemplate": "size=%{x}<br>fn=%{y}<extra></extra>",
         "legendgroup": "",
         "marker": {
          "color": "#636efa",
          "pattern": {
           "shape": ""
          }
         },
         "name": "",
         "offsetgroup": "",
         "orientation": "v",
         "showlegend": false,
         "textposition": "auto",
         "type": "bar",
         "x": [
          19,
          24,
          29,
          34,
          39,
          44,
          49,
          54,
          59,
          64,
          69,
          74,
          79,
          84,
          89,
          94,
          99,
          104,
          109,
          114,
          119,
          124,
          129,
          134,
          139,
          144,
          149,
          154,
          159,
          164,
          169,
          174,
          179,
          184,
          189,
          194,
          199,
          204,
          209,
          214,
          219,
          224,
          229,
          234,
          239,
          244,
          249,
          254,
          259,
          264,
          269,
          274,
          279,
          284,
          289,
          294,
          299,
          309,
          319,
          324,
          329,
          334,
          339,
          354,
          364,
          369,
          384,
          409,
          424,
          449,
          459
         ],
         "xaxis": "x",
         "y": [
          1724,
          1375,
          1325,
          1188,
          1070,
          949,
          885,
          757,
          613,
          587,
          567,
          455,
          376,
          376,
          311,
          232,
          265,
          175,
          173,
          138,
          137,
          101,
          119,
          73,
          73,
          107,
          73,
          72,
          49,
          46,
          42,
          35,
          32,
          20,
          29,
          25,
          20,
          13,
          14,
          11,
          15,
          13,
          11,
          6,
          9,
          2,
          3,
          12,
          2,
          5,
          3,
          3,
          6,
          1,
          3,
          3,
          1,
          2,
          2,
          1,
          1,
          3,
          2,
          1,
          1,
          3,
          1,
          1,
          1,
          1,
          1
         ],
         "yaxis": "y"
        }
       ],
       "layout": {
        "barmode": "relative",
        "legend": {
         "tracegroupgap": 0
        },
        "margin": {
         "t": 60
        },
        "template": {
         "data": {
          "bar": [
           {
            "error_x": {
             "color": "#2a3f5f"
            },
            "error_y": {
             "color": "#2a3f5f"
            },
            "marker": {
             "line": {
              "color": "#E5ECF6",
              "width": 0.5
             },
             "pattern": {
              "fillmode": "overlay",
              "size": 10,
              "solidity": 0.2
             }
            },
            "type": "bar"
           }
          ],
          "barpolar": [
           {
            "marker": {
             "line": {
              "color": "#E5ECF6",
              "width": 0.5
             },
             "pattern": {
              "fillmode": "overlay",
              "size": 10,
              "solidity": 0.2
             }
            },
            "type": "barpolar"
           }
          ],
          "carpet": [
           {
            "aaxis": {
             "endlinecolor": "#2a3f5f",
             "gridcolor": "white",
             "linecolor": "white",
             "minorgridcolor": "white",
             "startlinecolor": "#2a3f5f"
            },
            "baxis": {
             "endlinecolor": "#2a3f5f",
             "gridcolor": "white",
             "linecolor": "white",
             "minorgridcolor": "white",
             "startlinecolor": "#2a3f5f"
            },
            "type": "carpet"
           }
          ],
          "choropleth": [
           {
            "colorbar": {
             "outlinewidth": 0,
             "ticks": ""
            },
            "type": "choropleth"
           }
          ],
          "contour": [
           {
            "colorbar": {
             "outlinewidth": 0,
             "ticks": ""
            },
            "colorscale": [
             [
              0,
              "#0d0887"
             ],
             [
              0.1111111111111111,
              "#46039f"
             ],
             [
              0.2222222222222222,
              "#7201a8"
             ],
             [
              0.3333333333333333,
              "#9c179e"
             ],
             [
              0.4444444444444444,
              "#bd3786"
             ],
             [
              0.5555555555555556,
              "#d8576b"
             ],
             [
              0.6666666666666666,
              "#ed7953"
             ],
             [
              0.7777777777777778,
              "#fb9f3a"
             ],
             [
              0.8888888888888888,
              "#fdca26"
             ],
             [
              1,
              "#f0f921"
             ]
            ],
            "type": "contour"
           }
          ],
          "contourcarpet": [
           {
            "colorbar": {
             "outlinewidth": 0,
             "ticks": ""
            },
            "type": "contourcarpet"
           }
          ],
          "heatmap": [
           {
            "colorbar": {
             "outlinewidth": 0,
             "ticks": ""
            },
            "colorscale": [
             [
              0,
              "#0d0887"
             ],
             [
              0.1111111111111111,
              "#46039f"
             ],
             [
              0.2222222222222222,
              "#7201a8"
             ],
             [
              0.3333333333333333,
              "#9c179e"
             ],
             [
              0.4444444444444444,
              "#bd3786"
             ],
             [
              0.5555555555555556,
              "#d8576b"
             ],
             [
              0.6666666666666666,
              "#ed7953"
             ],
             [
              0.7777777777777778,
              "#fb9f3a"
             ],
             [
              0.8888888888888888,
              "#fdca26"
             ],
             [
              1,
              "#f0f921"
             ]
            ],
            "type": "heatmap"
           }
          ],
          "heatmapgl": [
           {
            "colorbar": {
             "outlinewidth": 0,
             "ticks": ""
            },
            "colorscale": [
             [
              0,
              "#0d0887"
             ],
             [
              0.1111111111111111,
              "#46039f"
             ],
             [
              0.2222222222222222,
              "#7201a8"
             ],
             [
              0.3333333333333333,
              "#9c179e"
             ],
             [
              0.4444444444444444,
              "#bd3786"
             ],
             [
              0.5555555555555556,
              "#d8576b"
             ],
             [
              0.6666666666666666,
              "#ed7953"
             ],
             [
              0.7777777777777778,
              "#fb9f3a"
             ],
             [
              0.8888888888888888,
              "#fdca26"
             ],
             [
              1,
              "#f0f921"
             ]
            ],
            "type": "heatmapgl"
           }
          ],
          "histogram": [
           {
            "marker": {
             "pattern": {
              "fillmode": "overlay",
              "size": 10,
              "solidity": 0.2
             }
            },
            "type": "histogram"
           }
          ],
          "histogram2d": [
           {
            "colorbar": {
             "outlinewidth": 0,
             "ticks": ""
            },
            "colorscale": [
             [
              0,
              "#0d0887"
             ],
             [
              0.1111111111111111,
              "#46039f"
             ],
             [
              0.2222222222222222,
              "#7201a8"
             ],
             [
              0.3333333333333333,
              "#9c179e"
             ],
             [
              0.4444444444444444,
              "#bd3786"
             ],
             [
              0.5555555555555556,
              "#d8576b"
             ],
             [
              0.6666666666666666,
              "#ed7953"
             ],
             [
              0.7777777777777778,
              "#fb9f3a"
             ],
             [
              0.8888888888888888,
              "#fdca26"
             ],
             [
              1,
              "#f0f921"
             ]
            ],
            "type": "histogram2d"
           }
          ],
          "histogram2dcontour": [
           {
            "colorbar": {
             "outlinewidth": 0,
             "ticks": ""
            },
            "colorscale": [
             [
              0,
              "#0d0887"
             ],
             [
              0.1111111111111111,
              "#46039f"
             ],
             [
              0.2222222222222222,
              "#7201a8"
             ],
             [
              0.3333333333333333,
              "#9c179e"
             ],
             [
              0.4444444444444444,
              "#bd3786"
             ],
             [
              0.5555555555555556,
              "#d8576b"
             ],
             [
              0.6666666666666666,
              "#ed7953"
             ],
             [
              0.7777777777777778,
              "#fb9f3a"
             ],
             [
              0.8888888888888888,
              "#fdca26"
             ],
             [
              1,
              "#f0f921"
             ]
            ],
            "type": "histogram2dcontour"
           }
          ],
          "mesh3d": [
           {
            "colorbar": {
             "outlinewidth": 0,
             "ticks": ""
            },
            "type": "mesh3d"
           }
          ],
          "parcoords": [
           {
            "line": {
             "colorbar": {
              "outlinewidth": 0,
              "ticks": ""
             }
            },
            "type": "parcoords"
           }
          ],
          "pie": [
           {
            "automargin": true,
            "type": "pie"
           }
          ],
          "scatter": [
           {
            "fillpattern": {
             "fillmode": "overlay",
             "size": 10,
             "solidity": 0.2
            },
            "type": "scatter"
           }
          ],
          "scatter3d": [
           {
            "line": {
             "colorbar": {
              "outlinewidth": 0,
              "ticks": ""
             }
            },
            "marker": {
             "colorbar": {
              "outlinewidth": 0,
              "ticks": ""
             }
            },
            "type": "scatter3d"
           }
          ],
          "scattercarpet": [
           {
            "marker": {
             "colorbar": {
              "outlinewidth": 0,
              "ticks": ""
             }
            },
            "type": "scattercarpet"
           }
          ],
          "scattergeo": [
           {
            "marker": {
             "colorbar": {
              "outlinewidth": 0,
              "ticks": ""
             }
            },
            "type": "scattergeo"
           }
          ],
          "scattergl": [
           {
            "marker": {
             "colorbar": {
              "outlinewidth": 0,
              "ticks": ""
             }
            },
            "type": "scattergl"
           }
          ],
          "scattermapbox": [
           {
            "marker": {
             "colorbar": {
              "outlinewidth": 0,
              "ticks": ""
             }
            },
            "type": "scattermapbox"
           }
          ],
          "scatterpolar": [
           {
            "marker": {
             "colorbar": {
              "outlinewidth": 0,
              "ticks": ""
             }
            },
            "type": "scatterpolar"
           }
          ],
          "scatterpolargl": [
           {
            "marker": {
             "colorbar": {
              "outlinewidth": 0,
              "ticks": ""
             }
            },
            "type": "scatterpolargl"
           }
          ],
          "scatterternary": [
           {
            "marker": {
             "colorbar": {
              "outlinewidth": 0,
              "ticks": ""
             }
            },
            "type": "scatterternary"
           }
          ],
          "surface": [
           {
            "colorbar": {
             "outlinewidth": 0,
             "ticks": ""
            },
            "colorscale": [
             [
              0,
              "#0d0887"
             ],
             [
              0.1111111111111111,
              "#46039f"
             ],
             [
              0.2222222222222222,
              "#7201a8"
             ],
             [
              0.3333333333333333,
              "#9c179e"
             ],
             [
              0.4444444444444444,
              "#bd3786"
             ],
             [
              0.5555555555555556,
              "#d8576b"
             ],
             [
              0.6666666666666666,
              "#ed7953"
             ],
             [
              0.7777777777777778,
              "#fb9f3a"
             ],
             [
              0.8888888888888888,
              "#fdca26"
             ],
             [
              1,
              "#f0f921"
             ]
            ],
            "type": "surface"
           }
          ],
          "table": [
           {
            "cells": {
             "fill": {
              "color": "#EBF0F8"
             },
             "line": {
              "color": "white"
             }
            },
            "header": {
             "fill": {
              "color": "#C8D4E3"
             },
             "line": {
              "color": "white"
             }
            },
            "type": "table"
           }
          ]
         },
         "layout": {
          "annotationdefaults": {
           "arrowcolor": "#2a3f5f",
           "arrowhead": 0,
           "arrowwidth": 1
          },
          "autotypenumbers": "strict",
          "coloraxis": {
           "colorbar": {
            "outlinewidth": 0,
            "ticks": ""
           }
          },
          "colorscale": {
           "diverging": [
            [
             0,
             "#8e0152"
            ],
            [
             0.1,
             "#c51b7d"
            ],
            [
             0.2,
             "#de77ae"
            ],
            [
             0.3,
             "#f1b6da"
            ],
            [
             0.4,
             "#fde0ef"
            ],
            [
             0.5,
             "#f7f7f7"
            ],
            [
             0.6,
             "#e6f5d0"
            ],
            [
             0.7,
             "#b8e186"
            ],
            [
             0.8,
             "#7fbc41"
            ],
            [
             0.9,
             "#4d9221"
            ],
            [
             1,
             "#276419"
            ]
           ],
           "sequential": [
            [
             0,
             "#0d0887"
            ],
            [
             0.1111111111111111,
             "#46039f"
            ],
            [
             0.2222222222222222,
             "#7201a8"
            ],
            [
             0.3333333333333333,
             "#9c179e"
            ],
            [
             0.4444444444444444,
             "#bd3786"
            ],
            [
             0.5555555555555556,
             "#d8576b"
            ],
            [
             0.6666666666666666,
             "#ed7953"
            ],
            [
             0.7777777777777778,
             "#fb9f3a"
            ],
            [
             0.8888888888888888,
             "#fdca26"
            ],
            [
             1,
             "#f0f921"
            ]
           ],
           "sequentialminus": [
            [
             0,
             "#0d0887"
            ],
            [
             0.1111111111111111,
             "#46039f"
            ],
            [
             0.2222222222222222,
             "#7201a8"
            ],
            [
             0.3333333333333333,
             "#9c179e"
            ],
            [
             0.4444444444444444,
             "#bd3786"
            ],
            [
             0.5555555555555556,
             "#d8576b"
            ],
            [
             0.6666666666666666,
             "#ed7953"
            ],
            [
             0.7777777777777778,
             "#fb9f3a"
            ],
            [
             0.8888888888888888,
             "#fdca26"
            ],
            [
             1,
             "#f0f921"
            ]
           ]
          },
          "colorway": [
           "#636efa",
           "#EF553B",
           "#00cc96",
           "#ab63fa",
           "#FFA15A",
           "#19d3f3",
           "#FF6692",
           "#B6E880",
           "#FF97FF",
           "#FECB52"
          ],
          "font": {
           "color": "#2a3f5f"
          },
          "geo": {
           "bgcolor": "white",
           "lakecolor": "white",
           "landcolor": "#E5ECF6",
           "showlakes": true,
           "showland": true,
           "subunitcolor": "white"
          },
          "hoverlabel": {
           "align": "left"
          },
          "hovermode": "closest",
          "mapbox": {
           "style": "light"
          },
          "paper_bgcolor": "white",
          "plot_bgcolor": "#E5ECF6",
          "polar": {
           "angularaxis": {
            "gridcolor": "white",
            "linecolor": "white",
            "ticks": ""
           },
           "bgcolor": "#E5ECF6",
           "radialaxis": {
            "gridcolor": "white",
            "linecolor": "white",
            "ticks": ""
           }
          },
          "scene": {
           "xaxis": {
            "backgroundcolor": "#E5ECF6",
            "gridcolor": "white",
            "gridwidth": 2,
            "linecolor": "white",
            "showbackground": true,
            "ticks": "",
            "zerolinecolor": "white"
           },
           "yaxis": {
            "backgroundcolor": "#E5ECF6",
            "gridcolor": "white",
            "gridwidth": 2,
            "linecolor": "white",
            "showbackground": true,
            "ticks": "",
            "zerolinecolor": "white"
           },
           "zaxis": {
            "backgroundcolor": "#E5ECF6",
            "gridcolor": "white",
            "gridwidth": 2,
            "linecolor": "white",
            "showbackground": true,
            "ticks": "",
            "zerolinecolor": "white"
           }
          },
          "shapedefaults": {
           "line": {
            "color": "#2a3f5f"
           }
          },
          "ternary": {
           "aaxis": {
            "gridcolor": "white",
            "linecolor": "white",
            "ticks": ""
           },
           "baxis": {
            "gridcolor": "white",
            "linecolor": "white",
            "ticks": ""
           },
           "bgcolor": "#E5ECF6",
           "caxis": {
            "gridcolor": "white",
            "linecolor": "white",
            "ticks": ""
           }
          },
          "title": {
           "x": 0.05
          },
          "xaxis": {
           "automargin": true,
           "gridcolor": "white",
           "linecolor": "white",
           "ticks": "",
           "title": {
            "standoff": 15
           },
           "zerolinecolor": "white",
           "zerolinewidth": 2
          },
          "yaxis": {
           "automargin": true,
           "gridcolor": "white",
           "linecolor": "white",
           "ticks": "",
           "title": {
            "standoff": 15
           },
           "zerolinecolor": "white",
           "zerolinewidth": 2
          }
         }
        },
        "xaxis": {
         "anchor": "y",
         "domain": [
          0,
          1
         ],
         "title": {
          "text": "size"
         }
        },
        "yaxis": {
         "anchor": "x",
         "domain": [
          0,
          1
         ],
         "title": {
          "text": "fn"
         }
        }
       }
      }
     },
     "metadata": {},
     "output_type": "display_data"
    }
   ],
   "source": [
    "import plotly.express as px\n",
    "\n",
    "M['size'] = M['xsol'].apply(lambda x: x.shape[0])\n",
    "df_ = M.groupby('size').count().reset_index()\n",
    "\n",
    "fig = px.bar(df_, x='size', y='fn')\n",
    "fig.show()"
   ]
  },
  {
   "cell_type": "code",
   "execution_count": 17,
   "metadata": {},
   "outputs": [
    {
     "name": "stderr",
     "output_type": "stream",
     "text": [
      " 41%|████      | 6038/14751 [04:41<06:45, 21.48it/s]   \n"
     ]
    },
    {
     "ename": "KeyboardInterrupt",
     "evalue": "",
     "output_type": "error",
     "traceback": [
      "\u001b[1;31m---------------------------------------------------------------------------\u001b[0m",
      "\u001b[1;31mKeyboardInterrupt\u001b[0m                         Traceback (most recent call last)",
      "Cell \u001b[1;32mIn[17], line 36\u001b[0m\n\u001b[0;32m     34\u001b[0m d[i\u001b[38;5;241m+\u001b[39m\u001b[38;5;241m1\u001b[39m] \u001b[38;5;241m=\u001b[39m {}\n\u001b[0;32m     35\u001b[0m d[i\u001b[38;5;241m+\u001b[39m\u001b[38;5;241m1\u001b[39m][i] \u001b[38;5;241m=\u001b[39m norm(xsol[order[i\u001b[38;5;241m+\u001b[39m\u001b[38;5;241m1\u001b[39m]] \u001b[38;5;241m-\u001b[39m xsol[order[i]])\n\u001b[1;32m---> 36\u001b[0m d[i\u001b[38;5;241m+\u001b[39m\u001b[38;5;241m1\u001b[39m][i\u001b[38;5;241m-\u001b[39m\u001b[38;5;241m1\u001b[39m] \u001b[38;5;241m=\u001b[39m \u001b[43mnorm\u001b[49m\u001b[43m(\u001b[49m\u001b[43mxsol\u001b[49m\u001b[43m[\u001b[49m\u001b[43morder\u001b[49m\u001b[43m[\u001b[49m\u001b[43mi\u001b[49m\u001b[38;5;241;43m+\u001b[39;49m\u001b[38;5;241;43m1\u001b[39;49m\u001b[43m]\u001b[49m\u001b[43m]\u001b[49m\u001b[43m \u001b[49m\u001b[38;5;241;43m-\u001b[39;49m\u001b[43m \u001b[49m\u001b[43mxsol\u001b[49m\u001b[43m[\u001b[49m\u001b[43morder\u001b[49m\u001b[43m[\u001b[49m\u001b[43mi\u001b[49m\u001b[38;5;241;43m-\u001b[39;49m\u001b[38;5;241;43m1\u001b[39;49m\u001b[43m]\u001b[49m\u001b[43m]\u001b[49m\u001b[43m)\u001b[49m\n\u001b[0;32m     37\u001b[0m d[i\u001b[38;5;241m+\u001b[39m\u001b[38;5;241m1\u001b[39m][i\u001b[38;5;241m-\u001b[39m\u001b[38;5;241m2\u001b[39m] \u001b[38;5;241m=\u001b[39m norm(xsol[order[i\u001b[38;5;241m+\u001b[39m\u001b[38;5;241m1\u001b[39m]] \u001b[38;5;241m-\u001b[39m xsol[order[i\u001b[38;5;241m-\u001b[39m\u001b[38;5;241m2\u001b[39m]])\n\u001b[0;32m     38\u001b[0m H\u001b[38;5;241m.\u001b[39mappend(i\u001b[38;5;241m+\u001b[39m\u001b[38;5;241m1\u001b[39m)\n",
      "File \u001b[1;32m~\\AppData\\Local\\Packages\\PythonSoftwareFoundation.Python.3.11_qbz5n2kfra8p0\\LocalCache\\local-packages\\Python311\\site-packages\\numpy\\linalg\\linalg.py:2552\u001b[0m, in \u001b[0;36mnorm\u001b[1;34m(x, ord, axis, keepdims)\u001b[0m\n\u001b[0;32m   2550\u001b[0m     sqnorm \u001b[38;5;241m=\u001b[39m x_real\u001b[38;5;241m.\u001b[39mdot(x_real) \u001b[38;5;241m+\u001b[39m x_imag\u001b[38;5;241m.\u001b[39mdot(x_imag)\n\u001b[0;32m   2551\u001b[0m \u001b[38;5;28;01melse\u001b[39;00m:\n\u001b[1;32m-> 2552\u001b[0m     sqnorm \u001b[38;5;241m=\u001b[39m \u001b[43mx\u001b[49m\u001b[38;5;241;43m.\u001b[39;49m\u001b[43mdot\u001b[49m\u001b[43m(\u001b[49m\u001b[43mx\u001b[49m\u001b[43m)\u001b[49m\n\u001b[0;32m   2553\u001b[0m ret \u001b[38;5;241m=\u001b[39m sqrt(sqnorm)\n\u001b[0;32m   2554\u001b[0m \u001b[38;5;28;01mif\u001b[39;00m keepdims:\n",
      "\u001b[1;31mKeyboardInterrupt\u001b[0m: "
     ]
    }
   ],
   "source": [
    "import pandas as pd\n",
    "import numpy as np\n",
    "\n",
    "for _, row in tqdm(list(M.iterrows())):\n",
    "    order = row['order']\n",
    "    \n",
    "    n = len(order)\n",
    "    row_parents = row['parents']\n",
    "    parents = [[] for i in range(n)]\n",
    "    for i in range(n):\n",
    "        parents[i] = row_parents[i]\n",
    "    \n",
    "    \n",
    "    # The atoms follow the following ddgp order: N^1, CA^1, HA^1, ..., C^{j-1}, H^j, N^j, CA^j, HA^j, ..., C^nres\n",
    "    d = {}\n",
    "    xsol = row['xsol']\n",
    "    # exact distances between the first three atoms\n",
    "    for i in range(3):\n",
    "        d[i] = {}\n",
    "        for j in range(i-1, 0, -1):\n",
    "            d[i][j] = norm(xsol[order[i]] - xsol[order[j]])\n",
    "    \n",
    "    H = []\n",
    "    # exact distances associated with the atoms of each block ( C^{j-1}, H^j, N^j, CA^j, HA^j ), with j in {2,n}\n",
    "    for i in range(3, n-1, 5):\n",
    "        # i: C^{j-1}\n",
    "        d[i] = {}\n",
    "        d[i][i-1] = norm(xsol[order[i]] - xsol[order[i-1]])\n",
    "        d[i][i-2] = norm(xsol[order[i]] - xsol[order[i-2]])\n",
    "        d[i][i-3] = norm(xsol[order[i]] - xsol[order[i-3]])\n",
    "        \n",
    "        # i+1: H^j\n",
    "        d[i+1] = {}\n",
    "        d[i+1][i] = norm(xsol[order[i+1]] - xsol[order[i]])\n",
    "        d[i+1][i-1] = norm(xsol[order[i+1]] - xsol[order[i-1]])\n",
    "        d[i+1][i-2] = norm(xsol[order[i+1]] - xsol[order[i-2]])\n",
    "        H.append(i+1)\n",
    "\n",
    "        # i+2: N^j\n",
    "        d[i+2] = {}\n",
    "        d[i+2][i+1] = norm(xsol[order[i+2]] - xsol[order[i+1]])\n",
    "        d[i+2][i] = norm(xsol[order[i+2]] - xsol[order[i]])\n",
    "        d[i+2][i-2] = norm(xsol[order[i+2]] - xsol[order[i-2]])\n",
    "\n",
    "        # i+3: CA^j\n",
    "        d[i+3] = {}\n",
    "        d[i+3][i+2] = norm(xsol[order[i+3]] - xsol[order[i+2]])\n",
    "        d[i+3][i+1] = norm(xsol[order[i+3]] - xsol[order[i+1]])\n",
    "        d[i+3][i] = norm(xsol[order[i+3]] - xsol[order[i]])\n",
    "        d[i+3][i-2] = norm(xsol[order[i+3]] - xsol[order[i-2]])\n",
    "\n",
    "        # i+4: HA^j\n",
    "        d[i+4] = {}\n",
    "        d[i+4][i+3] = norm(xsol[order[i+4]] - xsol[order[i+3]])\n",
    "        d[i+4][i+2] = norm(xsol[order[i+4]] - xsol[order[i+2]])\n",
    "        d[i+4][i+1] = norm(xsol[order[i+4]] - xsol[order[i+1]])\n",
    "        H.append(i+4)\n",
    "    \n",
    "    # distances associated with the atom C^nres\n",
    "    i = i+5\n",
    "    d[i] = {}\n",
    "    d[i][i-1] = norm(xsol[order[i]] - xsol[order[i-1]])\n",
    "    d[i][i-2] = norm(xsol[order[i]] - xsol[order[i-2]])\n",
    "    d[i][i-3] = norm(xsol[order[i]] - xsol[order[i-3]])\n",
    "\n",
    "    # distances between hydrogen atoms that are not the adjacent and that are at most 5 angstroms apart\n",
    "    for i in range(len(H)):\n",
    "        for j in range(i-2):\n",
    "            # (i+1: H^j) and (i+4: HA^j)\n",
    "            dij = norm(xsol[order[H[i]]] - xsol[order[H[j]]])\n",
    "            if dij <= 5:\n",
    "                d[i][j] = dij\n",
    "\n",
    "    # symmetrize\n",
    "    for i in range(n):\n",
    "        for j in d[i].keys():\n",
    "            d[j][i] = d[i][j]\n",
    "    \n",
    "    D = DDGP(d, parents)\n",
    "    arroz = 1\n",
    "\n",
    "\n",
    "        \n",
    "\n",
    "    "
   ]
  },
  {
   "cell_type": "code",
   "execution_count": 10,
   "metadata": {},
   "outputs": [
    {
     "name": "stderr",
     "output_type": "stream",
     "text": [
      "100%|██████████| 73649/73649 [21:08<00:00, 58.06it/s] \n"
     ]
    }
   ],
   "source": [
    "import pickle\n",
    "import pandas as pd\n",
    "\n",
    "wd_original_sol = 'original_sol'\n",
    "\n",
    "all_solutions = {}\n",
    "for fn_sol in tqdm(os.listdir(wd_original_sol)):\n",
    "    fn_sol = os.path.join(wd_original_sol, fn_sol)\n",
    "    this_df = pd.read_csv(fn_sol)\n",
    "    all_solutions[fn_sol] = this_df\n",
    "\n",
    "with open('pickled_original_sol', 'wb') as f:\n",
    "    pickle.dump(all_solutions, f)"
   ]
  },
  {
   "cell_type": "code",
   "execution_count": 9,
   "metadata": {},
   "outputs": [
    {
     "name": "stderr",
     "output_type": "stream",
     "text": [
      "100%|██████████| 73649/73649 [03:00<00:00, 408.44it/s]\n"
     ]
    }
   ],
   "source": [
    "import pickle\n",
    "import pandas as pd\n",
    "\n",
    "wd_binary = 'binary'\n",
    "wd_original_sol = 'original_sol'\n",
    "\n",
    "all_binary_files = {}\n",
    "for fn_binary in tqdm(os.listdir(wd_binary)):\n",
    "    fn_binary = os.path.join(wd_binary, fn_binary)\n",
    "    this_df = pd.read_csv(fn_binary)\n",
    "    all_binary_files[fn_binary] = this_df\n",
    "\n",
    "with open('pickled_binary', 'wb') as f:\n",
    "    pickle.dump(all_binary_files, f)\n",
    "    "
   ]
  }
 ],
 "metadata": {
  "kernelspec": {
   "display_name": ".venv",
   "language": "python",
   "name": "python3"
  },
  "language_info": {
   "codemirror_mode": {
    "name": "ipython",
    "version": 3
   },
   "file_extension": ".py",
   "mimetype": "text/x-python",
   "name": "python",
   "nbconvert_exporter": "python",
   "pygments_lexer": "ipython3",
   "version": "3.11.9"
  }
 },
 "nbformat": 4,
 "nbformat_minor": 2
}
