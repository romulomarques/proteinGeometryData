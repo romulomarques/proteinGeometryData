{
 "cells": [
  {
   "cell_type": "code",
   "execution_count": 1,
   "metadata": {},
   "outputs": [],
   "source": [
    "from fbs.bpfbs import *"
   ]
  },
  {
   "cell_type": "code",
   "execution_count": 2,
   "metadata": {},
   "outputs": [
    {
     "data": {
      "text/html": [
       "<div>\n",
       "<style scoped>\n",
       "    .dataframe tbody tr th:only-of-type {\n",
       "        vertical-align: middle;\n",
       "    }\n",
       "\n",
       "    .dataframe tbody tr th {\n",
       "        vertical-align: top;\n",
       "    }\n",
       "\n",
       "    .dataframe thead th {\n",
       "        text-align: right;\n",
       "    }\n",
       "</style>\n",
       "<table border=\"1\" class=\"dataframe\">\n",
       "  <thead>\n",
       "    <tr style=\"text-align: right;\">\n",
       "      <th></th>\n",
       "      <th>size</th>\n",
       "      <th>count</th>\n",
       "      <th>relfreq</th>\n",
       "      <th>pdb_code</th>\n",
       "      <th>b</th>\n",
       "    </tr>\n",
       "  </thead>\n",
       "  <tbody>\n",
       "    <tr>\n",
       "      <th>1305030</th>\n",
       "      <td>25</td>\n",
       "      <td>31</td>\n",
       "      <td>0.000065</td>\n",
       "      <td>2vda</td>\n",
       "      <td>1011110111101111011110111</td>\n",
       "    </tr>\n",
       "    <tr>\n",
       "      <th>1304751</th>\n",
       "      <td>25</td>\n",
       "      <td>29</td>\n",
       "      <td>0.000060</td>\n",
       "      <td>2lfs</td>\n",
       "      <td>1011110111101111011110111</td>\n",
       "    </tr>\n",
       "    <tr>\n",
       "      <th>1304689</th>\n",
       "      <td>25</td>\n",
       "      <td>23</td>\n",
       "      <td>0.000048</td>\n",
       "      <td>2kz1</td>\n",
       "      <td>1011110111101111011110111</td>\n",
       "    </tr>\n",
       "    <tr>\n",
       "      <th>1305167</th>\n",
       "      <td>25</td>\n",
       "      <td>21</td>\n",
       "      <td>0.000044</td>\n",
       "      <td>6h5h</td>\n",
       "      <td>1011110111101111011110111</td>\n",
       "    </tr>\n",
       "    <tr>\n",
       "      <th>1304740</th>\n",
       "      <td>25</td>\n",
       "      <td>20</td>\n",
       "      <td>0.000042</td>\n",
       "      <td>2ld4</td>\n",
       "      <td>1011110111101111011110111</td>\n",
       "    </tr>\n",
       "  </tbody>\n",
       "</table>\n",
       "</div>"
      ],
      "text/plain": [
       "         size  count   relfreq pdb_code                          b\n",
       "1305030    25     31  0.000065     2vda  1011110111101111011110111\n",
       "1304751    25     29  0.000060     2lfs  1011110111101111011110111\n",
       "1304689    25     23  0.000048     2kz1  1011110111101111011110111\n",
       "1305167    25     21  0.000044     6h5h  1011110111101111011110111\n",
       "1304740    25     20  0.000042     2ld4  1011110111101111011110111"
      ]
     },
     "execution_count": 2,
     "metadata": {},
     "output_type": "execute_result"
    }
   ],
   "source": [
    "import pickle\n",
    "\n",
    "fn_binary = 'pickled_df_count_slices.pkl'\n",
    "with open(fn_binary, 'rb') as f:\n",
    "    df = pickle.load(f)\n",
    "\n",
    "df.head()"
   ]
  },
  {
   "cell_type": "code",
   "execution_count": 6,
   "metadata": {},
   "outputs": [
    {
     "data": {
      "text/html": [
       "<div>\n",
       "<style scoped>\n",
       "    .dataframe tbody tr th:only-of-type {\n",
       "        vertical-align: middle;\n",
       "    }\n",
       "\n",
       "    .dataframe tbody tr th {\n",
       "        vertical-align: top;\n",
       "    }\n",
       "\n",
       "    .dataframe thead th {\n",
       "        text-align: right;\n",
       "    }\n",
       "</style>\n",
       "<table border=\"1\" class=\"dataframe\">\n",
       "  <thead>\n",
       "    <tr style=\"text-align: right;\">\n",
       "      <th></th>\n",
       "      <th>count</th>\n",
       "    </tr>\n",
       "    <tr>\n",
       "      <th>type</th>\n",
       "      <th></th>\n",
       "    </tr>\n",
       "  </thead>\n",
       "  <tbody>\n",
       "    <tr>\n",
       "      <th>str</th>\n",
       "      <td>2080220</td>\n",
       "    </tr>\n",
       "  </tbody>\n",
       "</table>\n",
       "</div>"
      ],
      "text/plain": [
       "        count\n",
       "type         \n",
       "str   2080220"
      ]
     },
     "execution_count": 6,
     "metadata": {},
     "output_type": "execute_result"
    }
   ],
   "source": [
    "df['type'] = df['b'].apply(lambda x: type(x).__name__)\n",
    "\n",
    "df[['type','count']].groupby('type').count()"
   ]
  },
  {
   "cell_type": "code",
   "execution_count": 3,
   "metadata": {},
   "outputs": [
    {
     "name": "stdout",
     "output_type": "stream",
     "text": [
      "states:  ['1011110111101111011110111', '1101110111101111011110111', '1011111011101111011110111', '1101111011110111101111011', '1011110111100111011110111']\n",
      "p:  [0.0048952141005486555, 0.001796924614535725, 0.0016532539327246416, 0.0016407608299584603, 0.0015720487647444639]\n"
     ]
    }
   ],
   "source": [
    "# generate a sample of training-testing pbd binary data\n",
    "from sklearn.model_selection import train_test_split\n",
    "\n",
    "seed = 42\n",
    "\n",
    "# selecting the train-test sample based on the choosen pdb_codes\n",
    "pdb_train, pdb_test = train_test_split(df['pdb_code'].unique(), train_size=0.8, random_state=seed)\n",
    "df_train = df[df['pdb_code'].isin(pdb_train)]\n",
    "\n",
    "# once the sample was choosen, we need to group the identical binaries present in different pdb instances,\n",
    "# summing up their absolute frequency (count) and their relative frequency (relfreq).\n",
    "df_train = df_train.groupby(['b', 'size']).agg({'count': 'sum', 'relfreq': 'sum'}).reset_index()\n",
    "df_train.sort_values(by=['size', 'count'], inplace=True, ascending=False)\n",
    "df_train = df_train[['size', 'count', 'relfreq', 'b']]\n",
    "\n",
    "states = list(df_train['b'])\n",
    "p = list(df_train['relfreq'])\n",
    "\n",
    "\n",
    "# adding missing binary statis of length 5 if it is necessary.\n",
    "# it also adds the relative frequencies of the missing states as the uniform distribution\n",
    "# in order to the sum of all frequencies be 1.\n",
    "from itertools import product\n",
    "\n",
    "states_len_5 = []\n",
    "p_len_5 = []\n",
    "for i in range(len(states)):\n",
    "    s = states[i]\n",
    "    prob = p[i]\n",
    "    if len(s) == 5:\n",
    "        states_len_5.append(s)\n",
    "        p_len_5.append(prob)\n",
    "\n",
    "if len(states_len_5) < 32:\n",
    "    all_bin_len_5 = set(product(range(2), repeat=5))\n",
    "    \n",
    "    missing_states_len_5 = list(all_bin_len_5 - set(states_len_5))\n",
    "    \n",
    "    p_len_5 = np.array(p_len_5)\n",
    "    missing_prob_uniform = (float(1 - np.sum(p_len_5)))/float(len(missing_states_len_5))\n",
    "    \n",
    "    for i in range(len(missing_states_len_5)):\n",
    "        states.append(missing_states_len_5[i])\n",
    "        p.append(missing_prob_uniform)\n",
    "\n",
    "    \n",
    "\n",
    "print('states: ', states[:5])\n",
    "print('p: ', p[:5])\n",
    "\n",
    "fn = 'pickled_states.pkl'\n",
    "with open(fn, 'wb') as f:\n",
    "    pickle.dump((states,p), f)\n",
    "\n",
    "\n",
    "# df_la = df.groupby(['b', 'size']).agg({'count': 'sum', 'relfreq': 'sum'}).reset_index()\n",
    "# df_la.sort_values(by=['size', 'count'], inplace=True, ascending=False)\n",
    "# df_la = df_la[['size', 'count', 'relfreq', 'b']]"
   ]
  },
  {
   "cell_type": "code",
   "execution_count": 20,
   "metadata": {},
   "outputs": [],
   "source": [
    "import pickle\n",
    "\n",
    "with open('pickled_binary.pkl', 'rb') as f:\n",
    "    wd_binary = pickle.load(f)\n",
    "\n",
    "with open('pickled_original_sol.pkl', 'rb') as f:\n",
    "    wd_original_sol = pickle.load(f)"
   ]
  },
  {
   "cell_type": "code",
   "execution_count": 21,
   "metadata": {},
   "outputs": [
    {
     "name": "stderr",
     "output_type": "stream",
     "text": [
      "100%|██████████| 73649/73649 [00:23<00:00, 3165.98it/s]\n"
     ]
    },
    {
     "data": {
      "text/html": [
       "<div>\n",
       "<style scoped>\n",
       "    .dataframe tbody tr th:only-of-type {\n",
       "        vertical-align: middle;\n",
       "    }\n",
       "\n",
       "    .dataframe tbody tr th {\n",
       "        vertical-align: top;\n",
       "    }\n",
       "\n",
       "    .dataframe thead th {\n",
       "        text-align: right;\n",
       "    }\n",
       "</style>\n",
       "<table border=\"1\" class=\"dataframe\">\n",
       "  <thead>\n",
       "    <tr style=\"text-align: right;\">\n",
       "      <th></th>\n",
       "      <th>fn</th>\n",
       "      <th>order</th>\n",
       "      <th>parents</th>\n",
       "      <th>xsol</th>\n",
       "    </tr>\n",
       "  </thead>\n",
       "  <tbody>\n",
       "    <tr>\n",
       "      <th>0</th>\n",
       "      <td>1a03_model1_chainA_segment0_binary.csv</td>\n",
       "      <td>[0, 1, 3, 2, 7, 4, 5, 8, 6, 12, 9, 10, 13, 11,...</td>\n",
       "      <td>[[-1, -1, -1], [-1, -1, -1], [-1, -1, -1], [0,...</td>\n",
       "      <td>[[-12.449, 7.053, 5.066], [-11.098, 6.511, 5.1...</td>\n",
       "    </tr>\n",
       "    <tr>\n",
       "      <th>1</th>\n",
       "      <td>1a03_model1_chainA_segment1_binary.csv</td>\n",
       "      <td>[0, 1, 3, 2, 7, 4, 5, 8, 6, 12, 9, 10, 13, 11,...</td>\n",
       "      <td>[[-1, -1, -1], [-1, -1, -1], [-1, -1, -1], [0,...</td>\n",
       "      <td>[[-11.299, -7.574, 2.87], [-11.467, -8.365, 1....</td>\n",
       "    </tr>\n",
       "    <tr>\n",
       "      <th>2</th>\n",
       "      <td>1a03_model1_chainA_segment2_binary.csv</td>\n",
       "      <td>[0, 1, 3, 2, 7, 4, 5, 8, 6, 12, 9, 10, 13, 11,...</td>\n",
       "      <td>[[-1, -1, -1], [-1, -1, -1], [-1, -1, -1], [0,...</td>\n",
       "      <td>[[-10.069, -18.068, 5.889], [-9.382, -16.777, ...</td>\n",
       "    </tr>\n",
       "    <tr>\n",
       "      <th>3</th>\n",
       "      <td>1a03_model1_chainA_segment3_binary.csv</td>\n",
       "      <td>[0, 1, 3, 2, 7, 4, 5, 8, 6, 12, 9, 10, 13, 11,...</td>\n",
       "      <td>[[-1, -1, -1], [-1, -1, -1], [-1, -1, -1], [0,...</td>\n",
       "      <td>[[-7.242, -12.744, -21.486], [-7.716, -11.455,...</td>\n",
       "    </tr>\n",
       "    <tr>\n",
       "      <th>4</th>\n",
       "      <td>1a03_model1_chainA_segment4_binary.csv</td>\n",
       "      <td>[0, 1, 3, 2, 7, 4, 5, 8, 6, 12, 9, 10, 13, 11,...</td>\n",
       "      <td>[[-1, -1, -1], [-1, -1, -1], [-1, -1, -1], [0,...</td>\n",
       "      <td>[[1.536, -0.32, -6.37], [1.878, -0.516, -7.772...</td>\n",
       "    </tr>\n",
       "  </tbody>\n",
       "</table>\n",
       "</div>"
      ],
      "text/plain": [
       "                                       fn  \\\n",
       "0  1a03_model1_chainA_segment0_binary.csv   \n",
       "1  1a03_model1_chainA_segment1_binary.csv   \n",
       "2  1a03_model1_chainA_segment2_binary.csv   \n",
       "3  1a03_model1_chainA_segment3_binary.csv   \n",
       "4  1a03_model1_chainA_segment4_binary.csv   \n",
       "\n",
       "                                               order  \\\n",
       "0  [0, 1, 3, 2, 7, 4, 5, 8, 6, 12, 9, 10, 13, 11,...   \n",
       "1  [0, 1, 3, 2, 7, 4, 5, 8, 6, 12, 9, 10, 13, 11,...   \n",
       "2  [0, 1, 3, 2, 7, 4, 5, 8, 6, 12, 9, 10, 13, 11,...   \n",
       "3  [0, 1, 3, 2, 7, 4, 5, 8, 6, 12, 9, 10, 13, 11,...   \n",
       "4  [0, 1, 3, 2, 7, 4, 5, 8, 6, 12, 9, 10, 13, 11,...   \n",
       "\n",
       "                                             parents  \\\n",
       "0  [[-1, -1, -1], [-1, -1, -1], [-1, -1, -1], [0,...   \n",
       "1  [[-1, -1, -1], [-1, -1, -1], [-1, -1, -1], [0,...   \n",
       "2  [[-1, -1, -1], [-1, -1, -1], [-1, -1, -1], [0,...   \n",
       "3  [[-1, -1, -1], [-1, -1, -1], [-1, -1, -1], [0,...   \n",
       "4  [[-1, -1, -1], [-1, -1, -1], [-1, -1, -1], [0,...   \n",
       "\n",
       "                                                xsol  \n",
       "0  [[-12.449, 7.053, 5.066], [-11.098, 6.511, 5.1...  \n",
       "1  [[-11.299, -7.574, 2.87], [-11.467, -8.365, 1....  \n",
       "2  [[-10.069, -18.068, 5.889], [-9.382, -16.777, ...  \n",
       "3  [[-7.242, -12.744, -21.486], [-7.716, -11.455,...  \n",
       "4  [[1.536, -0.32, -6.37], [1.878, -0.516, -7.772...  "
      ]
     },
     "execution_count": 21,
     "metadata": {},
     "output_type": "execute_result"
    }
   ],
   "source": [
    "# generate tests when the binary and xsol information come from pickled files\n",
    "import pandas as pd\n",
    "from tqdm import tqdm\n",
    "\n",
    "def generate_tests(pdb_test):    \n",
    "    M = {'fn':[], 'order': [], 'parents': [], 'xsol':[]}\n",
    "    \n",
    "    pdb_test = set(pdb_test)\n",
    "    for key in tqdm(wd_binary):        \n",
    "        \n",
    "        fn_binary = key.replace('binary\\\\','')\n",
    "        \n",
    "        pdb_code = fn_binary.split('_')[0]\n",
    "\n",
    "        if not pdb_code in pdb_test:\n",
    "            continue\n",
    "        \n",
    "        df = wd_binary[key]\n",
    "        \n",
    "        df.fillna(-1, inplace=True)\n",
    "\n",
    "        # convert from b (binary) to s (string)\n",
    "        M['fn'].append(fn_binary)\n",
    "        M['order'].append(df['order'].values)\n",
    "        parents = zip(df['N_1'].astype(int).values, df['N_2'].astype(int).values, df['N_3'].astype(int).values)\n",
    "        # convert parents to list\n",
    "        M['parents'].append([list(p) for p in parents])\n",
    "\n",
    "        fn_xsol = 'original_sol\\\\' + fn_binary.replace('_binary.csv','.sol')\n",
    "        df = wd_original_sol[fn_xsol]\n",
    "        xsol = [[float(x) for s in df.columns for x in s.split()]]\n",
    "        xsol += [[float(x) for x in s[0].split()] for s in df.values]\n",
    "        xsol = np.array(xsol)\n",
    "        M['xsol'].append(xsol)\n",
    "\n",
    "    M = pd.DataFrame(M)\n",
    "\n",
    "    return M\n",
    "\n",
    "M = generate_tests(pdb_test)\n",
    "M.head()"
   ]
  },
  {
   "cell_type": "code",
   "execution_count": 5,
   "metadata": {},
   "outputs": [
    {
     "name": "stderr",
     "output_type": "stream",
     "text": [
      "100%|██████████| 73649/73649 [04:35<00:00, 267.16it/s]\n"
     ]
    },
    {
     "data": {
      "text/html": [
       "<div>\n",
       "<style scoped>\n",
       "    .dataframe tbody tr th:only-of-type {\n",
       "        vertical-align: middle;\n",
       "    }\n",
       "\n",
       "    .dataframe tbody tr th {\n",
       "        vertical-align: top;\n",
       "    }\n",
       "\n",
       "    .dataframe thead th {\n",
       "        text-align: right;\n",
       "    }\n",
       "</style>\n",
       "<table border=\"1\" class=\"dataframe\">\n",
       "  <thead>\n",
       "    <tr style=\"text-align: right;\">\n",
       "      <th></th>\n",
       "      <th>fn</th>\n",
       "      <th>order</th>\n",
       "      <th>parents</th>\n",
       "      <th>xsol</th>\n",
       "    </tr>\n",
       "  </thead>\n",
       "  <tbody>\n",
       "    <tr>\n",
       "      <th>0</th>\n",
       "      <td>binary\\1a03_model1_chainA_segment0_binary.csv</td>\n",
       "      <td>[0, 1, 3, 2, 7, 4, 5, 8, 6, 12, 9, 10, 13, 11,...</td>\n",
       "      <td>[[-1, -1, -1], [-1, -1, -1], [-1, -1, -1], [0,...</td>\n",
       "      <td>[[-12.449, 7.053, 5.066], [-11.098, 6.511, 5.1...</td>\n",
       "    </tr>\n",
       "    <tr>\n",
       "      <th>1</th>\n",
       "      <td>binary\\1a03_model1_chainA_segment1_binary.csv</td>\n",
       "      <td>[0, 1, 3, 2, 7, 4, 5, 8, 6, 12, 9, 10, 13, 11,...</td>\n",
       "      <td>[[-1, -1, -1], [-1, -1, -1], [-1, -1, -1], [0,...</td>\n",
       "      <td>[[-11.299, -7.574, 2.87], [-11.467, -8.365, 1....</td>\n",
       "    </tr>\n",
       "    <tr>\n",
       "      <th>2</th>\n",
       "      <td>binary\\1a03_model1_chainA_segment2_binary.csv</td>\n",
       "      <td>[0, 1, 3, 2, 7, 4, 5, 8, 6, 12, 9, 10, 13, 11,...</td>\n",
       "      <td>[[-1, -1, -1], [-1, -1, -1], [-1, -1, -1], [0,...</td>\n",
       "      <td>[[-10.069, -18.068, 5.889], [-9.382, -16.777, ...</td>\n",
       "    </tr>\n",
       "    <tr>\n",
       "      <th>3</th>\n",
       "      <td>binary\\1a03_model1_chainA_segment3_binary.csv</td>\n",
       "      <td>[0, 1, 3, 2, 7, 4, 5, 8, 6, 12, 9, 10, 13, 11,...</td>\n",
       "      <td>[[-1, -1, -1], [-1, -1, -1], [-1, -1, -1], [0,...</td>\n",
       "      <td>[[-7.242, -12.744, -21.486], [-7.716, -11.455,...</td>\n",
       "    </tr>\n",
       "    <tr>\n",
       "      <th>4</th>\n",
       "      <td>binary\\1a03_model1_chainA_segment4_binary.csv</td>\n",
       "      <td>[0, 1, 3, 2, 7, 4, 5, 8, 6, 12, 9, 10, 13, 11,...</td>\n",
       "      <td>[[-1, -1, -1], [-1, -1, -1], [-1, -1, -1], [0,...</td>\n",
       "      <td>[[1.536, -0.32, -6.37], [1.878, -0.516, -7.772...</td>\n",
       "    </tr>\n",
       "  </tbody>\n",
       "</table>\n",
       "</div>"
      ],
      "text/plain": [
       "                                              fn  \\\n",
       "0  binary\\1a03_model1_chainA_segment0_binary.csv   \n",
       "1  binary\\1a03_model1_chainA_segment1_binary.csv   \n",
       "2  binary\\1a03_model1_chainA_segment2_binary.csv   \n",
       "3  binary\\1a03_model1_chainA_segment3_binary.csv   \n",
       "4  binary\\1a03_model1_chainA_segment4_binary.csv   \n",
       "\n",
       "                                               order  \\\n",
       "0  [0, 1, 3, 2, 7, 4, 5, 8, 6, 12, 9, 10, 13, 11,...   \n",
       "1  [0, 1, 3, 2, 7, 4, 5, 8, 6, 12, 9, 10, 13, 11,...   \n",
       "2  [0, 1, 3, 2, 7, 4, 5, 8, 6, 12, 9, 10, 13, 11,...   \n",
       "3  [0, 1, 3, 2, 7, 4, 5, 8, 6, 12, 9, 10, 13, 11,...   \n",
       "4  [0, 1, 3, 2, 7, 4, 5, 8, 6, 12, 9, 10, 13, 11,...   \n",
       "\n",
       "                                             parents  \\\n",
       "0  [[-1, -1, -1], [-1, -1, -1], [-1, -1, -1], [0,...   \n",
       "1  [[-1, -1, -1], [-1, -1, -1], [-1, -1, -1], [0,...   \n",
       "2  [[-1, -1, -1], [-1, -1, -1], [-1, -1, -1], [0,...   \n",
       "3  [[-1, -1, -1], [-1, -1, -1], [-1, -1, -1], [0,...   \n",
       "4  [[-1, -1, -1], [-1, -1, -1], [-1, -1, -1], [0,...   \n",
       "\n",
       "                                                xsol  \n",
       "0  [[-12.449, 7.053, 5.066], [-11.098, 6.511, 5.1...  \n",
       "1  [[-11.299, -7.574, 2.87], [-11.467, -8.365, 1....  \n",
       "2  [[-10.069, -18.068, 5.889], [-9.382, -16.777, ...  \n",
       "3  [[-7.242, -12.744, -21.486], [-7.716, -11.455,...  \n",
       "4  [[1.536, -0.32, -6.37], [1.878, -0.516, -7.772...  "
      ]
     },
     "execution_count": 5,
     "metadata": {},
     "output_type": "execute_result"
    }
   ],
   "source": [
    "# generate tests when the binary and xsol information come from directories\n",
    "import numpy as np\n",
    "import pandas as pd\n",
    "from tqdm import tqdm\n",
    "\n",
    "wd_binary = 'binary'\n",
    "wd_original_sol = 'original_sol'\n",
    "\n",
    "def generate_tests(pdb_test):    \n",
    "    M = {'fn':[], 'order': [], 'parents': [], 'xsol':[]}\n",
    "    \n",
    "    pdb_test = set(pdb_test)\n",
    "    for fn_binary in tqdm(os.listdir(wd_binary)):\n",
    "        pdb_code = fn_binary.split('_')[0]\n",
    "        \n",
    "        if not pdb_code in pdb_test:\n",
    "            continue\n",
    "\n",
    "        fn_binary = os.path.join(wd_binary, fn_binary)\n",
    "        df = pd.read_csv(fn_binary)\n",
    "        \n",
    "        df.fillna(-1, inplace=True)\n",
    "\n",
    "        # convert from b (binary) to s (string)\n",
    "        M['fn'].append(fn_binary)\n",
    "        M['order'].append(df['order'].values)\n",
    "        parents = zip(df['N_1'].astype(int).values, df['N_2'].astype(int).values, df['N_3'].astype(int).values)\n",
    "        # convert parents to list\n",
    "        M['parents'].append([list(p) for p in parents])\n",
    "\n",
    "        fn_xsol = os.path.basename(fn_binary).replace('_binary.csv', '.sol')\n",
    "        fn_xsol = os.path.join(wd_original_sol, fn_xsol)\n",
    "\n",
    "        M['xsol'].append(np.loadtxt(fn_xsol))\n",
    "\n",
    "    M = pd.DataFrame(M)\n",
    "\n",
    "    return M\n",
    "\n",
    "M = generate_tests(pdb_test)\n",
    "M.head()"
   ]
  },
  {
   "cell_type": "code",
   "execution_count": 6,
   "metadata": {},
   "outputs": [
    {
     "data": {
      "application/vnd.plotly.v1+json": {
       "config": {
        "plotlyServerURL": "https://plot.ly"
       },
       "data": [
        {
         "alignmentgroup": "True",
         "hovertemplate": "size=%{x}<br>fn=%{y}<extra></extra>",
         "legendgroup": "",
         "marker": {
          "color": "#636efa",
          "pattern": {
           "shape": ""
          }
         },
         "name": "",
         "offsetgroup": "",
         "orientation": "v",
         "showlegend": false,
         "textposition": "auto",
         "type": "bar",
         "x": [
          19,
          24,
          29,
          34,
          39,
          44,
          49,
          54,
          59,
          64,
          69,
          74,
          79,
          84,
          89,
          94,
          99,
          104,
          109,
          114,
          119,
          124,
          129,
          134,
          139,
          144,
          149,
          154,
          159,
          164,
          169,
          174,
          179,
          184,
          189,
          194,
          199,
          204,
          209,
          214,
          219,
          224,
          229,
          234,
          239,
          244,
          249,
          254,
          259,
          264,
          269,
          274,
          279,
          284,
          289,
          294,
          299,
          309,
          319,
          324,
          329,
          334,
          339,
          354,
          364,
          369,
          384,
          409,
          424,
          449,
          459
         ],
         "xaxis": "x",
         "y": [
          1724,
          1375,
          1325,
          1188,
          1070,
          949,
          885,
          757,
          613,
          587,
          567,
          455,
          376,
          376,
          311,
          232,
          265,
          175,
          173,
          138,
          137,
          101,
          119,
          73,
          73,
          107,
          73,
          72,
          49,
          46,
          42,
          35,
          32,
          20,
          29,
          25,
          20,
          13,
          14,
          11,
          15,
          13,
          11,
          6,
          9,
          2,
          3,
          12,
          2,
          5,
          3,
          3,
          6,
          1,
          3,
          3,
          1,
          2,
          2,
          1,
          1,
          3,
          2,
          1,
          1,
          3,
          1,
          1,
          1,
          1,
          1
         ],
         "yaxis": "y"
        }
       ],
       "layout": {
        "barmode": "relative",
        "legend": {
         "tracegroupgap": 0
        },
        "margin": {
         "t": 60
        },
        "template": {
         "data": {
          "bar": [
           {
            "error_x": {
             "color": "#2a3f5f"
            },
            "error_y": {
             "color": "#2a3f5f"
            },
            "marker": {
             "line": {
              "color": "#E5ECF6",
              "width": 0.5
             },
             "pattern": {
              "fillmode": "overlay",
              "size": 10,
              "solidity": 0.2
             }
            },
            "type": "bar"
           }
          ],
          "barpolar": [
           {
            "marker": {
             "line": {
              "color": "#E5ECF6",
              "width": 0.5
             },
             "pattern": {
              "fillmode": "overlay",
              "size": 10,
              "solidity": 0.2
             }
            },
            "type": "barpolar"
           }
          ],
          "carpet": [
           {
            "aaxis": {
             "endlinecolor": "#2a3f5f",
             "gridcolor": "white",
             "linecolor": "white",
             "minorgridcolor": "white",
             "startlinecolor": "#2a3f5f"
            },
            "baxis": {
             "endlinecolor": "#2a3f5f",
             "gridcolor": "white",
             "linecolor": "white",
             "minorgridcolor": "white",
             "startlinecolor": "#2a3f5f"
            },
            "type": "carpet"
           }
          ],
          "choropleth": [
           {
            "colorbar": {
             "outlinewidth": 0,
             "ticks": ""
            },
            "type": "choropleth"
           }
          ],
          "contour": [
           {
            "colorbar": {
             "outlinewidth": 0,
             "ticks": ""
            },
            "colorscale": [
             [
              0,
              "#0d0887"
             ],
             [
              0.1111111111111111,
              "#46039f"
             ],
             [
              0.2222222222222222,
              "#7201a8"
             ],
             [
              0.3333333333333333,
              "#9c179e"
             ],
             [
              0.4444444444444444,
              "#bd3786"
             ],
             [
              0.5555555555555556,
              "#d8576b"
             ],
             [
              0.6666666666666666,
              "#ed7953"
             ],
             [
              0.7777777777777778,
              "#fb9f3a"
             ],
             [
              0.8888888888888888,
              "#fdca26"
             ],
             [
              1,
              "#f0f921"
             ]
            ],
            "type": "contour"
           }
          ],
          "contourcarpet": [
           {
            "colorbar": {
             "outlinewidth": 0,
             "ticks": ""
            },
            "type": "contourcarpet"
           }
          ],
          "heatmap": [
           {
            "colorbar": {
             "outlinewidth": 0,
             "ticks": ""
            },
            "colorscale": [
             [
              0,
              "#0d0887"
             ],
             [
              0.1111111111111111,
              "#46039f"
             ],
             [
              0.2222222222222222,
              "#7201a8"
             ],
             [
              0.3333333333333333,
              "#9c179e"
             ],
             [
              0.4444444444444444,
              "#bd3786"
             ],
             [
              0.5555555555555556,
              "#d8576b"
             ],
             [
              0.6666666666666666,
              "#ed7953"
             ],
             [
              0.7777777777777778,
              "#fb9f3a"
             ],
             [
              0.8888888888888888,
              "#fdca26"
             ],
             [
              1,
              "#f0f921"
             ]
            ],
            "type": "heatmap"
           }
          ],
          "heatmapgl": [
           {
            "colorbar": {
             "outlinewidth": 0,
             "ticks": ""
            },
            "colorscale": [
             [
              0,
              "#0d0887"
             ],
             [
              0.1111111111111111,
              "#46039f"
             ],
             [
              0.2222222222222222,
              "#7201a8"
             ],
             [
              0.3333333333333333,
              "#9c179e"
             ],
             [
              0.4444444444444444,
              "#bd3786"
             ],
             [
              0.5555555555555556,
              "#d8576b"
             ],
             [
              0.6666666666666666,
              "#ed7953"
             ],
             [
              0.7777777777777778,
              "#fb9f3a"
             ],
             [
              0.8888888888888888,
              "#fdca26"
             ],
             [
              1,
              "#f0f921"
             ]
            ],
            "type": "heatmapgl"
           }
          ],
          "histogram": [
           {
            "marker": {
             "pattern": {
              "fillmode": "overlay",
              "size": 10,
              "solidity": 0.2
             }
            },
            "type": "histogram"
           }
          ],
          "histogram2d": [
           {
            "colorbar": {
             "outlinewidth": 0,
             "ticks": ""
            },
            "colorscale": [
             [
              0,
              "#0d0887"
             ],
             [
              0.1111111111111111,
              "#46039f"
             ],
             [
              0.2222222222222222,
              "#7201a8"
             ],
             [
              0.3333333333333333,
              "#9c179e"
             ],
             [
              0.4444444444444444,
              "#bd3786"
             ],
             [
              0.5555555555555556,
              "#d8576b"
             ],
             [
              0.6666666666666666,
              "#ed7953"
             ],
             [
              0.7777777777777778,
              "#fb9f3a"
             ],
             [
              0.8888888888888888,
              "#fdca26"
             ],
             [
              1,
              "#f0f921"
             ]
            ],
            "type": "histogram2d"
           }
          ],
          "histogram2dcontour": [
           {
            "colorbar": {
             "outlinewidth": 0,
             "ticks": ""
            },
            "colorscale": [
             [
              0,
              "#0d0887"
             ],
             [
              0.1111111111111111,
              "#46039f"
             ],
             [
              0.2222222222222222,
              "#7201a8"
             ],
             [
              0.3333333333333333,
              "#9c179e"
             ],
             [
              0.4444444444444444,
              "#bd3786"
             ],
             [
              0.5555555555555556,
              "#d8576b"
             ],
             [
              0.6666666666666666,
              "#ed7953"
             ],
             [
              0.7777777777777778,
              "#fb9f3a"
             ],
             [
              0.8888888888888888,
              "#fdca26"
             ],
             [
              1,
              "#f0f921"
             ]
            ],
            "type": "histogram2dcontour"
           }
          ],
          "mesh3d": [
           {
            "colorbar": {
             "outlinewidth": 0,
             "ticks": ""
            },
            "type": "mesh3d"
           }
          ],
          "parcoords": [
           {
            "line": {
             "colorbar": {
              "outlinewidth": 0,
              "ticks": ""
             }
            },
            "type": "parcoords"
           }
          ],
          "pie": [
           {
            "automargin": true,
            "type": "pie"
           }
          ],
          "scatter": [
           {
            "fillpattern": {
             "fillmode": "overlay",
             "size": 10,
             "solidity": 0.2
            },
            "type": "scatter"
           }
          ],
          "scatter3d": [
           {
            "line": {
             "colorbar": {
              "outlinewidth": 0,
              "ticks": ""
             }
            },
            "marker": {
             "colorbar": {
              "outlinewidth": 0,
              "ticks": ""
             }
            },
            "type": "scatter3d"
           }
          ],
          "scattercarpet": [
           {
            "marker": {
             "colorbar": {
              "outlinewidth": 0,
              "ticks": ""
             }
            },
            "type": "scattercarpet"
           }
          ],
          "scattergeo": [
           {
            "marker": {
             "colorbar": {
              "outlinewidth": 0,
              "ticks": ""
             }
            },
            "type": "scattergeo"
           }
          ],
          "scattergl": [
           {
            "marker": {
             "colorbar": {
              "outlinewidth": 0,
              "ticks": ""
             }
            },
            "type": "scattergl"
           }
          ],
          "scattermapbox": [
           {
            "marker": {
             "colorbar": {
              "outlinewidth": 0,
              "ticks": ""
             }
            },
            "type": "scattermapbox"
           }
          ],
          "scatterpolar": [
           {
            "marker": {
             "colorbar": {
              "outlinewidth": 0,
              "ticks": ""
             }
            },
            "type": "scatterpolar"
           }
          ],
          "scatterpolargl": [
           {
            "marker": {
             "colorbar": {
              "outlinewidth": 0,
              "ticks": ""
             }
            },
            "type": "scatterpolargl"
           }
          ],
          "scatterternary": [
           {
            "marker": {
             "colorbar": {
              "outlinewidth": 0,
              "ticks": ""
             }
            },
            "type": "scatterternary"
           }
          ],
          "surface": [
           {
            "colorbar": {
             "outlinewidth": 0,
             "ticks": ""
            },
            "colorscale": [
             [
              0,
              "#0d0887"
             ],
             [
              0.1111111111111111,
              "#46039f"
             ],
             [
              0.2222222222222222,
              "#7201a8"
             ],
             [
              0.3333333333333333,
              "#9c179e"
             ],
             [
              0.4444444444444444,
              "#bd3786"
             ],
             [
              0.5555555555555556,
              "#d8576b"
             ],
             [
              0.6666666666666666,
              "#ed7953"
             ],
             [
              0.7777777777777778,
              "#fb9f3a"
             ],
             [
              0.8888888888888888,
              "#fdca26"
             ],
             [
              1,
              "#f0f921"
             ]
            ],
            "type": "surface"
           }
          ],
          "table": [
           {
            "cells": {
             "fill": {
              "color": "#EBF0F8"
             },
             "line": {
              "color": "white"
             }
            },
            "header": {
             "fill": {
              "color": "#C8D4E3"
             },
             "line": {
              "color": "white"
             }
            },
            "type": "table"
           }
          ]
         },
         "layout": {
          "annotationdefaults": {
           "arrowcolor": "#2a3f5f",
           "arrowhead": 0,
           "arrowwidth": 1
          },
          "autotypenumbers": "strict",
          "coloraxis": {
           "colorbar": {
            "outlinewidth": 0,
            "ticks": ""
           }
          },
          "colorscale": {
           "diverging": [
            [
             0,
             "#8e0152"
            ],
            [
             0.1,
             "#c51b7d"
            ],
            [
             0.2,
             "#de77ae"
            ],
            [
             0.3,
             "#f1b6da"
            ],
            [
             0.4,
             "#fde0ef"
            ],
            [
             0.5,
             "#f7f7f7"
            ],
            [
             0.6,
             "#e6f5d0"
            ],
            [
             0.7,
             "#b8e186"
            ],
            [
             0.8,
             "#7fbc41"
            ],
            [
             0.9,
             "#4d9221"
            ],
            [
             1,
             "#276419"
            ]
           ],
           "sequential": [
            [
             0,
             "#0d0887"
            ],
            [
             0.1111111111111111,
             "#46039f"
            ],
            [
             0.2222222222222222,
             "#7201a8"
            ],
            [
             0.3333333333333333,
             "#9c179e"
            ],
            [
             0.4444444444444444,
             "#bd3786"
            ],
            [
             0.5555555555555556,
             "#d8576b"
            ],
            [
             0.6666666666666666,
             "#ed7953"
            ],
            [
             0.7777777777777778,
             "#fb9f3a"
            ],
            [
             0.8888888888888888,
             "#fdca26"
            ],
            [
             1,
             "#f0f921"
            ]
           ],
           "sequentialminus": [
            [
             0,
             "#0d0887"
            ],
            [
             0.1111111111111111,
             "#46039f"
            ],
            [
             0.2222222222222222,
             "#7201a8"
            ],
            [
             0.3333333333333333,
             "#9c179e"
            ],
            [
             0.4444444444444444,
             "#bd3786"
            ],
            [
             0.5555555555555556,
             "#d8576b"
            ],
            [
             0.6666666666666666,
             "#ed7953"
            ],
            [
             0.7777777777777778,
             "#fb9f3a"
            ],
            [
             0.8888888888888888,
             "#fdca26"
            ],
            [
             1,
             "#f0f921"
            ]
           ]
          },
          "colorway": [
           "#636efa",
           "#EF553B",
           "#00cc96",
           "#ab63fa",
           "#FFA15A",
           "#19d3f3",
           "#FF6692",
           "#B6E880",
           "#FF97FF",
           "#FECB52"
          ],
          "font": {
           "color": "#2a3f5f"
          },
          "geo": {
           "bgcolor": "white",
           "lakecolor": "white",
           "landcolor": "#E5ECF6",
           "showlakes": true,
           "showland": true,
           "subunitcolor": "white"
          },
          "hoverlabel": {
           "align": "left"
          },
          "hovermode": "closest",
          "mapbox": {
           "style": "light"
          },
          "paper_bgcolor": "white",
          "plot_bgcolor": "#E5ECF6",
          "polar": {
           "angularaxis": {
            "gridcolor": "white",
            "linecolor": "white",
            "ticks": ""
           },
           "bgcolor": "#E5ECF6",
           "radialaxis": {
            "gridcolor": "white",
            "linecolor": "white",
            "ticks": ""
           }
          },
          "scene": {
           "xaxis": {
            "backgroundcolor": "#E5ECF6",
            "gridcolor": "white",
            "gridwidth": 2,
            "linecolor": "white",
            "showbackground": true,
            "ticks": "",
            "zerolinecolor": "white"
           },
           "yaxis": {
            "backgroundcolor": "#E5ECF6",
            "gridcolor": "white",
            "gridwidth": 2,
            "linecolor": "white",
            "showbackground": true,
            "ticks": "",
            "zerolinecolor": "white"
           },
           "zaxis": {
            "backgroundcolor": "#E5ECF6",
            "gridcolor": "white",
            "gridwidth": 2,
            "linecolor": "white",
            "showbackground": true,
            "ticks": "",
            "zerolinecolor": "white"
           }
          },
          "shapedefaults": {
           "line": {
            "color": "#2a3f5f"
           }
          },
          "ternary": {
           "aaxis": {
            "gridcolor": "white",
            "linecolor": "white",
            "ticks": ""
           },
           "baxis": {
            "gridcolor": "white",
            "linecolor": "white",
            "ticks": ""
           },
           "bgcolor": "#E5ECF6",
           "caxis": {
            "gridcolor": "white",
            "linecolor": "white",
            "ticks": ""
           }
          },
          "title": {
           "x": 0.05
          },
          "xaxis": {
           "automargin": true,
           "gridcolor": "white",
           "linecolor": "white",
           "ticks": "",
           "title": {
            "standoff": 15
           },
           "zerolinecolor": "white",
           "zerolinewidth": 2
          },
          "yaxis": {
           "automargin": true,
           "gridcolor": "white",
           "linecolor": "white",
           "ticks": "",
           "title": {
            "standoff": 15
           },
           "zerolinecolor": "white",
           "zerolinewidth": 2
          }
         }
        },
        "xaxis": {
         "anchor": "y",
         "domain": [
          0,
          1
         ],
         "title": {
          "text": "size"
         }
        },
        "yaxis": {
         "anchor": "x",
         "domain": [
          0,
          1
         ],
         "title": {
          "text": "fn"
         }
        }
       }
      }
     },
     "metadata": {},
     "output_type": "display_data"
    }
   ],
   "source": [
    "import plotly.express as px\n",
    "\n",
    "M['size'] = M['xsol'].apply(lambda x: x.shape[0])\n",
    "df_ = M.groupby('size').count().reset_index()\n",
    "\n",
    "fig = px.bar(df_, x='size', y='fn')\n",
    "fig.show()"
   ]
  },
  {
   "cell_type": "code",
   "execution_count": 7,
   "metadata": {},
   "outputs": [
    {
     "name": "stderr",
     "output_type": "stream",
     "text": [
      "100%|██████████| 14751/14751 [00:38<00:00, 382.97it/s]\n"
     ]
    }
   ],
   "source": [
    "# creating all the ddgp instances associated with the test sample\n",
    "import os\n",
    "\n",
    "os.makedirs('ddgp', exist_ok=True)\n",
    "\n",
    "\n",
    "def create_ddgp(row):\n",
    "    order = row['order']\n",
    "    \n",
    "    n = len(order)\n",
    "\n",
    "    # set permutation from original indices to ddgp indices\n",
    "    permutation = np.zeros(n, dtype=int) \n",
    "    for k, i in enumerate(order):\n",
    "        permutation[i] = k\n",
    "\n",
    "    parents = []\n",
    "    for v in row['parents']:\n",
    "        parents.append([permutation[i] for i in v])\n",
    "    \n",
    "    # The atoms follow the following ddgp order: N^1, CA^1, HA^1, ..., C^{j-1}, H^j, N^j, CA^j, HA^j, ..., C^nres\n",
    "    d = {}\n",
    "    xsol = row['xsol']\n",
    "    # exact distances between the first three atoms\n",
    "    for i in range(3):\n",
    "        d[i] = {}\n",
    "        for j in range(i-1, -1, -1):\n",
    "            d[i][j] = norm(xsol[order[i]] - xsol[order[j]])\n",
    "    \n",
    "    H = []\n",
    "    # exact distances associated with the atoms of each block ( C^{j-1}, H^j, N^j, CA^j, HA^j ), with j in {2,n}\n",
    "    for i in range(3, n-1, 5):\n",
    "        # i: C^{j-1}\n",
    "        d[i] = {}\n",
    "        d[i][i-1] = norm(xsol[order[i]] - xsol[order[i-1]])\n",
    "        d[i][i-2] = norm(xsol[order[i]] - xsol[order[i-2]])\n",
    "        d[i][i-3] = norm(xsol[order[i]] - xsol[order[i-3]])\n",
    "        \n",
    "        # i+1: H^j\n",
    "        d[i+1] = {}\n",
    "        d[i+1][i] = norm(xsol[order[i+1]] - xsol[order[i]])\n",
    "        d[i+1][i-1] = norm(xsol[order[i+1]] - xsol[order[i-1]])\n",
    "        d[i+1][i-2] = norm(xsol[order[i+1]] - xsol[order[i-2]])\n",
    "        H.append(i+1)\n",
    "\n",
    "        # i+2: N^j\n",
    "        d[i+2] = {}\n",
    "        d[i+2][i+1] = norm(xsol[order[i+2]] - xsol[order[i+1]])\n",
    "        d[i+2][i] = norm(xsol[order[i+2]] - xsol[order[i]])\n",
    "        d[i+2][i-2] = norm(xsol[order[i+2]] - xsol[order[i-2]])\n",
    "\n",
    "        # i+3: CA^j\n",
    "        d[i+3] = {}\n",
    "        d[i+3][i+2] = norm(xsol[order[i+3]] - xsol[order[i+2]])\n",
    "        d[i+3][i+1] = norm(xsol[order[i+3]] - xsol[order[i+1]])\n",
    "        d[i+3][i] = norm(xsol[order[i+3]] - xsol[order[i]])\n",
    "        d[i+3][i-2] = norm(xsol[order[i+3]] - xsol[order[i-2]])\n",
    "\n",
    "        # i+4: HA^j\n",
    "        d[i+4] = {}\n",
    "        d[i+4][i+3] = norm(xsol[order[i+4]] - xsol[order[i+3]])\n",
    "        d[i+4][i+2] = norm(xsol[order[i+4]] - xsol[order[i+2]])\n",
    "        d[i+4][i+1] = norm(xsol[order[i+4]] - xsol[order[i+1]])\n",
    "        H.append(i+4)\n",
    "    \n",
    "    # distances associated with the atom C^nres\n",
    "    i = i+5\n",
    "    d[i] = {}\n",
    "    d[i][i-1] = norm(xsol[order[i]] - xsol[order[i-1]])\n",
    "    d[i][i-2] = norm(xsol[order[i]] - xsol[order[i-2]])\n",
    "    d[i][i-3] = norm(xsol[order[i]] - xsol[order[i-3]])\n",
    "\n",
    "    # distances between hydrogen atoms that are not the adjacent and that are at most 5 angstroms apart\n",
    "    for i in range(len(H)):\n",
    "        for j in range(i-2):\n",
    "            # (i+1: H^j) and (i+4: HA^j)\n",
    "            dij = norm(xsol[order[H[i]]] - xsol[order[H[j]]])\n",
    "            if dij <= 5:\n",
    "                d[i][j] = dij\n",
    "\n",
    "    # symmetrize\n",
    "    for i in range(n):\n",
    "        for j in d[i].keys():\n",
    "            d[j][i] = d[i][j]\n",
    "    \n",
    "    D = DDGP(d, parents)\n",
    "\n",
    "    # pickle DDGP\n",
    "    # fn_ddgp = row['fn'].replace('binary', 'ddgp').replace('.csv', '.pkl')\n",
    "    fn_ddgp = os.path.basename(row['fn']).replace('binary', 'ddgp').replace('.csv', '.pkl')\n",
    "    fn_ddgp = os.path.join('ddgp', fn_ddgp)\n",
    "    with open(fn_ddgp, 'wb') as f:\n",
    "        pickle.dump(D, f)\n",
    "        \n",
    "\n",
    "for idx, row in tqdm(list(M.iterrows())):\n",
    "    try:\n",
    "        create_ddgp(row)\n",
    "    except Exception as e:\n",
    "        print(idx, e)\n",
    "        print(row['fn'])\n",
    "        raise e"
   ]
  },
  {
   "cell_type": "code",
   "execution_count": 23,
   "metadata": {},
   "outputs": [
    {
     "ename": "KeyError",
     "evalue": "'speed_up'",
     "output_type": "error",
     "traceback": [
      "\u001b[1;31m---------------------------------------------------------------------------\u001b[0m",
      "\u001b[1;31mKeyError\u001b[0m                                  Traceback (most recent call last)",
      "File \u001b[1;32m~\\AppData\\Local\\Packages\\PythonSoftwareFoundation.Python.3.11_qbz5n2kfra8p0\\LocalCache\\local-packages\\Python311\\site-packages\\pandas\\core\\indexes\\base.py:3805\u001b[0m, in \u001b[0;36mIndex.get_loc\u001b[1;34m(self, key)\u001b[0m\n\u001b[0;32m   3804\u001b[0m \u001b[38;5;28;01mtry\u001b[39;00m:\n\u001b[1;32m-> 3805\u001b[0m     \u001b[38;5;28;01mreturn\u001b[39;00m \u001b[38;5;28;43mself\u001b[39;49m\u001b[38;5;241;43m.\u001b[39;49m\u001b[43m_engine\u001b[49m\u001b[38;5;241;43m.\u001b[39;49m\u001b[43mget_loc\u001b[49m\u001b[43m(\u001b[49m\u001b[43mcasted_key\u001b[49m\u001b[43m)\u001b[49m\n\u001b[0;32m   3806\u001b[0m \u001b[38;5;28;01mexcept\u001b[39;00m \u001b[38;5;167;01mKeyError\u001b[39;00m \u001b[38;5;28;01mas\u001b[39;00m err:\n",
      "File \u001b[1;32mindex.pyx:167\u001b[0m, in \u001b[0;36mpandas._libs.index.IndexEngine.get_loc\u001b[1;34m()\u001b[0m\n",
      "File \u001b[1;32mindex.pyx:175\u001b[0m, in \u001b[0;36mpandas._libs.index.IndexEngine.get_loc\u001b[1;34m()\u001b[0m\n",
      "File \u001b[1;32mpandas\\\\_libs\\\\index_class_helper.pxi:70\u001b[0m, in \u001b[0;36mpandas._libs.index.Int64Engine._check_type\u001b[1;34m()\u001b[0m\n",
      "\u001b[1;31mKeyError\u001b[0m: 'speed_up'",
      "\nThe above exception was the direct cause of the following exception:\n",
      "\u001b[1;31mKeyError\u001b[0m                                  Traceback (most recent call last)",
      "Cell \u001b[1;32mIn[23], line 10\u001b[0m\n\u001b[0;32m      8\u001b[0m max_speedup \u001b[38;5;241m=\u001b[39m df_speedup[\u001b[38;5;124m'\u001b[39m\u001b[38;5;124mspeed_up\u001b[39m\u001b[38;5;124m'\u001b[39m]\u001b[38;5;241m.\u001b[39mmax()\n\u001b[0;32m      9\u001b[0m max_speedup \u001b[38;5;241m=\u001b[39m max_speedup \u001b[38;5;241m/\u001b[39m \u001b[38;5;241m10.0\u001b[39m\n\u001b[1;32m---> 10\u001b[0m df_speedup[\u001b[38;5;124m'\u001b[39m\u001b[38;5;124mspeed_up\u001b[39m\u001b[38;5;124m'\u001b[39m] \u001b[38;5;241m=\u001b[39m \u001b[43mdf_speedup\u001b[49m\u001b[38;5;241;43m.\u001b[39;49m\u001b[43mapply\u001b[49m\u001b[43m(\u001b[49m\u001b[38;5;28;43;01mlambda\u001b[39;49;00m\u001b[43m \u001b[49m\u001b[43mx\u001b[49m\u001b[43m \u001b[49m\u001b[43m:\u001b[49m\u001b[43m \u001b[49m\u001b[38;5;28;43mfloat\u001b[39;49m\u001b[43m(\u001b[49m\u001b[43mx\u001b[49m\u001b[38;5;241;43m.\u001b[39;49m\u001b[43mloc\u001b[49m\u001b[43m[\u001b[49m\u001b[38;5;124;43m'\u001b[39;49m\u001b[38;5;124;43mspeed_up\u001b[39;49m\u001b[38;5;124;43m'\u001b[39;49m\u001b[43m]\u001b[49m\u001b[43m \u001b[49m\u001b[38;5;241;43m/\u001b[39;49m\u001b[43m \u001b[49m\u001b[43mmax_speedup\u001b[49m\u001b[43m)\u001b[49m\u001b[43m \u001b[49m\u001b[38;5;28;43;01mif\u001b[39;49;00m\u001b[43m \u001b[49m\u001b[43mx\u001b[49m\u001b[38;5;241;43m.\u001b[39;49m\u001b[43mloc\u001b[49m\u001b[43m[\u001b[49m\u001b[38;5;124;43m'\u001b[39;49m\u001b[38;5;124;43mspeed_up\u001b[39;49m\u001b[38;5;124;43m'\u001b[39;49m\u001b[43m]\u001b[49m\u001b[43m \u001b[49m\u001b[38;5;241;43m>\u001b[39;49m\u001b[43m \u001b[49m\u001b[38;5;241;43m1\u001b[39;49m\u001b[43m \u001b[49m\u001b[38;5;28;43;01melse\u001b[39;49;00m\u001b[43m \u001b[49m\u001b[43mx\u001b[49m\u001b[38;5;241;43m.\u001b[39;49m\u001b[43mloc\u001b[49m\u001b[43m[\u001b[49m\u001b[38;5;124;43m'\u001b[39;49m\u001b[38;5;124;43mspeed_up\u001b[39;49m\u001b[38;5;124;43m'\u001b[39;49m\u001b[43m]\u001b[49m\u001b[43m)\u001b[49m\n\u001b[0;32m     12\u001b[0m df_speedup\u001b[38;5;241m.\u001b[39mto_excel(\u001b[38;5;124m'\u001b[39m\u001b[38;5;124mdf_speedup_without_none.xlsx\u001b[39m\u001b[38;5;124m'\u001b[39m)\n\u001b[0;32m     14\u001b[0m fig \u001b[38;5;241m=\u001b[39m px\u001b[38;5;241m.\u001b[39mhistogram(df_speedup, x\u001b[38;5;241m=\u001b[39m\u001b[38;5;124m\"\u001b[39m\u001b[38;5;124mspeed_up\u001b[39m\u001b[38;5;124m\"\u001b[39m, range_x\u001b[38;5;241m=\u001b[39m[\u001b[38;5;241m0\u001b[39m,\u001b[38;5;241m10\u001b[39m])\n",
      "File \u001b[1;32m~\\AppData\\Local\\Packages\\PythonSoftwareFoundation.Python.3.11_qbz5n2kfra8p0\\LocalCache\\local-packages\\Python311\\site-packages\\pandas\\core\\frame.py:10374\u001b[0m, in \u001b[0;36mDataFrame.apply\u001b[1;34m(self, func, axis, raw, result_type, args, by_row, engine, engine_kwargs, **kwargs)\u001b[0m\n\u001b[0;32m  10360\u001b[0m \u001b[38;5;28;01mfrom\u001b[39;00m \u001b[38;5;21;01mpandas\u001b[39;00m\u001b[38;5;21;01m.\u001b[39;00m\u001b[38;5;21;01mcore\u001b[39;00m\u001b[38;5;21;01m.\u001b[39;00m\u001b[38;5;21;01mapply\u001b[39;00m \u001b[38;5;28;01mimport\u001b[39;00m frame_apply\n\u001b[0;32m  10362\u001b[0m op \u001b[38;5;241m=\u001b[39m frame_apply(\n\u001b[0;32m  10363\u001b[0m     \u001b[38;5;28mself\u001b[39m,\n\u001b[0;32m  10364\u001b[0m     func\u001b[38;5;241m=\u001b[39mfunc,\n\u001b[1;32m   (...)\u001b[0m\n\u001b[0;32m  10372\u001b[0m     kwargs\u001b[38;5;241m=\u001b[39mkwargs,\n\u001b[0;32m  10373\u001b[0m )\n\u001b[1;32m> 10374\u001b[0m \u001b[38;5;28;01mreturn\u001b[39;00m \u001b[43mop\u001b[49m\u001b[38;5;241;43m.\u001b[39;49m\u001b[43mapply\u001b[49m\u001b[43m(\u001b[49m\u001b[43m)\u001b[49m\u001b[38;5;241m.\u001b[39m__finalize__(\u001b[38;5;28mself\u001b[39m, method\u001b[38;5;241m=\u001b[39m\u001b[38;5;124m\"\u001b[39m\u001b[38;5;124mapply\u001b[39m\u001b[38;5;124m\"\u001b[39m)\n",
      "File \u001b[1;32m~\\AppData\\Local\\Packages\\PythonSoftwareFoundation.Python.3.11_qbz5n2kfra8p0\\LocalCache\\local-packages\\Python311\\site-packages\\pandas\\core\\apply.py:916\u001b[0m, in \u001b[0;36mFrameApply.apply\u001b[1;34m(self)\u001b[0m\n\u001b[0;32m    913\u001b[0m \u001b[38;5;28;01melif\u001b[39;00m \u001b[38;5;28mself\u001b[39m\u001b[38;5;241m.\u001b[39mraw:\n\u001b[0;32m    914\u001b[0m     \u001b[38;5;28;01mreturn\u001b[39;00m \u001b[38;5;28mself\u001b[39m\u001b[38;5;241m.\u001b[39mapply_raw(engine\u001b[38;5;241m=\u001b[39m\u001b[38;5;28mself\u001b[39m\u001b[38;5;241m.\u001b[39mengine, engine_kwargs\u001b[38;5;241m=\u001b[39m\u001b[38;5;28mself\u001b[39m\u001b[38;5;241m.\u001b[39mengine_kwargs)\n\u001b[1;32m--> 916\u001b[0m \u001b[38;5;28;01mreturn\u001b[39;00m \u001b[38;5;28;43mself\u001b[39;49m\u001b[38;5;241;43m.\u001b[39;49m\u001b[43mapply_standard\u001b[49m\u001b[43m(\u001b[49m\u001b[43m)\u001b[49m\n",
      "File \u001b[1;32m~\\AppData\\Local\\Packages\\PythonSoftwareFoundation.Python.3.11_qbz5n2kfra8p0\\LocalCache\\local-packages\\Python311\\site-packages\\pandas\\core\\apply.py:1063\u001b[0m, in \u001b[0;36mFrameApply.apply_standard\u001b[1;34m(self)\u001b[0m\n\u001b[0;32m   1061\u001b[0m \u001b[38;5;28;01mdef\u001b[39;00m \u001b[38;5;21mapply_standard\u001b[39m(\u001b[38;5;28mself\u001b[39m):\n\u001b[0;32m   1062\u001b[0m     \u001b[38;5;28;01mif\u001b[39;00m \u001b[38;5;28mself\u001b[39m\u001b[38;5;241m.\u001b[39mengine \u001b[38;5;241m==\u001b[39m \u001b[38;5;124m\"\u001b[39m\u001b[38;5;124mpython\u001b[39m\u001b[38;5;124m\"\u001b[39m:\n\u001b[1;32m-> 1063\u001b[0m         results, res_index \u001b[38;5;241m=\u001b[39m \u001b[38;5;28;43mself\u001b[39;49m\u001b[38;5;241;43m.\u001b[39;49m\u001b[43mapply_series_generator\u001b[49m\u001b[43m(\u001b[49m\u001b[43m)\u001b[49m\n\u001b[0;32m   1064\u001b[0m     \u001b[38;5;28;01melse\u001b[39;00m:\n\u001b[0;32m   1065\u001b[0m         results, res_index \u001b[38;5;241m=\u001b[39m \u001b[38;5;28mself\u001b[39m\u001b[38;5;241m.\u001b[39mapply_series_numba()\n",
      "File \u001b[1;32m~\\AppData\\Local\\Packages\\PythonSoftwareFoundation.Python.3.11_qbz5n2kfra8p0\\LocalCache\\local-packages\\Python311\\site-packages\\pandas\\core\\apply.py:1081\u001b[0m, in \u001b[0;36mFrameApply.apply_series_generator\u001b[1;34m(self)\u001b[0m\n\u001b[0;32m   1078\u001b[0m \u001b[38;5;28;01mwith\u001b[39;00m option_context(\u001b[38;5;124m\"\u001b[39m\u001b[38;5;124mmode.chained_assignment\u001b[39m\u001b[38;5;124m\"\u001b[39m, \u001b[38;5;28;01mNone\u001b[39;00m):\n\u001b[0;32m   1079\u001b[0m     \u001b[38;5;28;01mfor\u001b[39;00m i, v \u001b[38;5;129;01min\u001b[39;00m \u001b[38;5;28menumerate\u001b[39m(series_gen):\n\u001b[0;32m   1080\u001b[0m         \u001b[38;5;66;03m# ignore SettingWithCopy here in case the user mutates\u001b[39;00m\n\u001b[1;32m-> 1081\u001b[0m         results[i] \u001b[38;5;241m=\u001b[39m \u001b[38;5;28;43mself\u001b[39;49m\u001b[38;5;241;43m.\u001b[39;49m\u001b[43mfunc\u001b[49m\u001b[43m(\u001b[49m\u001b[43mv\u001b[49m\u001b[43m,\u001b[49m\u001b[43m \u001b[49m\u001b[38;5;241;43m*\u001b[39;49m\u001b[38;5;28;43mself\u001b[39;49m\u001b[38;5;241;43m.\u001b[39;49m\u001b[43margs\u001b[49m\u001b[43m,\u001b[49m\u001b[43m \u001b[49m\u001b[38;5;241;43m*\u001b[39;49m\u001b[38;5;241;43m*\u001b[39;49m\u001b[38;5;28;43mself\u001b[39;49m\u001b[38;5;241;43m.\u001b[39;49m\u001b[43mkwargs\u001b[49m\u001b[43m)\u001b[49m\n\u001b[0;32m   1082\u001b[0m         \u001b[38;5;28;01mif\u001b[39;00m \u001b[38;5;28misinstance\u001b[39m(results[i], ABCSeries):\n\u001b[0;32m   1083\u001b[0m             \u001b[38;5;66;03m# If we have a view on v, we need to make a copy because\u001b[39;00m\n\u001b[0;32m   1084\u001b[0m             \u001b[38;5;66;03m#  series_generator will swap out the underlying data\u001b[39;00m\n\u001b[0;32m   1085\u001b[0m             results[i] \u001b[38;5;241m=\u001b[39m results[i]\u001b[38;5;241m.\u001b[39mcopy(deep\u001b[38;5;241m=\u001b[39m\u001b[38;5;28;01mFalse\u001b[39;00m)\n",
      "Cell \u001b[1;32mIn[23], line 10\u001b[0m, in \u001b[0;36m<lambda>\u001b[1;34m(x)\u001b[0m\n\u001b[0;32m      8\u001b[0m max_speedup \u001b[38;5;241m=\u001b[39m df_speedup[\u001b[38;5;124m'\u001b[39m\u001b[38;5;124mspeed_up\u001b[39m\u001b[38;5;124m'\u001b[39m]\u001b[38;5;241m.\u001b[39mmax()\n\u001b[0;32m      9\u001b[0m max_speedup \u001b[38;5;241m=\u001b[39m max_speedup \u001b[38;5;241m/\u001b[39m \u001b[38;5;241m10.0\u001b[39m\n\u001b[1;32m---> 10\u001b[0m df_speedup[\u001b[38;5;124m'\u001b[39m\u001b[38;5;124mspeed_up\u001b[39m\u001b[38;5;124m'\u001b[39m] \u001b[38;5;241m=\u001b[39m df_speedup\u001b[38;5;241m.\u001b[39mapply(\u001b[38;5;28;01mlambda\u001b[39;00m x : \u001b[38;5;28mfloat\u001b[39m(x\u001b[38;5;241m.\u001b[39mloc[\u001b[38;5;124m'\u001b[39m\u001b[38;5;124mspeed_up\u001b[39m\u001b[38;5;124m'\u001b[39m] \u001b[38;5;241m/\u001b[39m max_speedup) \u001b[38;5;28;01mif\u001b[39;00m \u001b[43mx\u001b[49m\u001b[38;5;241;43m.\u001b[39;49m\u001b[43mloc\u001b[49m\u001b[43m[\u001b[49m\u001b[38;5;124;43m'\u001b[39;49m\u001b[38;5;124;43mspeed_up\u001b[39;49m\u001b[38;5;124;43m'\u001b[39;49m\u001b[43m]\u001b[49m \u001b[38;5;241m>\u001b[39m \u001b[38;5;241m1\u001b[39m \u001b[38;5;28;01melse\u001b[39;00m x\u001b[38;5;241m.\u001b[39mloc[\u001b[38;5;124m'\u001b[39m\u001b[38;5;124mspeed_up\u001b[39m\u001b[38;5;124m'\u001b[39m])\n\u001b[0;32m     12\u001b[0m df_speedup\u001b[38;5;241m.\u001b[39mto_excel(\u001b[38;5;124m'\u001b[39m\u001b[38;5;124mdf_speedup_without_none.xlsx\u001b[39m\u001b[38;5;124m'\u001b[39m)\n\u001b[0;32m     14\u001b[0m fig \u001b[38;5;241m=\u001b[39m px\u001b[38;5;241m.\u001b[39mhistogram(df_speedup, x\u001b[38;5;241m=\u001b[39m\u001b[38;5;124m\"\u001b[39m\u001b[38;5;124mspeed_up\u001b[39m\u001b[38;5;124m\"\u001b[39m, range_x\u001b[38;5;241m=\u001b[39m[\u001b[38;5;241m0\u001b[39m,\u001b[38;5;241m10\u001b[39m])\n",
      "File \u001b[1;32m~\\AppData\\Local\\Packages\\PythonSoftwareFoundation.Python.3.11_qbz5n2kfra8p0\\LocalCache\\local-packages\\Python311\\site-packages\\pandas\\core\\indexing.py:1191\u001b[0m, in \u001b[0;36m_LocationIndexer.__getitem__\u001b[1;34m(self, key)\u001b[0m\n\u001b[0;32m   1189\u001b[0m maybe_callable \u001b[38;5;241m=\u001b[39m com\u001b[38;5;241m.\u001b[39mapply_if_callable(key, \u001b[38;5;28mself\u001b[39m\u001b[38;5;241m.\u001b[39mobj)\n\u001b[0;32m   1190\u001b[0m maybe_callable \u001b[38;5;241m=\u001b[39m \u001b[38;5;28mself\u001b[39m\u001b[38;5;241m.\u001b[39m_check_deprecated_callable_usage(key, maybe_callable)\n\u001b[1;32m-> 1191\u001b[0m \u001b[38;5;28;01mreturn\u001b[39;00m \u001b[38;5;28;43mself\u001b[39;49m\u001b[38;5;241;43m.\u001b[39;49m\u001b[43m_getitem_axis\u001b[49m\u001b[43m(\u001b[49m\u001b[43mmaybe_callable\u001b[49m\u001b[43m,\u001b[49m\u001b[43m \u001b[49m\u001b[43maxis\u001b[49m\u001b[38;5;241;43m=\u001b[39;49m\u001b[43maxis\u001b[49m\u001b[43m)\u001b[49m\n",
      "File \u001b[1;32m~\\AppData\\Local\\Packages\\PythonSoftwareFoundation.Python.3.11_qbz5n2kfra8p0\\LocalCache\\local-packages\\Python311\\site-packages\\pandas\\core\\indexing.py:1431\u001b[0m, in \u001b[0;36m_LocIndexer._getitem_axis\u001b[1;34m(self, key, axis)\u001b[0m\n\u001b[0;32m   1429\u001b[0m \u001b[38;5;66;03m# fall thru to straight lookup\u001b[39;00m\n\u001b[0;32m   1430\u001b[0m \u001b[38;5;28mself\u001b[39m\u001b[38;5;241m.\u001b[39m_validate_key(key, axis)\n\u001b[1;32m-> 1431\u001b[0m \u001b[38;5;28;01mreturn\u001b[39;00m \u001b[38;5;28;43mself\u001b[39;49m\u001b[38;5;241;43m.\u001b[39;49m\u001b[43m_get_label\u001b[49m\u001b[43m(\u001b[49m\u001b[43mkey\u001b[49m\u001b[43m,\u001b[49m\u001b[43m \u001b[49m\u001b[43maxis\u001b[49m\u001b[38;5;241;43m=\u001b[39;49m\u001b[43maxis\u001b[49m\u001b[43m)\u001b[49m\n",
      "File \u001b[1;32m~\\AppData\\Local\\Packages\\PythonSoftwareFoundation.Python.3.11_qbz5n2kfra8p0\\LocalCache\\local-packages\\Python311\\site-packages\\pandas\\core\\indexing.py:1381\u001b[0m, in \u001b[0;36m_LocIndexer._get_label\u001b[1;34m(self, label, axis)\u001b[0m\n\u001b[0;32m   1379\u001b[0m \u001b[38;5;28;01mdef\u001b[39;00m \u001b[38;5;21m_get_label\u001b[39m(\u001b[38;5;28mself\u001b[39m, label, axis: AxisInt):\n\u001b[0;32m   1380\u001b[0m     \u001b[38;5;66;03m# GH#5567 this will fail if the label is not present in the axis.\u001b[39;00m\n\u001b[1;32m-> 1381\u001b[0m     \u001b[38;5;28;01mreturn\u001b[39;00m \u001b[38;5;28;43mself\u001b[39;49m\u001b[38;5;241;43m.\u001b[39;49m\u001b[43mobj\u001b[49m\u001b[38;5;241;43m.\u001b[39;49m\u001b[43mxs\u001b[49m\u001b[43m(\u001b[49m\u001b[43mlabel\u001b[49m\u001b[43m,\u001b[49m\u001b[43m \u001b[49m\u001b[43maxis\u001b[49m\u001b[38;5;241;43m=\u001b[39;49m\u001b[43maxis\u001b[49m\u001b[43m)\u001b[49m\n",
      "File \u001b[1;32m~\\AppData\\Local\\Packages\\PythonSoftwareFoundation.Python.3.11_qbz5n2kfra8p0\\LocalCache\\local-packages\\Python311\\site-packages\\pandas\\core\\generic.py:4301\u001b[0m, in \u001b[0;36mNDFrame.xs\u001b[1;34m(self, key, axis, level, drop_level)\u001b[0m\n\u001b[0;32m   4299\u001b[0m             new_index \u001b[38;5;241m=\u001b[39m index[loc]\n\u001b[0;32m   4300\u001b[0m \u001b[38;5;28;01melse\u001b[39;00m:\n\u001b[1;32m-> 4301\u001b[0m     loc \u001b[38;5;241m=\u001b[39m \u001b[43mindex\u001b[49m\u001b[38;5;241;43m.\u001b[39;49m\u001b[43mget_loc\u001b[49m\u001b[43m(\u001b[49m\u001b[43mkey\u001b[49m\u001b[43m)\u001b[49m\n\u001b[0;32m   4303\u001b[0m     \u001b[38;5;28;01mif\u001b[39;00m \u001b[38;5;28misinstance\u001b[39m(loc, np\u001b[38;5;241m.\u001b[39mndarray):\n\u001b[0;32m   4304\u001b[0m         \u001b[38;5;28;01mif\u001b[39;00m loc\u001b[38;5;241m.\u001b[39mdtype \u001b[38;5;241m==\u001b[39m np\u001b[38;5;241m.\u001b[39mbool_:\n",
      "File \u001b[1;32m~\\AppData\\Local\\Packages\\PythonSoftwareFoundation.Python.3.11_qbz5n2kfra8p0\\LocalCache\\local-packages\\Python311\\site-packages\\pandas\\core\\indexes\\base.py:3812\u001b[0m, in \u001b[0;36mIndex.get_loc\u001b[1;34m(self, key)\u001b[0m\n\u001b[0;32m   3807\u001b[0m     \u001b[38;5;28;01mif\u001b[39;00m \u001b[38;5;28misinstance\u001b[39m(casted_key, \u001b[38;5;28mslice\u001b[39m) \u001b[38;5;129;01mor\u001b[39;00m (\n\u001b[0;32m   3808\u001b[0m         \u001b[38;5;28misinstance\u001b[39m(casted_key, abc\u001b[38;5;241m.\u001b[39mIterable)\n\u001b[0;32m   3809\u001b[0m         \u001b[38;5;129;01mand\u001b[39;00m \u001b[38;5;28many\u001b[39m(\u001b[38;5;28misinstance\u001b[39m(x, \u001b[38;5;28mslice\u001b[39m) \u001b[38;5;28;01mfor\u001b[39;00m x \u001b[38;5;129;01min\u001b[39;00m casted_key)\n\u001b[0;32m   3810\u001b[0m     ):\n\u001b[0;32m   3811\u001b[0m         \u001b[38;5;28;01mraise\u001b[39;00m InvalidIndexError(key)\n\u001b[1;32m-> 3812\u001b[0m     \u001b[38;5;28;01mraise\u001b[39;00m \u001b[38;5;167;01mKeyError\u001b[39;00m(key) \u001b[38;5;28;01mfrom\u001b[39;00m \u001b[38;5;21;01merr\u001b[39;00m\n\u001b[0;32m   3813\u001b[0m \u001b[38;5;28;01mexcept\u001b[39;00m \u001b[38;5;167;01mTypeError\u001b[39;00m:\n\u001b[0;32m   3814\u001b[0m     \u001b[38;5;66;03m# If we have a listlike key, _check_indexing_error will raise\u001b[39;00m\n\u001b[0;32m   3815\u001b[0m     \u001b[38;5;66;03m#  InvalidIndexError. Otherwise we fall through and re-raise\u001b[39;00m\n\u001b[0;32m   3816\u001b[0m     \u001b[38;5;66;03m#  the TypeError.\u001b[39;00m\n\u001b[0;32m   3817\u001b[0m     \u001b[38;5;28mself\u001b[39m\u001b[38;5;241m.\u001b[39m_check_indexing_error(key)\n",
      "\u001b[1;31mKeyError\u001b[0m: 'speed_up'"
     ]
    }
   ],
   "source": [
    "import pandas as pd\n",
    "import plotly.express as px\n",
    "\n",
    "df_speedup = pd.read_excel('df_speedup.xlsx')\n",
    "df_speedup = df_speedup.dropna().reset_index()\n",
    "df_speedup = df_speedup[df_speedup['speed_up'] != 1]\n",
    "\n",
    "max_speedup = df_speedup['speed_up'].max()\n",
    "max_speedup = max_speedup / 10.0\n",
    "df_speedup['speed_up'] = df_speedup.apply(lambda x : float(x.loc['speed_up'] / max_speedup) if x.loc['speed_up'] > 1 else x.loc['speed_up'])\n",
    "\n",
    "df_speedup.to_excel('df_speedup_without_none.xlsx')\n",
    "\n",
    "fig = px.histogram(df_speedup, x=\"speed_up\", range_x=[0,10])\n",
    "fig.show()\n",
    "arroz = 1"
   ]
  },
  {
   "cell_type": "code",
   "execution_count": null,
   "metadata": {},
   "outputs": [],
   "source": []
  }
 ],
 "metadata": {
  "kernelspec": {
   "display_name": ".venv",
   "language": "python",
   "name": "python3"
  },
  "language_info": {
   "codemirror_mode": {
    "name": "ipython",
    "version": 3
   },
   "file_extension": ".py",
   "mimetype": "text/x-python",
   "name": "python",
   "nbconvert_exporter": "python",
   "pygments_lexer": "ipython3",
   "version": "3.11.9"
  }
 },
 "nbformat": 4,
 "nbformat_minor": 2
}
