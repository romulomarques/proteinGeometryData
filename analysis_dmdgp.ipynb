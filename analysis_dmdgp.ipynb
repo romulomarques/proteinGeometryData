{
 "cells": [
  {
   "cell_type": "markdown",
   "metadata": {},
   "source": [
    "# Read Data"
   ]
  },
  {
   "cell_type": "code",
   "execution_count": 1,
   "metadata": {},
   "outputs": [
    {
     "name": "stdout",
     "output_type": "stream",
     "text": [
      "Loading df_prune.pkl\n"
     ]
    },
    {
     "data": {
      "text/plain": [
       "Index(['i', 'j', 'i_name', 'j_name', 'i_residue_number', 'j_residue_number',\n",
       "       'dij', 'bsol', 'len_bsol', 'constraint'],\n",
       "      dtype='object')"
      ]
     },
     "execution_count": 1,
     "metadata": {},
     "output_type": "execute_result"
    }
   ],
   "source": [
    "import os\n",
    "import pickle\n",
    "import pandas as pd\n",
    "from tqdm import tqdm\n",
    "from concurrent.futures import ProcessPoolExecutor\n",
    "\n",
    "def read_prune(fn_csv):\n",
    "    return pd.read_csv(f'prune_bsol/{fn_csv}', dtype={'bsol': 'str'})\n",
    "\n",
    "def flip_bsol(bsol:str) -> str:\n",
    "    # ensure that the bsol starts with 0\n",
    "    if bsol[0] == '1':\n",
    "        return ''.join(['0' if c == '1' else '1' for c in bsol])\n",
    "    return bsol\n",
    "\n",
    "def read_prune_all() -> pd.DataFrame:\n",
    "    fn_pkl = 'df_prune.pkl'\n",
    "    if os.path.exists(fn_pkl):\n",
    "        print('Loading df_prune.pkl')\n",
    "        with open(fn_pkl, 'rb') as f:\n",
    "            return pickle.load(f)\n",
    "        \n",
    "    csv_files = [fn for fn in os.listdir('prune_bsol') if fn.endswith('.csv')]\n",
    "\n",
    "    # with ProcessPoolExecutor() as executor:\n",
    "    #     data = list(tqdm(executor.map(read_prune, csv_files), total=len(csv_files)))\n",
    "    \n",
    "    data = []\n",
    "    for file in tqdm(csv_files):\n",
    "        data.append(read_prune(file))\n",
    "\n",
    "    df = pd.concat(data, ignore_index=True)\n",
    "\n",
    "    # \n",
    "    df['bsol'] = df['bsol'].apply(flip_bsol)\n",
    "\n",
    "    df['len_bsol'] = df['bsol'].apply(len)\n",
    "\n",
    "    df['constraint'] = df.apply(lambda x: f\"{x['i_name']} {x['j'] - x['i']} {x['j_name']}\", axis=1)\n",
    "\n",
    "    # save as pickle\n",
    "    print('Saving df_prune.pkl')\n",
    "    with open('df_prune.pkl', 'wb') as f:\n",
    "        pickle.dump(df, f)\n",
    "    return df\n",
    "\n",
    "df_prune = read_prune_all()\n",
    "df_prune.columns"
   ]
  },
  {
   "cell_type": "markdown",
   "metadata": {},
   "source": [
    "# Constraint analysis"
   ]
  },
  {
   "cell_type": "code",
   "execution_count": 2,
   "metadata": {},
   "outputs": [
    {
     "name": "stdout",
     "output_type": "stream",
     "text": [
      "(8258, 7)\n"
     ]
    },
    {
     "data": {
      "text/html": [
       "<div>\n",
       "<style scoped>\n",
       "    .dataframe tbody tr th:only-of-type {\n",
       "        vertical-align: middle;\n",
       "    }\n",
       "\n",
       "    .dataframe tbody tr th {\n",
       "        vertical-align: top;\n",
       "    }\n",
       "\n",
       "    .dataframe thead th {\n",
       "        text-align: right;\n",
       "    }\n",
       "</style>\n",
       "<table border=\"1\" class=\"dataframe\">\n",
       "  <thead>\n",
       "    <tr style=\"text-align: right;\">\n",
       "      <th></th>\n",
       "      <th>len_bsol</th>\n",
       "      <th>bsol</th>\n",
       "      <th>count</th>\n",
       "      <th>total</th>\n",
       "      <th>relfreq</th>\n",
       "      <th>length</th>\n",
       "      <th>uniform</th>\n",
       "    </tr>\n",
       "  </thead>\n",
       "  <tbody>\n",
       "    <tr>\n",
       "      <th>1</th>\n",
       "      <td>2</td>\n",
       "      <td>01</td>\n",
       "      <td>1015891</td>\n",
       "      <td>1458773</td>\n",
       "      <td>0.696401</td>\n",
       "      <td>2</td>\n",
       "      <td>0.500</td>\n",
       "    </tr>\n",
       "    <tr>\n",
       "      <th>0</th>\n",
       "      <td>2</td>\n",
       "      <td>00</td>\n",
       "      <td>442882</td>\n",
       "      <td>1458773</td>\n",
       "      <td>0.303599</td>\n",
       "      <td>2</td>\n",
       "      <td>0.500</td>\n",
       "    </tr>\n",
       "    <tr>\n",
       "      <th>5</th>\n",
       "      <td>4</td>\n",
       "      <td>0011</td>\n",
       "      <td>515092</td>\n",
       "      <td>1442468</td>\n",
       "      <td>0.357091</td>\n",
       "      <td>4</td>\n",
       "      <td>0.125</td>\n",
       "    </tr>\n",
       "    <tr>\n",
       "      <th>7</th>\n",
       "      <td>4</td>\n",
       "      <td>0101</td>\n",
       "      <td>208964</td>\n",
       "      <td>1442468</td>\n",
       "      <td>0.144866</td>\n",
       "      <td>4</td>\n",
       "      <td>0.125</td>\n",
       "    </tr>\n",
       "    <tr>\n",
       "      <th>4</th>\n",
       "      <td>4</td>\n",
       "      <td>0010</td>\n",
       "      <td>183661</td>\n",
       "      <td>1442468</td>\n",
       "      <td>0.127324</td>\n",
       "      <td>4</td>\n",
       "      <td>0.125</td>\n",
       "    </tr>\n",
       "    <tr>\n",
       "      <th>9</th>\n",
       "      <td>4</td>\n",
       "      <td>0111</td>\n",
       "      <td>165758</td>\n",
       "      <td>1442468</td>\n",
       "      <td>0.114913</td>\n",
       "      <td>4</td>\n",
       "      <td>0.125</td>\n",
       "    </tr>\n",
       "    <tr>\n",
       "      <th>3</th>\n",
       "      <td>4</td>\n",
       "      <td>0001</td>\n",
       "      <td>137198</td>\n",
       "      <td>1442468</td>\n",
       "      <td>0.095113</td>\n",
       "      <td>4</td>\n",
       "      <td>0.125</td>\n",
       "    </tr>\n",
       "    <tr>\n",
       "      <th>6</th>\n",
       "      <td>4</td>\n",
       "      <td>0100</td>\n",
       "      <td>101013</td>\n",
       "      <td>1442468</td>\n",
       "      <td>0.070028</td>\n",
       "      <td>4</td>\n",
       "      <td>0.125</td>\n",
       "    </tr>\n",
       "    <tr>\n",
       "      <th>2</th>\n",
       "      <td>4</td>\n",
       "      <td>0000</td>\n",
       "      <td>68403</td>\n",
       "      <td>1442468</td>\n",
       "      <td>0.047421</td>\n",
       "      <td>4</td>\n",
       "      <td>0.125</td>\n",
       "    </tr>\n",
       "    <tr>\n",
       "      <th>8</th>\n",
       "      <td>4</td>\n",
       "      <td>0110</td>\n",
       "      <td>62379</td>\n",
       "      <td>1442468</td>\n",
       "      <td>0.043245</td>\n",
       "      <td>4</td>\n",
       "      <td>0.125</td>\n",
       "    </tr>\n",
       "  </tbody>\n",
       "</table>\n",
       "</div>"
      ],
      "text/plain": [
       "   len_bsol  bsol    count    total   relfreq length  uniform\n",
       "1         2    01  1015891  1458773  0.696401      2    0.500\n",
       "0         2    00   442882  1458773  0.303599      2    0.500\n",
       "5         4  0011   515092  1442468  0.357091      4    0.125\n",
       "7         4  0101   208964  1442468  0.144866      4    0.125\n",
       "4         4  0010   183661  1442468  0.127324      4    0.125\n",
       "9         4  0111   165758  1442468  0.114913      4    0.125\n",
       "3         4  0001   137198  1442468  0.095113      4    0.125\n",
       "6         4  0100   101013  1442468  0.070028      4    0.125\n",
       "2         4  0000    68403  1442468  0.047421      4    0.125\n",
       "8         4  0110    62379  1442468  0.043245      4    0.125"
      ]
     },
     "execution_count": 2,
     "metadata": {},
     "output_type": "execute_result"
    }
   ],
   "source": [
    "def create_df_stats(df_prune:pd.DataFrame, max_length=20) -> pd.DataFrame:\n",
    "    # frequency relative taking into account the length of the bsol\n",
    "    df_relfreq = df_prune[['len_bsol','bsol','dij']].groupby(['len_bsol','bsol']).count().reset_index()\n",
    "    # rename columns\n",
    "    df_relfreq.rename(columns={'dij':'count'}, inplace=True)\n",
    "    # total number of bsol for each length\n",
    "    df_relfreq['total'] = df_relfreq.groupby('len_bsol')['count'].transform('sum')\n",
    "    # frequency relative\n",
    "    df_relfreq['relfreq'] = df_relfreq['count'] / df_relfreq['total']\n",
    "    # sort by length and frequency relative\n",
    "    df_relfreq.sort_values(['len_bsol','relfreq'], ascending=[True,False], inplace=True)\n",
    "    # length as string\n",
    "    df_relfreq['length'] = df_relfreq['len_bsol'].astype(str)\n",
    "    # uniform distribution\n",
    "    # the first bit is fixed to 0 (flip), so the dof is 2^(len_bsol - 1)\n",
    "    df_relfreq['uniform'] = 1.0 / (2 ** (df_relfreq['len_bsol'] - 1))\n",
    "    # keep only the instances with len_bsol <= 20\n",
    "    df_relfreq = df_relfreq[df_relfreq['len_bsol'] <= max_length]\n",
    "    return df_relfreq\n",
    "\n",
    "df_stats = create_df_stats(df_prune)\n",
    "print(df_stats.shape)\n",
    "df_stats.head(10)"
   ]
  },
  {
   "cell_type": "code",
   "execution_count": 3,
   "metadata": {},
   "outputs": [
    {
     "data": {
      "application/vnd.plotly.v1+json": {
       "config": {
        "plotlyServerURL": "https://plot.ly"
       },
       "data": [
        {
         "hovertemplate": "length=%{x}<br>total=%{y}<extra></extra>",
         "legendgroup": "",
         "marker": {
          "color": "#636efa",
          "symbol": "circle"
         },
         "mode": "markers",
         "name": "",
         "orientation": "v",
         "showlegend": false,
         "type": "scatter",
         "x": [
          "2",
          "4",
          "7",
          "10",
          "13",
          "16",
          "19"
         ],
         "xaxis": "x",
         "y": [
          1458773,
          1442468,
          599397,
          325481,
          285437,
          228905,
          207492
         ],
         "yaxis": "y"
        }
       ],
       "layout": {
        "height": 400,
        "legend": {
         "tracegroupgap": 0
        },
        "template": {
         "data": {
          "bar": [
           {
            "error_x": {
             "color": "#2a3f5f"
            },
            "error_y": {
             "color": "#2a3f5f"
            },
            "marker": {
             "line": {
              "color": "#E5ECF6",
              "width": 0.5
             },
             "pattern": {
              "fillmode": "overlay",
              "size": 10,
              "solidity": 0.2
             }
            },
            "type": "bar"
           }
          ],
          "barpolar": [
           {
            "marker": {
             "line": {
              "color": "#E5ECF6",
              "width": 0.5
             },
             "pattern": {
              "fillmode": "overlay",
              "size": 10,
              "solidity": 0.2
             }
            },
            "type": "barpolar"
           }
          ],
          "carpet": [
           {
            "aaxis": {
             "endlinecolor": "#2a3f5f",
             "gridcolor": "white",
             "linecolor": "white",
             "minorgridcolor": "white",
             "startlinecolor": "#2a3f5f"
            },
            "baxis": {
             "endlinecolor": "#2a3f5f",
             "gridcolor": "white",
             "linecolor": "white",
             "minorgridcolor": "white",
             "startlinecolor": "#2a3f5f"
            },
            "type": "carpet"
           }
          ],
          "choropleth": [
           {
            "colorbar": {
             "outlinewidth": 0,
             "ticks": ""
            },
            "type": "choropleth"
           }
          ],
          "contour": [
           {
            "colorbar": {
             "outlinewidth": 0,
             "ticks": ""
            },
            "colorscale": [
             [
              0,
              "#0d0887"
             ],
             [
              0.1111111111111111,
              "#46039f"
             ],
             [
              0.2222222222222222,
              "#7201a8"
             ],
             [
              0.3333333333333333,
              "#9c179e"
             ],
             [
              0.4444444444444444,
              "#bd3786"
             ],
             [
              0.5555555555555556,
              "#d8576b"
             ],
             [
              0.6666666666666666,
              "#ed7953"
             ],
             [
              0.7777777777777778,
              "#fb9f3a"
             ],
             [
              0.8888888888888888,
              "#fdca26"
             ],
             [
              1,
              "#f0f921"
             ]
            ],
            "type": "contour"
           }
          ],
          "contourcarpet": [
           {
            "colorbar": {
             "outlinewidth": 0,
             "ticks": ""
            },
            "type": "contourcarpet"
           }
          ],
          "heatmap": [
           {
            "colorbar": {
             "outlinewidth": 0,
             "ticks": ""
            },
            "colorscale": [
             [
              0,
              "#0d0887"
             ],
             [
              0.1111111111111111,
              "#46039f"
             ],
             [
              0.2222222222222222,
              "#7201a8"
             ],
             [
              0.3333333333333333,
              "#9c179e"
             ],
             [
              0.4444444444444444,
              "#bd3786"
             ],
             [
              0.5555555555555556,
              "#d8576b"
             ],
             [
              0.6666666666666666,
              "#ed7953"
             ],
             [
              0.7777777777777778,
              "#fb9f3a"
             ],
             [
              0.8888888888888888,
              "#fdca26"
             ],
             [
              1,
              "#f0f921"
             ]
            ],
            "type": "heatmap"
           }
          ],
          "heatmapgl": [
           {
            "colorbar": {
             "outlinewidth": 0,
             "ticks": ""
            },
            "colorscale": [
             [
              0,
              "#0d0887"
             ],
             [
              0.1111111111111111,
              "#46039f"
             ],
             [
              0.2222222222222222,
              "#7201a8"
             ],
             [
              0.3333333333333333,
              "#9c179e"
             ],
             [
              0.4444444444444444,
              "#bd3786"
             ],
             [
              0.5555555555555556,
              "#d8576b"
             ],
             [
              0.6666666666666666,
              "#ed7953"
             ],
             [
              0.7777777777777778,
              "#fb9f3a"
             ],
             [
              0.8888888888888888,
              "#fdca26"
             ],
             [
              1,
              "#f0f921"
             ]
            ],
            "type": "heatmapgl"
           }
          ],
          "histogram": [
           {
            "marker": {
             "pattern": {
              "fillmode": "overlay",
              "size": 10,
              "solidity": 0.2
             }
            },
            "type": "histogram"
           }
          ],
          "histogram2d": [
           {
            "colorbar": {
             "outlinewidth": 0,
             "ticks": ""
            },
            "colorscale": [
             [
              0,
              "#0d0887"
             ],
             [
              0.1111111111111111,
              "#46039f"
             ],
             [
              0.2222222222222222,
              "#7201a8"
             ],
             [
              0.3333333333333333,
              "#9c179e"
             ],
             [
              0.4444444444444444,
              "#bd3786"
             ],
             [
              0.5555555555555556,
              "#d8576b"
             ],
             [
              0.6666666666666666,
              "#ed7953"
             ],
             [
              0.7777777777777778,
              "#fb9f3a"
             ],
             [
              0.8888888888888888,
              "#fdca26"
             ],
             [
              1,
              "#f0f921"
             ]
            ],
            "type": "histogram2d"
           }
          ],
          "histogram2dcontour": [
           {
            "colorbar": {
             "outlinewidth": 0,
             "ticks": ""
            },
            "colorscale": [
             [
              0,
              "#0d0887"
             ],
             [
              0.1111111111111111,
              "#46039f"
             ],
             [
              0.2222222222222222,
              "#7201a8"
             ],
             [
              0.3333333333333333,
              "#9c179e"
             ],
             [
              0.4444444444444444,
              "#bd3786"
             ],
             [
              0.5555555555555556,
              "#d8576b"
             ],
             [
              0.6666666666666666,
              "#ed7953"
             ],
             [
              0.7777777777777778,
              "#fb9f3a"
             ],
             [
              0.8888888888888888,
              "#fdca26"
             ],
             [
              1,
              "#f0f921"
             ]
            ],
            "type": "histogram2dcontour"
           }
          ],
          "mesh3d": [
           {
            "colorbar": {
             "outlinewidth": 0,
             "ticks": ""
            },
            "type": "mesh3d"
           }
          ],
          "parcoords": [
           {
            "line": {
             "colorbar": {
              "outlinewidth": 0,
              "ticks": ""
             }
            },
            "type": "parcoords"
           }
          ],
          "pie": [
           {
            "automargin": true,
            "type": "pie"
           }
          ],
          "scatter": [
           {
            "fillpattern": {
             "fillmode": "overlay",
             "size": 10,
             "solidity": 0.2
            },
            "type": "scatter"
           }
          ],
          "scatter3d": [
           {
            "line": {
             "colorbar": {
              "outlinewidth": 0,
              "ticks": ""
             }
            },
            "marker": {
             "colorbar": {
              "outlinewidth": 0,
              "ticks": ""
             }
            },
            "type": "scatter3d"
           }
          ],
          "scattercarpet": [
           {
            "marker": {
             "colorbar": {
              "outlinewidth": 0,
              "ticks": ""
             }
            },
            "type": "scattercarpet"
           }
          ],
          "scattergeo": [
           {
            "marker": {
             "colorbar": {
              "outlinewidth": 0,
              "ticks": ""
             }
            },
            "type": "scattergeo"
           }
          ],
          "scattergl": [
           {
            "marker": {
             "colorbar": {
              "outlinewidth": 0,
              "ticks": ""
             }
            },
            "type": "scattergl"
           }
          ],
          "scattermapbox": [
           {
            "marker": {
             "colorbar": {
              "outlinewidth": 0,
              "ticks": ""
             }
            },
            "type": "scattermapbox"
           }
          ],
          "scatterpolar": [
           {
            "marker": {
             "colorbar": {
              "outlinewidth": 0,
              "ticks": ""
             }
            },
            "type": "scatterpolar"
           }
          ],
          "scatterpolargl": [
           {
            "marker": {
             "colorbar": {
              "outlinewidth": 0,
              "ticks": ""
             }
            },
            "type": "scatterpolargl"
           }
          ],
          "scatterternary": [
           {
            "marker": {
             "colorbar": {
              "outlinewidth": 0,
              "ticks": ""
             }
            },
            "type": "scatterternary"
           }
          ],
          "surface": [
           {
            "colorbar": {
             "outlinewidth": 0,
             "ticks": ""
            },
            "colorscale": [
             [
              0,
              "#0d0887"
             ],
             [
              0.1111111111111111,
              "#46039f"
             ],
             [
              0.2222222222222222,
              "#7201a8"
             ],
             [
              0.3333333333333333,
              "#9c179e"
             ],
             [
              0.4444444444444444,
              "#bd3786"
             ],
             [
              0.5555555555555556,
              "#d8576b"
             ],
             [
              0.6666666666666666,
              "#ed7953"
             ],
             [
              0.7777777777777778,
              "#fb9f3a"
             ],
             [
              0.8888888888888888,
              "#fdca26"
             ],
             [
              1,
              "#f0f921"
             ]
            ],
            "type": "surface"
           }
          ],
          "table": [
           {
            "cells": {
             "fill": {
              "color": "#EBF0F8"
             },
             "line": {
              "color": "white"
             }
            },
            "header": {
             "fill": {
              "color": "#C8D4E3"
             },
             "line": {
              "color": "white"
             }
            },
            "type": "table"
           }
          ]
         },
         "layout": {
          "annotationdefaults": {
           "arrowcolor": "#2a3f5f",
           "arrowhead": 0,
           "arrowwidth": 1
          },
          "autotypenumbers": "strict",
          "coloraxis": {
           "colorbar": {
            "outlinewidth": 0,
            "ticks": ""
           }
          },
          "colorscale": {
           "diverging": [
            [
             0,
             "#8e0152"
            ],
            [
             0.1,
             "#c51b7d"
            ],
            [
             0.2,
             "#de77ae"
            ],
            [
             0.3,
             "#f1b6da"
            ],
            [
             0.4,
             "#fde0ef"
            ],
            [
             0.5,
             "#f7f7f7"
            ],
            [
             0.6,
             "#e6f5d0"
            ],
            [
             0.7,
             "#b8e186"
            ],
            [
             0.8,
             "#7fbc41"
            ],
            [
             0.9,
             "#4d9221"
            ],
            [
             1,
             "#276419"
            ]
           ],
           "sequential": [
            [
             0,
             "#0d0887"
            ],
            [
             0.1111111111111111,
             "#46039f"
            ],
            [
             0.2222222222222222,
             "#7201a8"
            ],
            [
             0.3333333333333333,
             "#9c179e"
            ],
            [
             0.4444444444444444,
             "#bd3786"
            ],
            [
             0.5555555555555556,
             "#d8576b"
            ],
            [
             0.6666666666666666,
             "#ed7953"
            ],
            [
             0.7777777777777778,
             "#fb9f3a"
            ],
            [
             0.8888888888888888,
             "#fdca26"
            ],
            [
             1,
             "#f0f921"
            ]
           ],
           "sequentialminus": [
            [
             0,
             "#0d0887"
            ],
            [
             0.1111111111111111,
             "#46039f"
            ],
            [
             0.2222222222222222,
             "#7201a8"
            ],
            [
             0.3333333333333333,
             "#9c179e"
            ],
            [
             0.4444444444444444,
             "#bd3786"
            ],
            [
             0.5555555555555556,
             "#d8576b"
            ],
            [
             0.6666666666666666,
             "#ed7953"
            ],
            [
             0.7777777777777778,
             "#fb9f3a"
            ],
            [
             0.8888888888888888,
             "#fdca26"
            ],
            [
             1,
             "#f0f921"
            ]
           ]
          },
          "colorway": [
           "#636efa",
           "#EF553B",
           "#00cc96",
           "#ab63fa",
           "#FFA15A",
           "#19d3f3",
           "#FF6692",
           "#B6E880",
           "#FF97FF",
           "#FECB52"
          ],
          "font": {
           "color": "#2a3f5f"
          },
          "geo": {
           "bgcolor": "white",
           "lakecolor": "white",
           "landcolor": "#E5ECF6",
           "showlakes": true,
           "showland": true,
           "subunitcolor": "white"
          },
          "hoverlabel": {
           "align": "left"
          },
          "hovermode": "closest",
          "mapbox": {
           "style": "light"
          },
          "paper_bgcolor": "white",
          "plot_bgcolor": "#E5ECF6",
          "polar": {
           "angularaxis": {
            "gridcolor": "white",
            "linecolor": "white",
            "ticks": ""
           },
           "bgcolor": "#E5ECF6",
           "radialaxis": {
            "gridcolor": "white",
            "linecolor": "white",
            "ticks": ""
           }
          },
          "scene": {
           "xaxis": {
            "backgroundcolor": "#E5ECF6",
            "gridcolor": "white",
            "gridwidth": 2,
            "linecolor": "white",
            "showbackground": true,
            "ticks": "",
            "zerolinecolor": "white"
           },
           "yaxis": {
            "backgroundcolor": "#E5ECF6",
            "gridcolor": "white",
            "gridwidth": 2,
            "linecolor": "white",
            "showbackground": true,
            "ticks": "",
            "zerolinecolor": "white"
           },
           "zaxis": {
            "backgroundcolor": "#E5ECF6",
            "gridcolor": "white",
            "gridwidth": 2,
            "linecolor": "white",
            "showbackground": true,
            "ticks": "",
            "zerolinecolor": "white"
           }
          },
          "shapedefaults": {
           "line": {
            "color": "#2a3f5f"
           }
          },
          "ternary": {
           "aaxis": {
            "gridcolor": "white",
            "linecolor": "white",
            "ticks": ""
           },
           "baxis": {
            "gridcolor": "white",
            "linecolor": "white",
            "ticks": ""
           },
           "bgcolor": "#E5ECF6",
           "caxis": {
            "gridcolor": "white",
            "linecolor": "white",
            "ticks": ""
           }
          },
          "title": {
           "x": 0.05
          },
          "xaxis": {
           "automargin": true,
           "gridcolor": "white",
           "linecolor": "white",
           "ticks": "",
           "title": {
            "standoff": 15
           },
           "zerolinecolor": "white",
           "zerolinewidth": 2
          },
          "yaxis": {
           "automargin": true,
           "gridcolor": "white",
           "linecolor": "white",
           "ticks": "",
           "title": {
            "standoff": 15
           },
           "zerolinecolor": "white",
           "zerolinewidth": 2
          }
         }
        },
        "title": {
         "text": "Number of BSOLs"
        },
        "width": 800,
        "xaxis": {
         "anchor": "y",
         "domain": [
          0,
          1
         ],
         "title": {
          "text": "length"
         }
        },
        "yaxis": {
         "anchor": "x",
         "domain": [
          0,
          1
         ],
         "title": {
          "text": "total"
         },
         "type": "log"
        }
       }
      }
     },
     "metadata": {},
     "output_type": "display_data"
    }
   ],
   "source": [
    "import plotly.express as px\n",
    "\n",
    "# scatter, x=len_bsol, y=count, y axis log scale\n",
    "def plot_count_by_length(df_stats:pd.DataFrame):\n",
    "    df = df_stats[['len_bsol', 'length', 'total']].groupby(['len_bsol','length']).first().reset_index()\n",
    "    fig = px.scatter(df, x='length', y='total', log_y=True,\n",
    "                     title=f\"Number of BSOLs\",)\n",
    "    # set size\n",
    "    fig.update_layout(width=800, height=400)\n",
    "    fig.show()\n",
    "\n",
    "plot_count_by_length(df_stats)"
   ]
  },
  {
   "cell_type": "code",
   "execution_count": 4,
   "metadata": {},
   "outputs": [
    {
     "data": {
      "image/png": "[encoded data removed]",
      "text/plain": [
       "<Figure size 800x400 with 2 Axes>"
      ]
     },
     "metadata": {},
     "output_type": "display_data"
    }
   ],
   "source": [
    "import numpy as np\n",
    "\n",
    "def plot_stats_measures(df_stats:pd.DataFrame) -> pd.DataFrame:\n",
    "    # measure KL divergence\n",
    "    # KL(p||q) = sum(p(x) * log(p(x) / q(x))), where q(x) = 1/2^(len_bsol - 1)\n",
    "    # Note: \n",
    "    #   - The function q is the uniform distribution over all possible BSOLs of length len_bsol.\n",
    "    #   - The minus 1 is because the first bit is fixed to 0.\n",
    "    df = df_stats.copy()\n",
    "    df['KL'] = df_stats.apply(lambda x: x['relfreq'] * np.log2(x['relfreq'] / x['uniform']), axis=1)\n",
    "    # measure Hellinger distance\n",
    "    df['HD'] = df_stats.apply(lambda x: np.sqrt(0.5 * (x['relfreq'] - x['uniform']) ** 2), axis=1)\n",
    "    # sum KL and HD for each length\n",
    "    df = df.groupby(['len_bsol','length']).sum().reset_index()\n",
    "\n",
    "    # plot KL, HD, TV using subplots 1 x 3, each one should have its own y axis\n",
    "    import seaborn as sns\n",
    "    import matplotlib.pyplot as plt\n",
    "\n",
    "    fig, axs = plt.subplots(1, 2, figsize=(8, 4))\n",
    "    sns.lineplot(x='length', y='KL', data=df, ax=axs[0])\n",
    "    axs[0].set_title('KL Divergence')\n",
    "    sns.lineplot(x='length', y='HD', data=df, ax=axs[1])\n",
    "    axs[1].set_title('Hellinger Distance')    \n",
    "    plt.tight_layout()\n",
    "    plt.show()\n",
    "    \n",
    "\n",
    "plot_stats_measures(df_stats)"
   ]
  },
  {
   "cell_type": "markdown",
   "metadata": {},
   "source": [
    "# Constraint by type"
   ]
  },
  {
   "cell_type": "code",
   "execution_count": 6,
   "metadata": {},
   "outputs": [],
   "source": [
    "def create_df_stats_by_constraint(df_prune:pd.DataFrame, max_length:int=20) -> pd.DataFrame:\n",
    "    # frequency relative taking into account the length of the bsol\n",
    "    df_relfreq = df_prune[['len_bsol','bsol','constraint','dij']].groupby(['constraint','bsol','len_bsol']).count().reset_index()\n",
    "    # rename columns\n",
    "    df_relfreq.rename(columns={'dij':'count'}, inplace=True)\n",
    "    # total number of bsol for each length\n",
    "    df_relfreq['total'] = df_relfreq.groupby('constraint')['count'].transform('sum')\n",
    "    # frequency relative\n",
    "    df_relfreq['relfreq'] = df_relfreq['count'] / df_relfreq['total']\n",
    "    # sort by length and frequency relative\n",
    "    df_relfreq.sort_values(['len_bsol','constraint','relfreq'], ascending=[True,True,False], inplace=True)\n",
    "    # length as string\n",
    "    df_relfreq['length'] = df_relfreq['len_bsol'].astype(str) # help plots as string\n",
    "    # uniform distribution\n",
    "    # the first bit is fixed to 0 (flip), so the dof is 2^(len_bsol - 1)\n",
    "    df_relfreq['uniform'] = 1.0 / (2 ** (df_relfreq['len_bsol'] - 1))\n",
    "    # keep only the instances with len_bsol <= 20\n",
    "    df_relfreq = df_relfreq[df_relfreq['len_bsol'] <= max_length]\n",
    "    return df_relfreq"
   ]
  },
  {
   "cell_type": "code",
   "execution_count": 7,
   "metadata": {},
   "outputs": [
    {
     "data": {
      "text/html": [
       "<div>\n",
       "<style scoped>\n",
       "    .dataframe tbody tr th:only-of-type {\n",
       "        vertical-align: middle;\n",
       "    }\n",
       "\n",
       "    .dataframe tbody tr th {\n",
       "        vertical-align: top;\n",
       "    }\n",
       "\n",
       "    .dataframe thead th {\n",
       "        text-align: right;\n",
       "    }\n",
       "</style>\n",
       "<table border=\"1\" class=\"dataframe\">\n",
       "  <thead>\n",
       "    <tr style=\"text-align: right;\">\n",
       "      <th></th>\n",
       "      <th>constraint</th>\n",
       "      <th>bsol</th>\n",
       "      <th>len_bsol</th>\n",
       "      <th>count</th>\n",
       "      <th>total</th>\n",
       "      <th>relfreq</th>\n",
       "      <th>length</th>\n",
       "      <th>uniform</th>\n",
       "    </tr>\n",
       "  </thead>\n",
       "  <tbody>\n",
       "    <tr>\n",
       "      <th>0</th>\n",
       "      <td>C 4 CA</td>\n",
       "      <td>00</td>\n",
       "      <td>2</td>\n",
       "      <td>442822</td>\n",
       "      <td>766210</td>\n",
       "      <td>0.577938</td>\n",
       "      <td>2</td>\n",
       "      <td>0.500</td>\n",
       "    </tr>\n",
       "    <tr>\n",
       "      <th>1</th>\n",
       "      <td>C 4 CA</td>\n",
       "      <td>01</td>\n",
       "      <td>2</td>\n",
       "      <td>323388</td>\n",
       "      <td>766210</td>\n",
       "      <td>0.422062</td>\n",
       "      <td>2</td>\n",
       "      <td>0.500</td>\n",
       "    </tr>\n",
       "    <tr>\n",
       "      <th>120179</th>\n",
       "      <td>N 4 CA</td>\n",
       "      <td>01</td>\n",
       "      <td>2</td>\n",
       "      <td>692503</td>\n",
       "      <td>692563</td>\n",
       "      <td>0.999913</td>\n",
       "      <td>2</td>\n",
       "      <td>0.500</td>\n",
       "    </tr>\n",
       "    <tr>\n",
       "      <th>120178</th>\n",
       "      <td>N 4 CA</td>\n",
       "      <td>00</td>\n",
       "      <td>2</td>\n",
       "      <td>60</td>\n",
       "      <td>692563</td>\n",
       "      <td>0.000087</td>\n",
       "      <td>2</td>\n",
       "      <td>0.500</td>\n",
       "    </tr>\n",
       "    <tr>\n",
       "      <th>41598</th>\n",
       "      <td>H 6 H</td>\n",
       "      <td>0011</td>\n",
       "      <td>4</td>\n",
       "      <td>406792</td>\n",
       "      <td>692535</td>\n",
       "      <td>0.587396</td>\n",
       "      <td>4</td>\n",
       "      <td>0.125</td>\n",
       "    </tr>\n",
       "    <tr>\n",
       "      <th>41597</th>\n",
       "      <td>H 6 H</td>\n",
       "      <td>0010</td>\n",
       "      <td>4</td>\n",
       "      <td>135250</td>\n",
       "      <td>692535</td>\n",
       "      <td>0.195297</td>\n",
       "      <td>4</td>\n",
       "      <td>0.125</td>\n",
       "    </tr>\n",
       "    <tr>\n",
       "      <th>41600</th>\n",
       "      <td>H 6 H</td>\n",
       "      <td>0101</td>\n",
       "      <td>4</td>\n",
       "      <td>100337</td>\n",
       "      <td>692535</td>\n",
       "      <td>0.144884</td>\n",
       "      <td>4</td>\n",
       "      <td>0.125</td>\n",
       "    </tr>\n",
       "    <tr>\n",
       "      <th>41599</th>\n",
       "      <td>H 6 H</td>\n",
       "      <td>0100</td>\n",
       "      <td>4</td>\n",
       "      <td>50104</td>\n",
       "      <td>692535</td>\n",
       "      <td>0.072349</td>\n",
       "      <td>4</td>\n",
       "      <td>0.125</td>\n",
       "    </tr>\n",
       "    <tr>\n",
       "      <th>41596</th>\n",
       "      <td>H 6 H</td>\n",
       "      <td>0001</td>\n",
       "      <td>4</td>\n",
       "      <td>16</td>\n",
       "      <td>692535</td>\n",
       "      <td>0.000023</td>\n",
       "      <td>4</td>\n",
       "      <td>0.125</td>\n",
       "    </tr>\n",
       "    <tr>\n",
       "      <th>41601</th>\n",
       "      <td>H 6 H</td>\n",
       "      <td>0110</td>\n",
       "      <td>4</td>\n",
       "      <td>14</td>\n",
       "      <td>692535</td>\n",
       "      <td>0.000020</td>\n",
       "      <td>4</td>\n",
       "      <td>0.125</td>\n",
       "    </tr>\n",
       "    <tr>\n",
       "      <th>41602</th>\n",
       "      <td>H 6 H</td>\n",
       "      <td>0111</td>\n",
       "      <td>4</td>\n",
       "      <td>13</td>\n",
       "      <td>692535</td>\n",
       "      <td>0.000019</td>\n",
       "      <td>4</td>\n",
       "      <td>0.125</td>\n",
       "    </tr>\n",
       "    <tr>\n",
       "      <th>41595</th>\n",
       "      <td>H 6 H</td>\n",
       "      <td>0000</td>\n",
       "      <td>4</td>\n",
       "      <td>9</td>\n",
       "      <td>692535</td>\n",
       "      <td>0.000013</td>\n",
       "      <td>4</td>\n",
       "      <td>0.125</td>\n",
       "    </tr>\n",
       "    <tr>\n",
       "      <th>106391</th>\n",
       "      <td>HA 6 HA</td>\n",
       "      <td>0111</td>\n",
       "      <td>4</td>\n",
       "      <td>165745</td>\n",
       "      <td>749933</td>\n",
       "      <td>0.221013</td>\n",
       "      <td>4</td>\n",
       "      <td>0.125</td>\n",
       "    </tr>\n",
       "    <tr>\n",
       "      <th>106385</th>\n",
       "      <td>HA 6 HA</td>\n",
       "      <td>0001</td>\n",
       "      <td>4</td>\n",
       "      <td>137182</td>\n",
       "      <td>749933</td>\n",
       "      <td>0.182926</td>\n",
       "      <td>4</td>\n",
       "      <td>0.125</td>\n",
       "    </tr>\n",
       "    <tr>\n",
       "      <th>106389</th>\n",
       "      <td>HA 6 HA</td>\n",
       "      <td>0101</td>\n",
       "      <td>4</td>\n",
       "      <td>108627</td>\n",
       "      <td>749933</td>\n",
       "      <td>0.144849</td>\n",
       "      <td>4</td>\n",
       "      <td>0.125</td>\n",
       "    </tr>\n",
       "    <tr>\n",
       "      <th>106387</th>\n",
       "      <td>HA 6 HA</td>\n",
       "      <td>0011</td>\n",
       "      <td>4</td>\n",
       "      <td>108300</td>\n",
       "      <td>749933</td>\n",
       "      <td>0.144413</td>\n",
       "      <td>4</td>\n",
       "      <td>0.125</td>\n",
       "    </tr>\n",
       "    <tr>\n",
       "      <th>106384</th>\n",
       "      <td>HA 6 HA</td>\n",
       "      <td>0000</td>\n",
       "      <td>4</td>\n",
       "      <td>68394</td>\n",
       "      <td>749933</td>\n",
       "      <td>0.091200</td>\n",
       "      <td>4</td>\n",
       "      <td>0.125</td>\n",
       "    </tr>\n",
       "    <tr>\n",
       "      <th>106390</th>\n",
       "      <td>HA 6 HA</td>\n",
       "      <td>0110</td>\n",
       "      <td>4</td>\n",
       "      <td>62365</td>\n",
       "      <td>749933</td>\n",
       "      <td>0.083161</td>\n",
       "      <td>4</td>\n",
       "      <td>0.125</td>\n",
       "    </tr>\n",
       "    <tr>\n",
       "      <th>106388</th>\n",
       "      <td>HA 6 HA</td>\n",
       "      <td>0100</td>\n",
       "      <td>4</td>\n",
       "      <td>50909</td>\n",
       "      <td>749933</td>\n",
       "      <td>0.067885</td>\n",
       "      <td>4</td>\n",
       "      <td>0.125</td>\n",
       "    </tr>\n",
       "    <tr>\n",
       "      <th>106386</th>\n",
       "      <td>HA 6 HA</td>\n",
       "      <td>0010</td>\n",
       "      <td>4</td>\n",
       "      <td>48411</td>\n",
       "      <td>749933</td>\n",
       "      <td>0.064554</td>\n",
       "      <td>4</td>\n",
       "      <td>0.125</td>\n",
       "    </tr>\n",
       "  </tbody>\n",
       "</table>\n",
       "</div>"
      ],
      "text/plain": [
       "       constraint  bsol  len_bsol   count   total   relfreq length  uniform\n",
       "0          C 4 CA    00         2  442822  766210  0.577938      2    0.500\n",
       "1          C 4 CA    01         2  323388  766210  0.422062      2    0.500\n",
       "120179     N 4 CA    01         2  692503  692563  0.999913      2    0.500\n",
       "120178     N 4 CA    00         2      60  692563  0.000087      2    0.500\n",
       "41598       H 6 H  0011         4  406792  692535  0.587396      4    0.125\n",
       "41597       H 6 H  0010         4  135250  692535  0.195297      4    0.125\n",
       "41600       H 6 H  0101         4  100337  692535  0.144884      4    0.125\n",
       "41599       H 6 H  0100         4   50104  692535  0.072349      4    0.125\n",
       "41596       H 6 H  0001         4      16  692535  0.000023      4    0.125\n",
       "41601       H 6 H  0110         4      14  692535  0.000020      4    0.125\n",
       "41602       H 6 H  0111         4      13  692535  0.000019      4    0.125\n",
       "41595       H 6 H  0000         4       9  692535  0.000013      4    0.125\n",
       "106391    HA 6 HA  0111         4  165745  749933  0.221013      4    0.125\n",
       "106385    HA 6 HA  0001         4  137182  749933  0.182926      4    0.125\n",
       "106389    HA 6 HA  0101         4  108627  749933  0.144849      4    0.125\n",
       "106387    HA 6 HA  0011         4  108300  749933  0.144413      4    0.125\n",
       "106384    HA 6 HA  0000         4   68394  749933  0.091200      4    0.125\n",
       "106390    HA 6 HA  0110         4   62365  749933  0.083161      4    0.125\n",
       "106388    HA 6 HA  0100         4   50909  749933  0.067885      4    0.125\n",
       "106386    HA 6 HA  0010         4   48411  749933  0.064554      4    0.125"
      ]
     },
     "execution_count": 7,
     "metadata": {},
     "output_type": "execute_result"
    }
   ],
   "source": [
    "df_stats = create_df_stats_by_constraint(df_prune)\n",
    "df_stats.head(20)"
   ]
  },
  {
   "cell_type": "code",
   "execution_count": 8,
   "metadata": {},
   "outputs": [
    {
     "data": {
      "application/vnd.plotly.v1+json": {
       "config": {
        "plotlyServerURL": "https://plot.ly"
       },
       "data": [
        {
         "hovertemplate": "Method=FBS<br>Order=%{x}<br>Cumulative Relative Frequency=%{y}<extra></extra>",
         "legendgroup": "FBS",
         "line": {
          "color": "#636efa",
          "dash": "solid"
         },
         "marker": {
          "symbol": "circle"
         },
         "mode": "lines",
         "name": "FBS",
         "orientation": "v",
         "showlegend": true,
         "type": "scatter",
         "x": [
          1,
          2,
          3,
          4,
          5,
          6,
          7,
          8
         ],
         "xaxis": "x",
         "y": [
          0.22101307716822702,
          0.403938751861833,
          0.5487876917004586,
          0.6932005925862711,
          0.7844007397994222,
          0.8675615021608598,
          0.9354462331968324,
          1.0000000000000002
         ],
         "yaxis": "y"
        },
        {
         "hovertemplate": "Method=DFS<br>Order=%{x}<br>Cumulative Relative Frequency=%{y}<extra></extra>",
         "legendgroup": "DFS",
         "line": {
          "color": "#EF553B",
          "dash": "solid"
         },
         "marker": {
          "symbol": "circle"
         },
         "mode": "lines",
         "name": "DFS",
         "orientation": "v",
         "showlegend": true,
         "type": "scatter",
         "x": [
          1,
          2,
          3,
          4,
          5,
          6,
          7,
          8
         ],
         "xaxis": "x",
         "y": [
          0.09120014721315105,
          0.274125821906757,
          0.33867958870992476,
          0.48309248959573725,
          0.5509772206317098,
          0.6958261604703354,
          0.7789869228317731,
          1
         ],
         "yaxis": "y"
        }
       ],
       "layout": {
        "height": 400,
        "legend": {
         "title": {
          "text": "Method"
         },
         "tracegroupgap": 0
        },
        "template": {
         "data": {
          "bar": [
           {
            "error_x": {
             "color": "#2a3f5f"
            },
            "error_y": {
             "color": "#2a3f5f"
            },
            "marker": {
             "line": {
              "color": "#E5ECF6",
              "width": 0.5
             },
             "pattern": {
              "fillmode": "overlay",
              "size": 10,
              "solidity": 0.2
             }
            },
            "type": "bar"
           }
          ],
          "barpolar": [
           {
            "marker": {
             "line": {
              "color": "#E5ECF6",
              "width": 0.5
             },
             "pattern": {
              "fillmode": "overlay",
              "size": 10,
              "solidity": 0.2
             }
            },
            "type": "barpolar"
           }
          ],
          "carpet": [
           {
            "aaxis": {
             "endlinecolor": "#2a3f5f",
             "gridcolor": "white",
             "linecolor": "white",
             "minorgridcolor": "white",
             "startlinecolor": "#2a3f5f"
            },
            "baxis": {
             "endlinecolor": "#2a3f5f",
             "gridcolor": "white",
             "linecolor": "white",
             "minorgridcolor": "white",
             "startlinecolor": "#2a3f5f"
            },
            "type": "carpet"
           }
          ],
          "choropleth": [
           {
            "colorbar": {
             "outlinewidth": 0,
             "ticks": ""
            },
            "type": "choropleth"
           }
          ],
          "contour": [
           {
            "colorbar": {
             "outlinewidth": 0,
             "ticks": ""
            },
            "colorscale": [
             [
              0,
              "#0d0887"
             ],
             [
              0.1111111111111111,
              "#46039f"
             ],
             [
              0.2222222222222222,
              "#7201a8"
             ],
             [
              0.3333333333333333,
              "#9c179e"
             ],
             [
              0.4444444444444444,
              "#bd3786"
             ],
             [
              0.5555555555555556,
              "#d8576b"
             ],
             [
              0.6666666666666666,
              "#ed7953"
             ],
             [
              0.7777777777777778,
              "#fb9f3a"
             ],
             [
              0.8888888888888888,
              "#fdca26"
             ],
             [
              1,
              "#f0f921"
             ]
            ],
            "type": "contour"
           }
          ],
          "contourcarpet": [
           {
            "colorbar": {
             "outlinewidth": 0,
             "ticks": ""
            },
            "type": "contourcarpet"
           }
          ],
          "heatmap": [
           {
            "colorbar": {
             "outlinewidth": 0,
             "ticks": ""
            },
            "colorscale": [
             [
              0,
              "#0d0887"
             ],
             [
              0.1111111111111111,
              "#46039f"
             ],
             [
              0.2222222222222222,
              "#7201a8"
             ],
             [
              0.3333333333333333,
              "#9c179e"
             ],
             [
              0.4444444444444444,
              "#bd3786"
             ],
             [
              0.5555555555555556,
              "#d8576b"
             ],
             [
              0.6666666666666666,
              "#ed7953"
             ],
             [
              0.7777777777777778,
              "#fb9f3a"
             ],
             [
              0.8888888888888888,
              "#fdca26"
             ],
             [
              1,
              "#f0f921"
             ]
            ],
            "type": "heatmap"
           }
          ],
          "heatmapgl": [
           {
            "colorbar": {
             "outlinewidth": 0,
             "ticks": ""
            },
            "colorscale": [
             [
              0,
              "#0d0887"
             ],
             [
              0.1111111111111111,
              "#46039f"
             ],
             [
              0.2222222222222222,
              "#7201a8"
             ],
             [
              0.3333333333333333,
              "#9c179e"
             ],
             [
              0.4444444444444444,
              "#bd3786"
             ],
             [
              0.5555555555555556,
              "#d8576b"
             ],
             [
              0.6666666666666666,
              "#ed7953"
             ],
             [
              0.7777777777777778,
              "#fb9f3a"
             ],
             [
              0.8888888888888888,
              "#fdca26"
             ],
             [
              1,
              "#f0f921"
             ]
            ],
            "type": "heatmapgl"
           }
          ],
          "histogram": [
           {
            "marker": {
             "pattern": {
              "fillmode": "overlay",
              "size": 10,
              "solidity": 0.2
             }
            },
            "type": "histogram"
           }
          ],
          "histogram2d": [
           {
            "colorbar": {
             "outlinewidth": 0,
             "ticks": ""
            },
            "colorscale": [
             [
              0,
              "#0d0887"
             ],
             [
              0.1111111111111111,
              "#46039f"
             ],
             [
              0.2222222222222222,
              "#7201a8"
             ],
             [
              0.3333333333333333,
              "#9c179e"
             ],
             [
              0.4444444444444444,
              "#bd3786"
             ],
             [
              0.5555555555555556,
              "#d8576b"
             ],
             [
              0.6666666666666666,
              "#ed7953"
             ],
             [
              0.7777777777777778,
              "#fb9f3a"
             ],
             [
              0.8888888888888888,
              "#fdca26"
             ],
             [
              1,
              "#f0f921"
             ]
            ],
            "type": "histogram2d"
           }
          ],
          "histogram2dcontour": [
           {
            "colorbar": {
             "outlinewidth": 0,
             "ticks": ""
            },
            "colorscale": [
             [
              0,
              "#0d0887"
             ],
             [
              0.1111111111111111,
              "#46039f"
             ],
             [
              0.2222222222222222,
              "#7201a8"
             ],
             [
              0.3333333333333333,
              "#9c179e"
             ],
             [
              0.4444444444444444,
              "#bd3786"
             ],
             [
              0.5555555555555556,
              "#d8576b"
             ],
             [
              0.6666666666666666,
              "#ed7953"
             ],
             [
              0.7777777777777778,
              "#fb9f3a"
             ],
             [
              0.8888888888888888,
              "#fdca26"
             ],
             [
              1,
              "#f0f921"
             ]
            ],
            "type": "histogram2dcontour"
           }
          ],
          "mesh3d": [
           {
            "colorbar": {
             "outlinewidth": 0,
             "ticks": ""
            },
            "type": "mesh3d"
           }
          ],
          "parcoords": [
           {
            "line": {
             "colorbar": {
              "outlinewidth": 0,
              "ticks": ""
             }
            },
            "type": "parcoords"
           }
          ],
          "pie": [
           {
            "automargin": true,
            "type": "pie"
           }
          ],
          "scatter": [
           {
            "fillpattern": {
             "fillmode": "overlay",
             "size": 10,
             "solidity": 0.2
            },
            "type": "scatter"
           }
          ],
          "scatter3d": [
           {
            "line": {
             "colorbar": {
              "outlinewidth": 0,
              "ticks": ""
             }
            },
            "marker": {
             "colorbar": {
              "outlinewidth": 0,
              "ticks": ""
             }
            },
            "type": "scatter3d"
           }
          ],
          "scattercarpet": [
           {
            "marker": {
             "colorbar": {
              "outlinewidth": 0,
              "ticks": ""
             }
            },
            "type": "scattercarpet"
           }
          ],
          "scattergeo": [
           {
            "marker": {
             "colorbar": {
              "outlinewidth": 0,
              "ticks": ""
             }
            },
            "type": "scattergeo"
           }
          ],
          "scattergl": [
           {
            "marker": {
             "colorbar": {
              "outlinewidth": 0,
              "ticks": ""
             }
            },
            "type": "scattergl"
           }
          ],
          "scattermapbox": [
           {
            "marker": {
             "colorbar": {
              "outlinewidth": 0,
              "ticks": ""
             }
            },
            "type": "scattermapbox"
           }
          ],
          "scatterpolar": [
           {
            "marker": {
             "colorbar": {
              "outlinewidth": 0,
              "ticks": ""
             }
            },
            "type": "scatterpolar"
           }
          ],
          "scatterpolargl": [
           {
            "marker": {
             "colorbar": {
              "outlinewidth": 0,
              "ticks": ""
             }
            },
            "type": "scatterpolargl"
           }
          ],
          "scatterternary": [
           {
            "marker": {
             "colorbar": {
              "outlinewidth": 0,
              "ticks": ""
             }
            },
            "type": "scatterternary"
           }
          ],
          "surface": [
           {
            "colorbar": {
             "outlinewidth": 0,
             "ticks": ""
            },
            "colorscale": [
             [
              0,
              "#0d0887"
             ],
             [
              0.1111111111111111,
              "#46039f"
             ],
             [
              0.2222222222222222,
              "#7201a8"
             ],
             [
              0.3333333333333333,
              "#9c179e"
             ],
             [
              0.4444444444444444,
              "#bd3786"
             ],
             [
              0.5555555555555556,
              "#d8576b"
             ],
             [
              0.6666666666666666,
              "#ed7953"
             ],
             [
              0.7777777777777778,
              "#fb9f3a"
             ],
             [
              0.8888888888888888,
              "#fdca26"
             ],
             [
              1,
              "#f0f921"
             ]
            ],
            "type": "surface"
           }
          ],
          "table": [
           {
            "cells": {
             "fill": {
              "color": "#EBF0F8"
             },
             "line": {
              "color": "white"
             }
            },
            "header": {
             "fill": {
              "color": "#C8D4E3"
             },
             "line": {
              "color": "white"
             }
            },
            "type": "table"
           }
          ]
         },
         "layout": {
          "annotationdefaults": {
           "arrowcolor": "#2a3f5f",
           "arrowhead": 0,
           "arrowwidth": 1
          },
          "autotypenumbers": "strict",
          "coloraxis": {
           "colorbar": {
            "outlinewidth": 0,
            "ticks": ""
           }
          },
          "colorscale": {
           "diverging": [
            [
             0,
             "#8e0152"
            ],
            [
             0.1,
             "#c51b7d"
            ],
            [
             0.2,
             "#de77ae"
            ],
            [
             0.3,
             "#f1b6da"
            ],
            [
             0.4,
             "#fde0ef"
            ],
            [
             0.5,
             "#f7f7f7"
            ],
            [
             0.6,
             "#e6f5d0"
            ],
            [
             0.7,
             "#b8e186"
            ],
            [
             0.8,
             "#7fbc41"
            ],
            [
             0.9,
             "#4d9221"
            ],
            [
             1,
             "#276419"
            ]
           ],
           "sequential": [
            [
             0,
             "#0d0887"
            ],
            [
             0.1111111111111111,
             "#46039f"
            ],
            [
             0.2222222222222222,
             "#7201a8"
            ],
            [
             0.3333333333333333,
             "#9c179e"
            ],
            [
             0.4444444444444444,
             "#bd3786"
            ],
            [
             0.5555555555555556,
             "#d8576b"
            ],
            [
             0.6666666666666666,
             "#ed7953"
            ],
            [
             0.7777777777777778,
             "#fb9f3a"
            ],
            [
             0.8888888888888888,
             "#fdca26"
            ],
            [
             1,
             "#f0f921"
            ]
           ],
           "sequentialminus": [
            [
             0,
             "#0d0887"
            ],
            [
             0.1111111111111111,
             "#46039f"
            ],
            [
             0.2222222222222222,
             "#7201a8"
            ],
            [
             0.3333333333333333,
             "#9c179e"
            ],
            [
             0.4444444444444444,
             "#bd3786"
            ],
            [
             0.5555555555555556,
             "#d8576b"
            ],
            [
             0.6666666666666666,
             "#ed7953"
            ],
            [
             0.7777777777777778,
             "#fb9f3a"
            ],
            [
             0.8888888888888888,
             "#fdca26"
            ],
            [
             1,
             "#f0f921"
            ]
           ]
          },
          "colorway": [
           "#636efa",
           "#EF553B",
           "#00cc96",
           "#ab63fa",
           "#FFA15A",
           "#19d3f3",
           "#FF6692",
           "#B6E880",
           "#FF97FF",
           "#FECB52"
          ],
          "font": {
           "color": "#2a3f5f"
          },
          "geo": {
           "bgcolor": "white",
           "lakecolor": "white",
           "landcolor": "#E5ECF6",
           "showlakes": true,
           "showland": true,
           "subunitcolor": "white"
          },
          "hoverlabel": {
           "align": "left"
          },
          "hovermode": "closest",
          "mapbox": {
           "style": "light"
          },
          "paper_bgcolor": "white",
          "plot_bgcolor": "#E5ECF6",
          "polar": {
           "angularaxis": {
            "gridcolor": "white",
            "linecolor": "white",
            "ticks": ""
           },
           "bgcolor": "#E5ECF6",
           "radialaxis": {
            "gridcolor": "white",
            "linecolor": "white",
            "ticks": ""
           }
          },
          "scene": {
           "xaxis": {
            "backgroundcolor": "#E5ECF6",
            "gridcolor": "white",
            "gridwidth": 2,
            "linecolor": "white",
            "showbackground": true,
            "ticks": "",
            "zerolinecolor": "white"
           },
           "yaxis": {
            "backgroundcolor": "#E5ECF6",
            "gridcolor": "white",
            "gridwidth": 2,
            "linecolor": "white",
            "showbackground": true,
            "ticks": "",
            "zerolinecolor": "white"
           },
           "zaxis": {
            "backgroundcolor": "#E5ECF6",
            "gridcolor": "white",
            "gridwidth": 2,
            "linecolor": "white",
            "showbackground": true,
            "ticks": "",
            "zerolinecolor": "white"
           }
          },
          "shapedefaults": {
           "line": {
            "color": "#2a3f5f"
           }
          },
          "ternary": {
           "aaxis": {
            "gridcolor": "white",
            "linecolor": "white",
            "ticks": ""
           },
           "baxis": {
            "gridcolor": "white",
            "linecolor": "white",
            "ticks": ""
           },
           "bgcolor": "#E5ECF6",
           "caxis": {
            "gridcolor": "white",
            "linecolor": "white",
            "ticks": ""
           }
          },
          "title": {
           "x": 0.05
          },
          "xaxis": {
           "automargin": true,
           "gridcolor": "white",
           "linecolor": "white",
           "ticks": "",
           "title": {
            "standoff": 15
           },
           "zerolinecolor": "white",
           "zerolinewidth": 2
          },
          "yaxis": {
           "automargin": true,
           "gridcolor": "white",
           "linecolor": "white",
           "ticks": "",
           "title": {
            "standoff": 15
           },
           "zerolinecolor": "white",
           "zerolinewidth": 2
          }
         }
        },
        "title": {
         "text": "Constraint: HA 6 HA"
        },
        "width": 600,
        "xaxis": {
         "anchor": "y",
         "domain": [
          0,
          1
         ],
         "title": {
          "text": "Order"
         }
        },
        "yaxis": {
         "anchor": "x",
         "domain": [
          0,
          1
         ],
         "title": {
          "text": "Cumulative Relative Frequency"
         }
        }
       }
      }
     },
     "metadata": {},
     "output_type": "display_data"
    }
   ],
   "source": [
    "def plot_cumulative_relfreq(constraint, df_stats):\n",
    "    \"\"\"\n",
    "    Plots the cumulative relative frequency for a given constraint from a DataFrame.\n",
    "\n",
    "    Parameters:\n",
    "    - constraint (str): The constraint to filter the DataFrame on.\n",
    "    - df_stats (pd.DataFrame): The DataFrame containing the statistics.\n",
    "\n",
    "    This function filters the DataFrame based on the given constraint, calculates the cumulative\n",
    "    relative frequency, and plots the results for two methods: FBS and DFS.\n",
    "    \"\"\"\n",
    "    # Filter the DataFrame based on the constraint and sort by 'relfreq'\n",
    "    df = df_stats[df_stats['constraint'] == constraint].sort_values('relfreq', ascending=False).reset_index(drop=True)\n",
    "    \n",
    "    # Sort the DataFrame by 'bsol' for DFS method\n",
    "    dfDFS = df.sort_values(['bsol'], ascending=True).reset_index(drop=True)\n",
    "    \n",
    "    # Calculate cumulative relative frequency and assign method and order for FBS\n",
    "    df['cumsum_relfreq'] = df['relfreq'].cumsum()\n",
    "    df['method'] = 'FBS'\n",
    "    df['order'] = df.index + 1\n",
    "\n",
    "    # Calculate cumulative relative frequency and assign method and order for DFS\n",
    "    dfDFS['cumsum_relfreq'] = dfDFS['relfreq'].cumsum()\n",
    "    dfDFS['method'] = 'DFS'\n",
    "    dfDFS['order'] = dfDFS.index + 1\n",
    "    \n",
    "    # Concatenate the DataFrames for FBS and DFS methods\n",
    "    df = pd.concat([df, dfDFS], ignore_index=True)\n",
    "\n",
    "    # Plotting\n",
    "    import plotly.express as px\n",
    "    fig = px.line(df, x='order', y='cumsum_relfreq', color='method', title=f\"Constraint: {constraint}\",\n",
    "                  labels={'order':'Order', 'cumsum_relfreq':'Cumulative Relative Frequency', 'method':'Method'})\n",
    "    fig.update_layout(width=600, height=400)\n",
    "    fig.show()\n",
    "\n",
    "plot_cumulative_relfreq('HA 6 HA', df_stats)"
   ]
  },
  {
   "cell_type": "code",
   "execution_count": 9,
   "metadata": {},
   "outputs": [],
   "source": [
    "def len_common_prefix(b1:str, b2:str) -> int:\n",
    "    for k in range(len(b1)):\n",
    "        if b1[k] != b2[k]:\n",
    "            return k\n",
    "    return k\n",
    "\n",
    "def expected_cost_dfs(bsol:list, relfreq:list, sort:bool=True):\n",
    "    b_old = 'x' * len(bsol[0])\n",
    "    expected_cost = 0.0\n",
    "    num_changed_bits = 0\n",
    "    len_bsol = len(bsol[0])\n",
    "    # sort the bsol by decreasing frequency\n",
    "    bsol_freq = list(zip(bsol, relfreq))\n",
    "    if sort:\n",
    "         bsol_freq = sorted(list(zip(bsol, relfreq)), key=lambda x: x[0], reverse=False)\n",
    "    for b, f in bsol_freq:\n",
    "        # count the number of changed bits until reaching the current bsol\n",
    "        num_changed_bits += len_bsol - len_common_prefix(b_old, b)\n",
    "        # update the expected cost\n",
    "        expected_cost += num_changed_bits * f\n",
    "        # update the old bsol\n",
    "        b_old = b\n",
    "    return expected_cost\n",
    "\n",
    "def expected_cost_fbs(len_bsol:int, relfreq:list):\n",
    "    relfreq = sorted(relfreq, reverse=True)    \n",
    "    expected_cost = 0.0\n",
    "    for k, f in enumerate(relfreq):        \n",
    "        # update the expected cost\n",
    "        expected_cost += ((k + 1) * len_bsol) * f\n",
    "    return expected_cost"
   ]
  },
  {
   "cell_type": "code",
   "execution_count": 10,
   "metadata": {},
   "outputs": [],
   "source": [
    "import numpy as np\n",
    "from copy import deepcopy\n",
    "\n",
    "def greedy_fbs_order(bsol:list, relfreq:list) -> int:\n",
    "    bsol_freq = sorted(list(zip(bsol, relfreq)), key=lambda x: x[1], reverse=True)\n",
    "    order = [(b, f, np.inf) for b, f in bsol_freq]\n",
    "    len_bsol = len(bsol[0])\n",
    "    for k1 in range(len(order) - 1):\n",
    "        b1, _, _ = order[k1]\n",
    "        min_rel_cost = np.inf\n",
    "        for k2 in range(k1 + 1, len(order)):\n",
    "            b2, f2, _ = order[k2]\n",
    "            bit_cost = (len_bsol - len_common_prefix(b1, b2)) / len_bsol\n",
    "            rel_cost = (1 - f2) * bit_cost\n",
    "            if rel_cost < min_rel_cost:\n",
    "                min_rel_cost = rel_cost\n",
    "                min_k2 = k2\n",
    "        # swap the elements\n",
    "        if min_k2 == k1 + 1:\n",
    "            order[min_k2] = (order[min_k2][0], order[min_k2][1], min_rel_cost)\n",
    "        else:\n",
    "            bfc = deepcopy(order[k1 + 1])\n",
    "            order[k1 + 1] = (order[min_k2][0], order[min_k2][1], min_rel_cost)\n",
    "            order[min_k2] = bfc\n",
    "    return order"
   ]
  },
  {
   "cell_type": "code",
   "execution_count": 11,
   "metadata": {},
   "outputs": [
    {
     "data": {
      "text/html": [
       "<div>\n",
       "<style scoped>\n",
       "    .dataframe tbody tr th:only-of-type {\n",
       "        vertical-align: middle;\n",
       "    }\n",
       "\n",
       "    .dataframe tbody tr th {\n",
       "        vertical-align: top;\n",
       "    }\n",
       "\n",
       "    .dataframe thead th {\n",
       "        text-align: right;\n",
       "    }\n",
       "</style>\n",
       "<table border=\"1\" class=\"dataframe\">\n",
       "  <thead>\n",
       "    <tr style=\"text-align: right;\">\n",
       "      <th></th>\n",
       "      <th>constraint</th>\n",
       "      <th>bsol</th>\n",
       "      <th>len_bsol</th>\n",
       "      <th>count</th>\n",
       "      <th>total</th>\n",
       "      <th>relfreq</th>\n",
       "      <th>length</th>\n",
       "      <th>uniform</th>\n",
       "    </tr>\n",
       "  </thead>\n",
       "  <tbody>\n",
       "    <tr>\n",
       "      <th>0</th>\n",
       "      <td>H 6 H</td>\n",
       "      <td>0011</td>\n",
       "      <td>4</td>\n",
       "      <td>406792</td>\n",
       "      <td>692535</td>\n",
       "      <td>0.587396</td>\n",
       "      <td>4</td>\n",
       "      <td>0.125</td>\n",
       "    </tr>\n",
       "    <tr>\n",
       "      <th>1</th>\n",
       "      <td>H 6 H</td>\n",
       "      <td>0010</td>\n",
       "      <td>4</td>\n",
       "      <td>135250</td>\n",
       "      <td>692535</td>\n",
       "      <td>0.195297</td>\n",
       "      <td>4</td>\n",
       "      <td>0.125</td>\n",
       "    </tr>\n",
       "    <tr>\n",
       "      <th>2</th>\n",
       "      <td>H 6 H</td>\n",
       "      <td>0101</td>\n",
       "      <td>4</td>\n",
       "      <td>100337</td>\n",
       "      <td>692535</td>\n",
       "      <td>0.144884</td>\n",
       "      <td>4</td>\n",
       "      <td>0.125</td>\n",
       "    </tr>\n",
       "    <tr>\n",
       "      <th>3</th>\n",
       "      <td>H 6 H</td>\n",
       "      <td>0100</td>\n",
       "      <td>4</td>\n",
       "      <td>50104</td>\n",
       "      <td>692535</td>\n",
       "      <td>0.072349</td>\n",
       "      <td>4</td>\n",
       "      <td>0.125</td>\n",
       "    </tr>\n",
       "    <tr>\n",
       "      <th>4</th>\n",
       "      <td>H 6 H</td>\n",
       "      <td>0001</td>\n",
       "      <td>4</td>\n",
       "      <td>16</td>\n",
       "      <td>692535</td>\n",
       "      <td>0.000023</td>\n",
       "      <td>4</td>\n",
       "      <td>0.125</td>\n",
       "    </tr>\n",
       "    <tr>\n",
       "      <th>5</th>\n",
       "      <td>H 6 H</td>\n",
       "      <td>0110</td>\n",
       "      <td>4</td>\n",
       "      <td>14</td>\n",
       "      <td>692535</td>\n",
       "      <td>0.000020</td>\n",
       "      <td>4</td>\n",
       "      <td>0.125</td>\n",
       "    </tr>\n",
       "    <tr>\n",
       "      <th>6</th>\n",
       "      <td>H 6 H</td>\n",
       "      <td>0111</td>\n",
       "      <td>4</td>\n",
       "      <td>13</td>\n",
       "      <td>692535</td>\n",
       "      <td>0.000019</td>\n",
       "      <td>4</td>\n",
       "      <td>0.125</td>\n",
       "    </tr>\n",
       "    <tr>\n",
       "      <th>7</th>\n",
       "      <td>H 6 H</td>\n",
       "      <td>0000</td>\n",
       "      <td>4</td>\n",
       "      <td>9</td>\n",
       "      <td>692535</td>\n",
       "      <td>0.000013</td>\n",
       "      <td>4</td>\n",
       "      <td>0.125</td>\n",
       "    </tr>\n",
       "  </tbody>\n",
       "</table>\n",
       "</div>"
      ],
      "text/plain": [
       "  constraint  bsol  len_bsol   count   total   relfreq length  uniform\n",
       "0      H 6 H  0011         4  406792  692535  0.587396      4    0.125\n",
       "1      H 6 H  0010         4  135250  692535  0.195297      4    0.125\n",
       "2      H 6 H  0101         4  100337  692535  0.144884      4    0.125\n",
       "3      H 6 H  0100         4   50104  692535  0.072349      4    0.125\n",
       "4      H 6 H  0001         4      16  692535  0.000023      4    0.125\n",
       "5      H 6 H  0110         4      14  692535  0.000020      4    0.125\n",
       "6      H 6 H  0111         4      13  692535  0.000019      4    0.125\n",
       "7      H 6 H  0000         4       9  692535  0.000013      4    0.125"
      ]
     },
     "metadata": {},
     "output_type": "display_data"
    },
    {
     "name": "stdout",
     "output_type": "stream",
     "text": [
      "constraint: H 6 H\n",
      "Expected cost for DFS ......... 8.60\n",
      "Expected cost for FBS ......... 6.81\n",
      "Expected cost for FBS greedy .. 5.79\n"
     ]
    }
   ],
   "source": [
    "constraint = 'H 6 H'\n",
    "df = df_stats[df_stats['constraint'] == constraint].reset_index(drop=True)\n",
    "display(df)\n",
    "\n",
    "fbs_greedy = greedy_fbs_order(df['bsol'], df['relfreq'])\n",
    "bsol = [bfc[0] for bfc in fbs_greedy]\n",
    "relfreq = [bfc[1] for bfc in fbs_greedy]\n",
    "\n",
    "cost_dfs = expected_cost_dfs(df['bsol'], df['relfreq'])\n",
    "cost_fbs = expected_cost_fbs(len(df['bsol'][0]), df['relfreq'])\n",
    "cost_fbs_greedy = expected_cost_dfs(bsol, relfreq, sort=False)\n",
    "\n",
    "print('constraint:', constraint)\n",
    "print(f\"Expected cost for DFS ......... {cost_dfs:.2f}\")\n",
    "print(f\"Expected cost for FBS ......... {cost_fbs:.2f}\")\n",
    "print(f\"Expected cost for FBS greedy .. {cost_fbs_greedy:.2f}\")"
   ]
  },
  {
   "cell_type": "code",
   "execution_count": 12,
   "metadata": {},
   "outputs": [
    {
     "data": {
      "application/vnd.plotly.v1+json": {
       "config": {
        "plotlyServerURL": "https://plot.ly"
       },
       "data": [
        {
         "hovertemplate": "constraint=%{x}<br>total=%{y}<extra></extra>",
         "legendgroup": "",
         "marker": {
          "color": "#636efa",
          "symbol": "circle"
         },
         "mode": "markers",
         "name": "",
         "orientation": "v",
         "showlegend": false,
         "type": "scatter",
         "x": [
          "C 4 CA",
          "N 4 CA",
          "H 6 H",
          "HA 6 HA",
          "H 9 HA",
          "HA 9 H",
          "H 12 H",
          "HA 12 HA",
          "H 15 HA",
          "HA 15 H",
          "H 18 H",
          "HA 18 HA",
          "H 21 HA",
          "HA 21 H"
         ],
         "xaxis": "x",
         "y": [
          766210,
          692563,
          692535,
          749933,
          208533,
          390864,
          323451,
          2030,
          3068,
          282369,
          195759,
          33146,
          5960,
          201532
         ],
         "yaxis": "y"
        }
       ],
       "layout": {
        "height": 400,
        "legend": {
         "tracegroupgap": 0
        },
        "template": {
         "data": {
          "bar": [
           {
            "error_x": {
             "color": "#2a3f5f"
            },
            "error_y": {
             "color": "#2a3f5f"
            },
            "marker": {
             "line": {
              "color": "#E5ECF6",
              "width": 0.5
             },
             "pattern": {
              "fillmode": "overlay",
              "size": 10,
              "solidity": 0.2
             }
            },
            "type": "bar"
           }
          ],
          "barpolar": [
           {
            "marker": {
             "line": {
              "color": "#E5ECF6",
              "width": 0.5
             },
             "pattern": {
              "fillmode": "overlay",
              "size": 10,
              "solidity": 0.2
             }
            },
            "type": "barpolar"
           }
          ],
          "carpet": [
           {
            "aaxis": {
             "endlinecolor": "#2a3f5f",
             "gridcolor": "white",
             "linecolor": "white",
             "minorgridcolor": "white",
             "startlinecolor": "#2a3f5f"
            },
            "baxis": {
             "endlinecolor": "#2a3f5f",
             "gridcolor": "white",
             "linecolor": "white",
             "minorgridcolor": "white",
             "startlinecolor": "#2a3f5f"
            },
            "type": "carpet"
           }
          ],
          "choropleth": [
           {
            "colorbar": {
             "outlinewidth": 0,
             "ticks": ""
            },
            "type": "choropleth"
           }
          ],
          "contour": [
           {
            "colorbar": {
             "outlinewidth": 0,
             "ticks": ""
            },
            "colorscale": [
             [
              0,
              "#0d0887"
             ],
             [
              0.1111111111111111,
              "#46039f"
             ],
             [
              0.2222222222222222,
              "#7201a8"
             ],
             [
              0.3333333333333333,
              "#9c179e"
             ],
             [
              0.4444444444444444,
              "#bd3786"
             ],
             [
              0.5555555555555556,
              "#d8576b"
             ],
             [
              0.6666666666666666,
              "#ed7953"
             ],
             [
              0.7777777777777778,
              "#fb9f3a"
             ],
             [
              0.8888888888888888,
              "#fdca26"
             ],
             [
              1,
              "#f0f921"
             ]
            ],
            "type": "contour"
           }
          ],
          "contourcarpet": [
           {
            "colorbar": {
             "outlinewidth": 0,
             "ticks": ""
            },
            "type": "contourcarpet"
           }
          ],
          "heatmap": [
           {
            "colorbar": {
             "outlinewidth": 0,
             "ticks": ""
            },
            "colorscale": [
             [
              0,
              "#0d0887"
             ],
             [
              0.1111111111111111,
              "#46039f"
             ],
             [
              0.2222222222222222,
              "#7201a8"
             ],
             [
              0.3333333333333333,
              "#9c179e"
             ],
             [
              0.4444444444444444,
              "#bd3786"
             ],
             [
              0.5555555555555556,
              "#d8576b"
             ],
             [
              0.6666666666666666,
              "#ed7953"
             ],
             [
              0.7777777777777778,
              "#fb9f3a"
             ],
             [
              0.8888888888888888,
              "#fdca26"
             ],
             [
              1,
              "#f0f921"
             ]
            ],
            "type": "heatmap"
           }
          ],
          "heatmapgl": [
           {
            "colorbar": {
             "outlinewidth": 0,
             "ticks": ""
            },
            "colorscale": [
             [
              0,
              "#0d0887"
             ],
             [
              0.1111111111111111,
              "#46039f"
             ],
             [
              0.2222222222222222,
              "#7201a8"
             ],
             [
              0.3333333333333333,
              "#9c179e"
             ],
             [
              0.4444444444444444,
              "#bd3786"
             ],
             [
              0.5555555555555556,
              "#d8576b"
             ],
             [
              0.6666666666666666,
              "#ed7953"
             ],
             [
              0.7777777777777778,
              "#fb9f3a"
             ],
             [
              0.8888888888888888,
              "#fdca26"
             ],
             [
              1,
              "#f0f921"
             ]
            ],
            "type": "heatmapgl"
           }
          ],
          "histogram": [
           {
            "marker": {
             "pattern": {
              "fillmode": "overlay",
              "size": 10,
              "solidity": 0.2
             }
            },
            "type": "histogram"
           }
          ],
          "histogram2d": [
           {
            "colorbar": {
             "outlinewidth": 0,
             "ticks": ""
            },
            "colorscale": [
             [
              0,
              "#0d0887"
             ],
             [
              0.1111111111111111,
              "#46039f"
             ],
             [
              0.2222222222222222,
              "#7201a8"
             ],
             [
              0.3333333333333333,
              "#9c179e"
             ],
             [
              0.4444444444444444,
              "#bd3786"
             ],
             [
              0.5555555555555556,
              "#d8576b"
             ],
             [
              0.6666666666666666,
              "#ed7953"
             ],
             [
              0.7777777777777778,
              "#fb9f3a"
             ],
             [
              0.8888888888888888,
              "#fdca26"
             ],
             [
              1,
              "#f0f921"
             ]
            ],
            "type": "histogram2d"
           }
          ],
          "histogram2dcontour": [
           {
            "colorbar": {
             "outlinewidth": 0,
             "ticks": ""
            },
            "colorscale": [
             [
              0,
              "#0d0887"
             ],
             [
              0.1111111111111111,
              "#46039f"
             ],
             [
              0.2222222222222222,
              "#7201a8"
             ],
             [
              0.3333333333333333,
              "#9c179e"
             ],
             [
              0.4444444444444444,
              "#bd3786"
             ],
             [
              0.5555555555555556,
              "#d8576b"
             ],
             [
              0.6666666666666666,
              "#ed7953"
             ],
             [
              0.7777777777777778,
              "#fb9f3a"
             ],
             [
              0.8888888888888888,
              "#fdca26"
             ],
             [
              1,
              "#f0f921"
             ]
            ],
            "type": "histogram2dcontour"
           }
          ],
          "mesh3d": [
           {
            "colorbar": {
             "outlinewidth": 0,
             "ticks": ""
            },
            "type": "mesh3d"
           }
          ],
          "parcoords": [
           {
            "line": {
             "colorbar": {
              "outlinewidth": 0,
              "ticks": ""
             }
            },
            "type": "parcoords"
           }
          ],
          "pie": [
           {
            "automargin": true,
            "type": "pie"
           }
          ],
          "scatter": [
           {
            "fillpattern": {
             "fillmode": "overlay",
             "size": 10,
             "solidity": 0.2
            },
            "type": "scatter"
           }
          ],
          "scatter3d": [
           {
            "line": {
             "colorbar": {
              "outlinewidth": 0,
              "ticks": ""
             }
            },
            "marker": {
             "colorbar": {
              "outlinewidth": 0,
              "ticks": ""
             }
            },
            "type": "scatter3d"
           }
          ],
          "scattercarpet": [
           {
            "marker": {
             "colorbar": {
              "outlinewidth": 0,
              "ticks": ""
             }
            },
            "type": "scattercarpet"
           }
          ],
          "scattergeo": [
           {
            "marker": {
             "colorbar": {
              "outlinewidth": 0,
              "ticks": ""
             }
            },
            "type": "scattergeo"
           }
          ],
          "scattergl": [
           {
            "marker": {
             "colorbar": {
              "outlinewidth": 0,
              "ticks": ""
             }
            },
            "type": "scattergl"
           }
          ],
          "scattermapbox": [
           {
            "marker": {
             "colorbar": {
              "outlinewidth": 0,
              "ticks": ""
             }
            },
            "type": "scattermapbox"
           }
          ],
          "scatterpolar": [
           {
            "marker": {
             "colorbar": {
              "outlinewidth": 0,
              "ticks": ""
             }
            },
            "type": "scatterpolar"
           }
          ],
          "scatterpolargl": [
           {
            "marker": {
             "colorbar": {
              "outlinewidth": 0,
              "ticks": ""
             }
            },
            "type": "scatterpolargl"
           }
          ],
          "scatterternary": [
           {
            "marker": {
             "colorbar": {
              "outlinewidth": 0,
              "ticks": ""
             }
            },
            "type": "scatterternary"
           }
          ],
          "surface": [
           {
            "colorbar": {
             "outlinewidth": 0,
             "ticks": ""
            },
            "colorscale": [
             [
              0,
              "#0d0887"
             ],
             [
              0.1111111111111111,
              "#46039f"
             ],
             [
              0.2222222222222222,
              "#7201a8"
             ],
             [
              0.3333333333333333,
              "#9c179e"
             ],
             [
              0.4444444444444444,
              "#bd3786"
             ],
             [
              0.5555555555555556,
              "#d8576b"
             ],
             [
              0.6666666666666666,
              "#ed7953"
             ],
             [
              0.7777777777777778,
              "#fb9f3a"
             ],
             [
              0.8888888888888888,
              "#fdca26"
             ],
             [
              1,
              "#f0f921"
             ]
            ],
            "type": "surface"
           }
          ],
          "table": [
           {
            "cells": {
             "fill": {
              "color": "#EBF0F8"
             },
             "line": {
              "color": "white"
             }
            },
            "header": {
             "fill": {
              "color": "#C8D4E3"
             },
             "line": {
              "color": "white"
             }
            },
            "type": "table"
           }
          ]
         },
         "layout": {
          "annotationdefaults": {
           "arrowcolor": "#2a3f5f",
           "arrowhead": 0,
           "arrowwidth": 1
          },
          "autotypenumbers": "strict",
          "coloraxis": {
           "colorbar": {
            "outlinewidth": 0,
            "ticks": ""
           }
          },
          "colorscale": {
           "diverging": [
            [
             0,
             "#8e0152"
            ],
            [
             0.1,
             "#c51b7d"
            ],
            [
             0.2,
             "#de77ae"
            ],
            [
             0.3,
             "#f1b6da"
            ],
            [
             0.4,
             "#fde0ef"
            ],
            [
             0.5,
             "#f7f7f7"
            ],
            [
             0.6,
             "#e6f5d0"
            ],
            [
             0.7,
             "#b8e186"
            ],
            [
             0.8,
             "#7fbc41"
            ],
            [
             0.9,
             "#4d9221"
            ],
            [
             1,
             "#276419"
            ]
           ],
           "sequential": [
            [
             0,
             "#0d0887"
            ],
            [
             0.1111111111111111,
             "#46039f"
            ],
            [
             0.2222222222222222,
             "#7201a8"
            ],
            [
             0.3333333333333333,
             "#9c179e"
            ],
            [
             0.4444444444444444,
             "#bd3786"
            ],
            [
             0.5555555555555556,
             "#d8576b"
            ],
            [
             0.6666666666666666,
             "#ed7953"
            ],
            [
             0.7777777777777778,
             "#fb9f3a"
            ],
            [
             0.8888888888888888,
             "#fdca26"
            ],
            [
             1,
             "#f0f921"
            ]
           ],
           "sequentialminus": [
            [
             0,
             "#0d0887"
            ],
            [
             0.1111111111111111,
             "#46039f"
            ],
            [
             0.2222222222222222,
             "#7201a8"
            ],
            [
             0.3333333333333333,
             "#9c179e"
            ],
            [
             0.4444444444444444,
             "#bd3786"
            ],
            [
             0.5555555555555556,
             "#d8576b"
            ],
            [
             0.6666666666666666,
             "#ed7953"
            ],
            [
             0.7777777777777778,
             "#fb9f3a"
            ],
            [
             0.8888888888888888,
             "#fdca26"
            ],
            [
             1,
             "#f0f921"
            ]
           ]
          },
          "colorway": [
           "#636efa",
           "#EF553B",
           "#00cc96",
           "#ab63fa",
           "#FFA15A",
           "#19d3f3",
           "#FF6692",
           "#B6E880",
           "#FF97FF",
           "#FECB52"
          ],
          "font": {
           "color": "#2a3f5f"
          },
          "geo": {
           "bgcolor": "white",
           "lakecolor": "white",
           "landcolor": "#E5ECF6",
           "showlakes": true,
           "showland": true,
           "subunitcolor": "white"
          },
          "hoverlabel": {
           "align": "left"
          },
          "hovermode": "closest",
          "mapbox": {
           "style": "light"
          },
          "paper_bgcolor": "white",
          "plot_bgcolor": "#E5ECF6",
          "polar": {
           "angularaxis": {
            "gridcolor": "white",
            "linecolor": "white",
            "ticks": ""
           },
           "bgcolor": "#E5ECF6",
           "radialaxis": {
            "gridcolor": "white",
            "linecolor": "white",
            "ticks": ""
           }
          },
          "scene": {
           "xaxis": {
            "backgroundcolor": "#E5ECF6",
            "gridcolor": "white",
            "gridwidth": 2,
            "linecolor": "white",
            "showbackground": true,
            "ticks": "",
            "zerolinecolor": "white"
           },
           "yaxis": {
            "backgroundcolor": "#E5ECF6",
            "gridcolor": "white",
            "gridwidth": 2,
            "linecolor": "white",
            "showbackground": true,
            "ticks": "",
            "zerolinecolor": "white"
           },
           "zaxis": {
            "backgroundcolor": "#E5ECF6",
            "gridcolor": "white",
            "gridwidth": 2,
            "linecolor": "white",
            "showbackground": true,
            "ticks": "",
            "zerolinecolor": "white"
           }
          },
          "shapedefaults": {
           "line": {
            "color": "#2a3f5f"
           }
          },
          "ternary": {
           "aaxis": {
            "gridcolor": "white",
            "linecolor": "white",
            "ticks": ""
           },
           "baxis": {
            "gridcolor": "white",
            "linecolor": "white",
            "ticks": ""
           },
           "bgcolor": "#E5ECF6",
           "caxis": {
            "gridcolor": "white",
            "linecolor": "white",
            "ticks": ""
           }
          },
          "title": {
           "x": 0.05
          },
          "xaxis": {
           "automargin": true,
           "gridcolor": "white",
           "linecolor": "white",
           "ticks": "",
           "title": {
            "standoff": 15
           },
           "zerolinecolor": "white",
           "zerolinewidth": 2
          },
          "yaxis": {
           "automargin": true,
           "gridcolor": "white",
           "linecolor": "white",
           "ticks": "",
           "title": {
            "standoff": 15
           },
           "zerolinecolor": "white",
           "zerolinewidth": 2
          }
         }
        },
        "title": {
         "text": "Number of BSOLs"
        },
        "width": 800,
        "xaxis": {
         "anchor": "y",
         "domain": [
          0,
          1
         ],
         "title": {
          "text": "constraint"
         }
        },
        "yaxis": {
         "anchor": "x",
         "domain": [
          0,
          1
         ],
         "title": {
          "text": "total"
         },
         "type": "log"
        }
       }
      }
     },
     "metadata": {},
     "output_type": "display_data"
    }
   ],
   "source": [
    "import plotly.express as px\n",
    "\n",
    "# scatter, x=len_bsol, y=count, y axis log scale\n",
    "def plot_count_by_length(df_stats:pd.DataFrame):\n",
    "    df = df_stats[['len_bsol', 'constraint', 'total']].groupby(['len_bsol','constraint']).first().reset_index()\n",
    "    fig = px.scatter(df, x='constraint', y='total', log_y=True,\n",
    "                     title=f\"Number of BSOLs\",)\n",
    "    # set size\n",
    "    fig.update_layout(width=800, height=400)\n",
    "    fig.show()\n",
    "\n",
    "plot_count_by_length(df_stats)"
   ]
  },
  {
   "cell_type": "code",
   "execution_count": 13,
   "metadata": {},
   "outputs": [
    {
     "name": "stderr",
     "output_type": "stream",
     "text": [
      "C:\\Users\\romul\\AppData\\Local\\Temp\\ipykernel_15044\\3754924799.py:27: UserWarning:\n",
      "\n",
      "set_ticklabels() should only be used with a fixed number of ticks, i.e. after set_ticks() or using a FixedLocator.\n",
      "\n",
      "C:\\Users\\romul\\AppData\\Local\\Temp\\ipykernel_15044\\3754924799.py:27: UserWarning:\n",
      "\n",
      "set_ticklabels() should only be used with a fixed number of ticks, i.e. after set_ticks() or using a FixedLocator.\n",
      "\n"
     ]
    },
    {
     "data": {
      "image/png": "[encoded data removed]",
      "text/plain": [
       "<Figure size 800x400 with 2 Axes>"
      ]
     },
     "metadata": {},
     "output_type": "display_data"
    }
   ],
   "source": [
    "import numpy as np\n",
    "\n",
    "def plot_stats_measures(df_stats:pd.DataFrame) -> pd.DataFrame:\n",
    "    # measure KL divergence\n",
    "    # KL(p||q) = sum(p(x) * log(p(x) / q(x))), where q(x) = 1/2^(len_bsol - 1)\n",
    "    # Note: \n",
    "    #   - The function q is the uniform distribution over all possible BSOLs of length len_bsol.\n",
    "    #   - The minus 1 is because the first bit is fixed to 0.\n",
    "    df = df_stats.copy()\n",
    "    df['KL'] = df_stats.apply(lambda x: x['relfreq'] * np.log2(x['relfreq'] / x['uniform']), axis=1)\n",
    "    # measure Hellinger distance\n",
    "    df['HD'] = df_stats.apply(lambda x: np.sqrt(0.5 * (x['relfreq'] - x['uniform']) ** 2), axis=1)\n",
    "    # sum KL and HD for each length\n",
    "    df = df.groupby(['len_bsol','constraint']).sum().reset_index()\n",
    "\n",
    "    # plot KL, HD, TV using subplots 1 x 3, each one should have its own y axis\n",
    "    import seaborn as sns\n",
    "    import matplotlib.pyplot as plt\n",
    "\n",
    "    fig, axs = plt.subplots(1, 2, figsize=(8, 4))\n",
    "    sns.lineplot(x='constraint', y='KL', data=df, ax=axs[0])\n",
    "    axs[0].set_title('KL Divergence')\n",
    "    sns.lineplot(x='constraint', y='HD', data=df, ax=axs[1])\n",
    "    axs[1].set_title('Hellinger Distance')\n",
    "\n",
    "    for tick in axs:\n",
    "        tick.set_xticklabels(labels=tick.get_xticklabels(), rotation=90)\n",
    "\n",
    "    # plt.xticks(rotation=60)\n",
    "    plt.tight_layout()\n",
    "    plt.show()\n",
    "    \n",
    "\n",
    "plot_stats_measures(df_stats)"
   ]
  },
  {
   "cell_type": "markdown",
   "metadata": {},
   "source": [
    "# Analysis of independent constraints"
   ]
  },
  {
   "cell_type": "code",
   "execution_count": 27,
   "metadata": {},
   "outputs": [
    {
     "data": {
      "text/html": [
       "<div>\n",
       "<style scoped>\n",
       "    .dataframe tbody tr th:only-of-type {\n",
       "        vertical-align: middle;\n",
       "    }\n",
       "\n",
       "    .dataframe tbody tr th {\n",
       "        vertical-align: top;\n",
       "    }\n",
       "\n",
       "    .dataframe thead th {\n",
       "        text-align: right;\n",
       "    }\n",
       "</style>\n",
       "<table border=\"1\" class=\"dataframe\">\n",
       "  <thead>\n",
       "    <tr style=\"text-align: right;\">\n",
       "      <th></th>\n",
       "      <th>constraint</th>\n",
       "      <th>bsol</th>\n",
       "      <th>len_bsol</th>\n",
       "      <th>count</th>\n",
       "      <th>total</th>\n",
       "      <th>relfreq</th>\n",
       "      <th>length</th>\n",
       "      <th>uniform</th>\n",
       "    </tr>\n",
       "  </thead>\n",
       "  <tbody>\n",
       "    <tr>\n",
       "      <th>0</th>\n",
       "      <td>C 4 CA</td>\n",
       "      <td>00</td>\n",
       "      <td>2</td>\n",
       "      <td>442822</td>\n",
       "      <td>766210</td>\n",
       "      <td>0.577938</td>\n",
       "      <td>2</td>\n",
       "      <td>0.500000</td>\n",
       "    </tr>\n",
       "    <tr>\n",
       "      <th>1</th>\n",
       "      <td>C 4 CA</td>\n",
       "      <td>01</td>\n",
       "      <td>2</td>\n",
       "      <td>323388</td>\n",
       "      <td>766210</td>\n",
       "      <td>0.422062</td>\n",
       "      <td>2</td>\n",
       "      <td>0.500000</td>\n",
       "    </tr>\n",
       "    <tr>\n",
       "      <th>120179</th>\n",
       "      <td>N 4 CA</td>\n",
       "      <td>01</td>\n",
       "      <td>2</td>\n",
       "      <td>692503</td>\n",
       "      <td>692563</td>\n",
       "      <td>0.999913</td>\n",
       "      <td>2</td>\n",
       "      <td>0.500000</td>\n",
       "    </tr>\n",
       "    <tr>\n",
       "      <th>120178</th>\n",
       "      <td>N 4 CA</td>\n",
       "      <td>00</td>\n",
       "      <td>2</td>\n",
       "      <td>60</td>\n",
       "      <td>692563</td>\n",
       "      <td>0.000087</td>\n",
       "      <td>2</td>\n",
       "      <td>0.500000</td>\n",
       "    </tr>\n",
       "    <tr>\n",
       "      <th>41598</th>\n",
       "      <td>H 6 H</td>\n",
       "      <td>0011</td>\n",
       "      <td>4</td>\n",
       "      <td>406792</td>\n",
       "      <td>692535</td>\n",
       "      <td>0.587396</td>\n",
       "      <td>4</td>\n",
       "      <td>0.125000</td>\n",
       "    </tr>\n",
       "    <tr>\n",
       "      <th>...</th>\n",
       "      <td>...</td>\n",
       "      <td>...</td>\n",
       "      <td>...</td>\n",
       "      <td>...</td>\n",
       "      <td>...</td>\n",
       "      <td>...</td>\n",
       "      <td>...</td>\n",
       "      <td>...</td>\n",
       "    </tr>\n",
       "    <tr>\n",
       "      <th>67281</th>\n",
       "      <td>HA 21 H</td>\n",
       "      <td>0111101111100110101</td>\n",
       "      <td>19</td>\n",
       "      <td>1</td>\n",
       "      <td>201532</td>\n",
       "      <td>0.000005</td>\n",
       "      <td>19</td>\n",
       "      <td>0.000004</td>\n",
       "    </tr>\n",
       "    <tr>\n",
       "      <th>67284</th>\n",
       "      <td>HA 21 H</td>\n",
       "      <td>0111101111101000100</td>\n",
       "      <td>19</td>\n",
       "      <td>1</td>\n",
       "      <td>201532</td>\n",
       "      <td>0.000005</td>\n",
       "      <td>19</td>\n",
       "      <td>0.000004</td>\n",
       "    </tr>\n",
       "    <tr>\n",
       "      <th>67287</th>\n",
       "      <td>HA 21 H</td>\n",
       "      <td>0111101111101010100</td>\n",
       "      <td>19</td>\n",
       "      <td>1</td>\n",
       "      <td>201532</td>\n",
       "      <td>0.000005</td>\n",
       "      <td>19</td>\n",
       "      <td>0.000004</td>\n",
       "    </tr>\n",
       "    <tr>\n",
       "      <th>67291</th>\n",
       "      <td>HA 21 H</td>\n",
       "      <td>0111101111101101101</td>\n",
       "      <td>19</td>\n",
       "      <td>1</td>\n",
       "      <td>201532</td>\n",
       "      <td>0.000005</td>\n",
       "      <td>19</td>\n",
       "      <td>0.000004</td>\n",
       "    </tr>\n",
       "    <tr>\n",
       "      <th>67292</th>\n",
       "      <td>HA 21 H</td>\n",
       "      <td>0111101111101110100</td>\n",
       "      <td>19</td>\n",
       "      <td>1</td>\n",
       "      <td>201532</td>\n",
       "      <td>0.000005</td>\n",
       "      <td>19</td>\n",
       "      <td>0.000004</td>\n",
       "    </tr>\n",
       "  </tbody>\n",
       "</table>\n",
       "<p>8430 rows × 8 columns</p>\n",
       "</div>"
      ],
      "text/plain": [
       "       constraint                 bsol  len_bsol   count   total   relfreq  \\\n",
       "0          C 4 CA                   00         2  442822  766210  0.577938   \n",
       "1          C 4 CA                   01         2  323388  766210  0.422062   \n",
       "120179     N 4 CA                   01         2  692503  692563  0.999913   \n",
       "120178     N 4 CA                   00         2      60  692563  0.000087   \n",
       "41598       H 6 H                 0011         4  406792  692535  0.587396   \n",
       "...           ...                  ...       ...     ...     ...       ...   \n",
       "67281     HA 21 H  0111101111100110101        19       1  201532  0.000005   \n",
       "67284     HA 21 H  0111101111101000100        19       1  201532  0.000005   \n",
       "67287     HA 21 H  0111101111101010100        19       1  201532  0.000005   \n",
       "67291     HA 21 H  0111101111101101101        19       1  201532  0.000005   \n",
       "67292     HA 21 H  0111101111101110100        19       1  201532  0.000005   \n",
       "\n",
       "       length   uniform  \n",
       "0           2  0.500000  \n",
       "1           2  0.500000  \n",
       "120179      2  0.500000  \n",
       "120178      2  0.500000  \n",
       "41598       4  0.125000  \n",
       "...       ...       ...  \n",
       "67281      19  0.000004  \n",
       "67284      19  0.000004  \n",
       "67287      19  0.000004  \n",
       "67291      19  0.000004  \n",
       "67292      19  0.000004  \n",
       "\n",
       "[8430 rows x 8 columns]"
      ]
     },
     "metadata": {},
     "output_type": "display_data"
    },
    {
     "data": {
      "text/html": [
       "<div>\n",
       "<style scoped>\n",
       "    .dataframe tbody tr th:only-of-type {\n",
       "        vertical-align: middle;\n",
       "    }\n",
       "\n",
       "    .dataframe tbody tr th {\n",
       "        vertical-align: top;\n",
       "    }\n",
       "\n",
       "    .dataframe thead th {\n",
       "        text-align: right;\n",
       "    }\n",
       "</style>\n",
       "<table border=\"1\" class=\"dataframe\">\n",
       "  <thead>\n",
       "    <tr style=\"text-align: right;\">\n",
       "      <th></th>\n",
       "      <th>constraint</th>\n",
       "      <th>bsol</th>\n",
       "      <th>len_bsol</th>\n",
       "      <th>count</th>\n",
       "      <th>total</th>\n",
       "      <th>relfreq</th>\n",
       "      <th>length</th>\n",
       "      <th>uniform</th>\n",
       "    </tr>\n",
       "  </thead>\n",
       "  <tbody>\n",
       "    <tr>\n",
       "      <th>0</th>\n",
       "      <td>C 4 CA</td>\n",
       "      <td>00</td>\n",
       "      <td>2</td>\n",
       "      <td>442822</td>\n",
       "      <td>766210</td>\n",
       "      <td>0.577938</td>\n",
       "      <td>2</td>\n",
       "      <td>0.500000</td>\n",
       "    </tr>\n",
       "    <tr>\n",
       "      <th>1</th>\n",
       "      <td>C 4 CA</td>\n",
       "      <td>01</td>\n",
       "      <td>2</td>\n",
       "      <td>323388</td>\n",
       "      <td>766210</td>\n",
       "      <td>0.422062</td>\n",
       "      <td>2</td>\n",
       "      <td>0.500000</td>\n",
       "    </tr>\n",
       "    <tr>\n",
       "      <th>120179</th>\n",
       "      <td>N 4 CA</td>\n",
       "      <td>01</td>\n",
       "      <td>2</td>\n",
       "      <td>692503</td>\n",
       "      <td>692563</td>\n",
       "      <td>0.999913</td>\n",
       "      <td>2</td>\n",
       "      <td>0.500000</td>\n",
       "    </tr>\n",
       "    <tr>\n",
       "      <th>120178</th>\n",
       "      <td>N 4 CA</td>\n",
       "      <td>00</td>\n",
       "      <td>2</td>\n",
       "      <td>60</td>\n",
       "      <td>692563</td>\n",
       "      <td>0.000087</td>\n",
       "      <td>2</td>\n",
       "      <td>0.500000</td>\n",
       "    </tr>\n",
       "    <tr>\n",
       "      <th>41598</th>\n",
       "      <td>H 6 H</td>\n",
       "      <td>0011</td>\n",
       "      <td>4</td>\n",
       "      <td>406792</td>\n",
       "      <td>692535</td>\n",
       "      <td>0.587396</td>\n",
       "      <td>4</td>\n",
       "      <td>0.125000</td>\n",
       "    </tr>\n",
       "    <tr>\n",
       "      <th>...</th>\n",
       "      <td>...</td>\n",
       "      <td>...</td>\n",
       "      <td>...</td>\n",
       "      <td>...</td>\n",
       "      <td>...</td>\n",
       "      <td>...</td>\n",
       "      <td>...</td>\n",
       "      <td>...</td>\n",
       "    </tr>\n",
       "    <tr>\n",
       "      <th>67281</th>\n",
       "      <td>HA 21 H</td>\n",
       "      <td>0111111111110110111</td>\n",
       "      <td>19</td>\n",
       "      <td>1</td>\n",
       "      <td>201532</td>\n",
       "      <td>0.000005</td>\n",
       "      <td>19</td>\n",
       "      <td>0.000004</td>\n",
       "    </tr>\n",
       "    <tr>\n",
       "      <th>67284</th>\n",
       "      <td>HA 21 H</td>\n",
       "      <td>0111111111111000110</td>\n",
       "      <td>19</td>\n",
       "      <td>1</td>\n",
       "      <td>201532</td>\n",
       "      <td>0.000005</td>\n",
       "      <td>19</td>\n",
       "      <td>0.000004</td>\n",
       "    </tr>\n",
       "    <tr>\n",
       "      <th>67287</th>\n",
       "      <td>HA 21 H</td>\n",
       "      <td>0111111111111010110</td>\n",
       "      <td>19</td>\n",
       "      <td>1</td>\n",
       "      <td>201532</td>\n",
       "      <td>0.000005</td>\n",
       "      <td>19</td>\n",
       "      <td>0.000004</td>\n",
       "    </tr>\n",
       "    <tr>\n",
       "      <th>67291</th>\n",
       "      <td>HA 21 H</td>\n",
       "      <td>0111111111111101111</td>\n",
       "      <td>19</td>\n",
       "      <td>1</td>\n",
       "      <td>201532</td>\n",
       "      <td>0.000005</td>\n",
       "      <td>19</td>\n",
       "      <td>0.000004</td>\n",
       "    </tr>\n",
       "    <tr>\n",
       "      <th>67292</th>\n",
       "      <td>HA 21 H</td>\n",
       "      <td>0111111111111110110</td>\n",
       "      <td>19</td>\n",
       "      <td>1</td>\n",
       "      <td>201532</td>\n",
       "      <td>0.000005</td>\n",
       "      <td>19</td>\n",
       "      <td>0.000004</td>\n",
       "    </tr>\n",
       "  </tbody>\n",
       "</table>\n",
       "<p>8430 rows × 8 columns</p>\n",
       "</div>"
      ],
      "text/plain": [
       "       constraint                 bsol  len_bsol   count   total   relfreq  \\\n",
       "0          C 4 CA                   00         2  442822  766210  0.577938   \n",
       "1          C 4 CA                   01         2  323388  766210  0.422062   \n",
       "120179     N 4 CA                   01         2  692503  692563  0.999913   \n",
       "120178     N 4 CA                   00         2      60  692563  0.000087   \n",
       "41598       H 6 H                 0011         4  406792  692535  0.587396   \n",
       "...           ...                  ...       ...     ...     ...       ...   \n",
       "67281     HA 21 H  0111111111110110111        19       1  201532  0.000005   \n",
       "67284     HA 21 H  0111111111111000110        19       1  201532  0.000005   \n",
       "67287     HA 21 H  0111111111111010110        19       1  201532  0.000005   \n",
       "67291     HA 21 H  0111111111111101111        19       1  201532  0.000005   \n",
       "67292     HA 21 H  0111111111111110110        19       1  201532  0.000005   \n",
       "\n",
       "       length   uniform  \n",
       "0           2  0.500000  \n",
       "1           2  0.500000  \n",
       "120179      2  0.500000  \n",
       "120178      2  0.500000  \n",
       "41598       4  0.125000  \n",
       "...       ...       ...  \n",
       "67281      19  0.000004  \n",
       "67284      19  0.000004  \n",
       "67287      19  0.000004  \n",
       "67291      19  0.000004  \n",
       "67292      19  0.000004  \n",
       "\n",
       "[8430 rows x 8 columns]"
      ]
     },
     "metadata": {},
     "output_type": "display_data"
    }
   ],
   "source": [
    "import pandas as pd\n",
    "\n",
    "def fix_repeated_atom_bit(row: pd.Series) -> str:\n",
    "    constraint_start = row[\"constraint\"].split(\" \")[0]\n",
    "    bsol = list(row[\"bsol\"])\n",
    "    constraint_length = len(bsol) \n",
    "\n",
    "    #  in the re-order, a repeated CA dist 6 atoms to the next repeated CA\n",
    "    step_repeatedCA = 6\n",
    "\n",
    "    # index of the first repeated CA supposing the first three atoms of the constraint are fixed and.\n",
    "    i_repeatedCA = 0\n",
    "    if constraint_start == 'H':\n",
    "        i_repeatedCA = 2\n",
    "    elif constraint_start == 'HA':\n",
    "        i_repeatedCA = 5\n",
    "    else:\n",
    "        return \"\".join(x for x in bsol)\n",
    "\n",
    "    for i in range(i_repeatedCA, constraint_length, step_repeatedCA):\n",
    "        if bsol[i] == '0':\n",
    "            bsol[i] = '1'\n",
    "    \n",
    "    a = \"\".join(x for x in bsol)\n",
    "    return a\n",
    "\n",
    "df_independent = df_stats.copy()\n",
    "df_independent[\"bsol\"] = df_stats.apply(fix_repeated_atom_bit, axis=1)"
   ]
  },
  {
   "cell_type": "code",
   "execution_count": 28,
   "metadata": {},
   "outputs": [
    {
     "data": {
      "text/html": [
       "<div>\n",
       "<style scoped>\n",
       "    .dataframe tbody tr th:only-of-type {\n",
       "        vertical-align: middle;\n",
       "    }\n",
       "\n",
       "    .dataframe tbody tr th {\n",
       "        vertical-align: top;\n",
       "    }\n",
       "\n",
       "    .dataframe thead th {\n",
       "        text-align: right;\n",
       "    }\n",
       "</style>\n",
       "<table border=\"1\" class=\"dataframe\">\n",
       "  <thead>\n",
       "    <tr style=\"text-align: right;\">\n",
       "      <th></th>\n",
       "      <th>constraint</th>\n",
       "      <th>bsol</th>\n",
       "      <th>len_bsol</th>\n",
       "      <th>count</th>\n",
       "      <th>total</th>\n",
       "      <th>relfreq</th>\n",
       "      <th>length</th>\n",
       "      <th>uniform</th>\n",
       "    </tr>\n",
       "  </thead>\n",
       "  <tbody>\n",
       "    <tr>\n",
       "      <th>0</th>\n",
       "      <td>H 6 H</td>\n",
       "      <td>0011</td>\n",
       "      <td>4</td>\n",
       "      <td>406792</td>\n",
       "      <td>692535</td>\n",
       "      <td>0.587396</td>\n",
       "      <td>4</td>\n",
       "      <td>0.125</td>\n",
       "    </tr>\n",
       "    <tr>\n",
       "      <th>1</th>\n",
       "      <td>H 6 H</td>\n",
       "      <td>0010</td>\n",
       "      <td>4</td>\n",
       "      <td>135250</td>\n",
       "      <td>692535</td>\n",
       "      <td>0.195297</td>\n",
       "      <td>4</td>\n",
       "      <td>0.125</td>\n",
       "    </tr>\n",
       "    <tr>\n",
       "      <th>2</th>\n",
       "      <td>H 6 H</td>\n",
       "      <td>0111</td>\n",
       "      <td>4</td>\n",
       "      <td>100337</td>\n",
       "      <td>692535</td>\n",
       "      <td>0.144884</td>\n",
       "      <td>4</td>\n",
       "      <td>0.125</td>\n",
       "    </tr>\n",
       "    <tr>\n",
       "      <th>3</th>\n",
       "      <td>H 6 H</td>\n",
       "      <td>0110</td>\n",
       "      <td>4</td>\n",
       "      <td>50104</td>\n",
       "      <td>692535</td>\n",
       "      <td>0.072349</td>\n",
       "      <td>4</td>\n",
       "      <td>0.125</td>\n",
       "    </tr>\n",
       "    <tr>\n",
       "      <th>4</th>\n",
       "      <td>H 6 H</td>\n",
       "      <td>0011</td>\n",
       "      <td>4</td>\n",
       "      <td>16</td>\n",
       "      <td>692535</td>\n",
       "      <td>0.000023</td>\n",
       "      <td>4</td>\n",
       "      <td>0.125</td>\n",
       "    </tr>\n",
       "    <tr>\n",
       "      <th>5</th>\n",
       "      <td>H 6 H</td>\n",
       "      <td>0110</td>\n",
       "      <td>4</td>\n",
       "      <td>14</td>\n",
       "      <td>692535</td>\n",
       "      <td>0.000020</td>\n",
       "      <td>4</td>\n",
       "      <td>0.125</td>\n",
       "    </tr>\n",
       "    <tr>\n",
       "      <th>6</th>\n",
       "      <td>H 6 H</td>\n",
       "      <td>0111</td>\n",
       "      <td>4</td>\n",
       "      <td>13</td>\n",
       "      <td>692535</td>\n",
       "      <td>0.000019</td>\n",
       "      <td>4</td>\n",
       "      <td>0.125</td>\n",
       "    </tr>\n",
       "    <tr>\n",
       "      <th>7</th>\n",
       "      <td>H 6 H</td>\n",
       "      <td>0010</td>\n",
       "      <td>4</td>\n",
       "      <td>9</td>\n",
       "      <td>692535</td>\n",
       "      <td>0.000013</td>\n",
       "      <td>4</td>\n",
       "      <td>0.125</td>\n",
       "    </tr>\n",
       "  </tbody>\n",
       "</table>\n",
       "</div>"
      ],
      "text/plain": [
       "  constraint  bsol  len_bsol   count   total   relfreq length  uniform\n",
       "0      H 6 H  0011         4  406792  692535  0.587396      4    0.125\n",
       "1      H 6 H  0010         4  135250  692535  0.195297      4    0.125\n",
       "2      H 6 H  0111         4  100337  692535  0.144884      4    0.125\n",
       "3      H 6 H  0110         4   50104  692535  0.072349      4    0.125\n",
       "4      H 6 H  0011         4      16  692535  0.000023      4    0.125\n",
       "5      H 6 H  0110         4      14  692535  0.000020      4    0.125\n",
       "6      H 6 H  0111         4      13  692535  0.000019      4    0.125\n",
       "7      H 6 H  0010         4       9  692535  0.000013      4    0.125"
      ]
     },
     "metadata": {},
     "output_type": "display_data"
    },
    {
     "name": "stdout",
     "output_type": "stream",
     "text": [
      "constraint: H 6 H\n",
      "Expected cost for DFS ......... 6.77\n",
      "Expected cost for FBS ......... 6.81\n",
      "Expected cost for FBS greedy .. 5.57\n"
     ]
    }
   ],
   "source": [
    "constraint = 'H 6 H'\n",
    "df = df_independent[df_independent['constraint'] == constraint].reset_index(drop=True)\n",
    "display(df)\n",
    "\n",
    "fbs_greedy = greedy_fbs_order(df['bsol'], df['relfreq'])\n",
    "bsol = [bfc[0] for bfc in fbs_greedy]\n",
    "relfreq = [bfc[1] for bfc in fbs_greedy]\n",
    "\n",
    "cost_dfs = expected_cost_dfs(df['bsol'], df['relfreq'])\n",
    "cost_fbs = expected_cost_fbs(len(df['bsol'][0]), df['relfreq'])\n",
    "cost_fbs_greedy = expected_cost_dfs(bsol, relfreq, sort=False)\n",
    "\n",
    "print('constraint:', constraint)\n",
    "print(f\"Expected cost for DFS ......... {cost_dfs:.2f}\")\n",
    "print(f\"Expected cost for FBS ......... {cost_fbs:.2f}\")\n",
    "print(f\"Expected cost for FBS greedy .. {cost_fbs_greedy:.2f}\")"
   ]
  }
 ],
 "metadata": {
  "kernelspec": {
   "display_name": ".venv",
   "language": "python",
   "name": "python3"
  },
  "language_info": {
   "codemirror_mode": {
    "name": "ipython",
    "version": 3
   },
   "file_extension": ".py",
   "mimetype": "text/x-python",
   "name": "python",
   "nbconvert_exporter": "python",
   "pygments_lexer": "ipython3",
   "version": "3.11.9"
  }
 },
 "nbformat": 4,
 "nbformat_minor": 2
}
