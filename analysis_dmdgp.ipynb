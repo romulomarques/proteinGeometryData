{
 "cells": [
  {
   "cell_type": "code",
   "execution_count": 1,
   "metadata": {},
   "outputs": [],
   "source": [
    "import os\n",
    "import pandas as pd\n",
    "from tqdm import tqdm\n",
    "from concurrent.futures import ProcessPoolExecutor\n",
    "\n",
    "def read_csv_file(fn_csv):\n",
    "    return pd.read_csv(f'prune_bsol/{fn_csv}', dtype={'bsol': 'str'})\n",
    "\n",
    "def flip_bsol(bsol:str) -> str:\n",
    "    if bsol[0] == '1':\n",
    "        return ''.join(['0' if c == '1' else '1' for c in bsol])\n",
    "    return bsol\n",
    "\n",
    "def read_prune_bsol() -> pd.DataFrame:\n",
    "    csv_files = [fn for fn in os.listdir('prune_bsol') if fn.endswith('.csv')]\n",
    "\n",
    "    with ProcessPoolExecutor() as executor:\n",
    "        data = list(tqdm(executor.map(read_csv_file, csv_files), total=len(csv_files)))\n",
    "\n",
    "    df = pd.concat(data, ignore_index=True)\n",
    "    df['bsol'] = df['bsol'].apply(flip_bsol)\n",
    "\n",
    "    df['len_bsol'] = df['bsol'].apply(len)\n",
    "    return df"
   ]
  },
  {
   "cell_type": "code",
   "execution_count": 25,
   "metadata": {},
   "outputs": [
    {
     "name": "stderr",
     "output_type": "stream",
     "text": [
      "100%|██████████| 73647/73647 [01:01<00:00, 1189.43it/s]\n"
     ]
    },
    {
     "data": {
      "text/plain": [
       "Index(['i', 'j', 'i_name', 'j_name', 'i_residue_number', 'j_residue_number',\n",
       "       'dij', 'bsol', 'len_bsol'],\n",
       "      dtype='object')"
      ]
     },
     "execution_count": 25,
     "metadata": {},
     "output_type": "execute_result"
    }
   ],
   "source": [
    "df_prune_bsol = read_prune_bsol()\n",
    "df_prune_bsol.columns"
   ]
  },
  {
   "cell_type": "code",
   "execution_count": 77,
   "metadata": {},
   "outputs": [
    {
     "name": "stdout",
     "output_type": "stream",
     "text": [
      "(9460, 7)\n"
     ]
    },
    {
     "data": {
      "text/html": [
       "<div>\n",
       "<style scoped>\n",
       "    .dataframe tbody tr th:only-of-type {\n",
       "        vertical-align: middle;\n",
       "    }\n",
       "\n",
       "    .dataframe tbody tr th {\n",
       "        vertical-align: top;\n",
       "    }\n",
       "\n",
       "    .dataframe thead th {\n",
       "        text-align: right;\n",
       "    }\n",
       "</style>\n",
       "<table border=\"1\" class=\"dataframe\">\n",
       "  <thead>\n",
       "    <tr style=\"text-align: right;\">\n",
       "      <th></th>\n",
       "      <th>len_bsol</th>\n",
       "      <th>bsol</th>\n",
       "      <th>count</th>\n",
       "      <th>total</th>\n",
       "      <th>freq_rel</th>\n",
       "      <th>length</th>\n",
       "      <th>uniform</th>\n",
       "    </tr>\n",
       "  </thead>\n",
       "  <tbody>\n",
       "    <tr>\n",
       "      <th>1</th>\n",
       "      <td>2</td>\n",
       "      <td>01</td>\n",
       "      <td>1019138</td>\n",
       "      <td>1458773</td>\n",
       "      <td>0.698627</td>\n",
       "      <td>2</td>\n",
       "      <td>0.500</td>\n",
       "    </tr>\n",
       "    <tr>\n",
       "      <th>0</th>\n",
       "      <td>2</td>\n",
       "      <td>00</td>\n",
       "      <td>439635</td>\n",
       "      <td>1458773</td>\n",
       "      <td>0.301373</td>\n",
       "      <td>2</td>\n",
       "      <td>0.500</td>\n",
       "    </tr>\n",
       "    <tr>\n",
       "      <th>3</th>\n",
       "      <td>3</td>\n",
       "      <td>001</td>\n",
       "      <td>22071</td>\n",
       "      <td>72075</td>\n",
       "      <td>0.306223</td>\n",
       "      <td>3</td>\n",
       "      <td>0.250</td>\n",
       "    </tr>\n",
       "    <tr>\n",
       "      <th>5</th>\n",
       "      <td>3</td>\n",
       "      <td>011</td>\n",
       "      <td>20984</td>\n",
       "      <td>72075</td>\n",
       "      <td>0.291141</td>\n",
       "      <td>3</td>\n",
       "      <td>0.250</td>\n",
       "    </tr>\n",
       "    <tr>\n",
       "      <th>2</th>\n",
       "      <td>3</td>\n",
       "      <td>000</td>\n",
       "      <td>15651</td>\n",
       "      <td>72075</td>\n",
       "      <td>0.217149</td>\n",
       "      <td>3</td>\n",
       "      <td>0.250</td>\n",
       "    </tr>\n",
       "    <tr>\n",
       "      <th>4</th>\n",
       "      <td>3</td>\n",
       "      <td>010</td>\n",
       "      <td>13369</td>\n",
       "      <td>72075</td>\n",
       "      <td>0.185487</td>\n",
       "      <td>3</td>\n",
       "      <td>0.250</td>\n",
       "    </tr>\n",
       "    <tr>\n",
       "      <th>9</th>\n",
       "      <td>4</td>\n",
       "      <td>0011</td>\n",
       "      <td>505874</td>\n",
       "      <td>1370393</td>\n",
       "      <td>0.369145</td>\n",
       "      <td>4</td>\n",
       "      <td>0.125</td>\n",
       "    </tr>\n",
       "    <tr>\n",
       "      <th>11</th>\n",
       "      <td>4</td>\n",
       "      <td>0101</td>\n",
       "      <td>199596</td>\n",
       "      <td>1370393</td>\n",
       "      <td>0.145649</td>\n",
       "      <td>4</td>\n",
       "      <td>0.125</td>\n",
       "    </tr>\n",
       "    <tr>\n",
       "      <th>8</th>\n",
       "      <td>4</td>\n",
       "      <td>0010</td>\n",
       "      <td>177642</td>\n",
       "      <td>1370393</td>\n",
       "      <td>0.129629</td>\n",
       "      <td>4</td>\n",
       "      <td>0.125</td>\n",
       "    </tr>\n",
       "    <tr>\n",
       "      <th>13</th>\n",
       "      <td>4</td>\n",
       "      <td>0111</td>\n",
       "      <td>153378</td>\n",
       "      <td>1370393</td>\n",
       "      <td>0.111923</td>\n",
       "      <td>4</td>\n",
       "      <td>0.125</td>\n",
       "    </tr>\n",
       "  </tbody>\n",
       "</table>\n",
       "</div>"
      ],
      "text/plain": [
       "    len_bsol  bsol    count    total  freq_rel length  uniform\n",
       "1          2    01  1019138  1458773  0.698627      2    0.500\n",
       "0          2    00   439635  1458773  0.301373      2    0.500\n",
       "3          3   001    22071    72075  0.306223      3    0.250\n",
       "5          3   011    20984    72075  0.291141      3    0.250\n",
       "2          3   000    15651    72075  0.217149      3    0.250\n",
       "4          3   010    13369    72075  0.185487      3    0.250\n",
       "9          4  0011   505874  1370393  0.369145      4    0.125\n",
       "11         4  0101   199596  1370393  0.145649      4    0.125\n",
       "8          4  0010   177642  1370393  0.129629      4    0.125\n",
       "13         4  0111   153378  1370393  0.111923      4    0.125"
      ]
     },
     "execution_count": 77,
     "metadata": {},
     "output_type": "execute_result"
    }
   ],
   "source": [
    "def create_df_stats(df_prune_bsol:pd.DataFrame, max_length=20) -> pd.DataFrame:\n",
    "    # frequency relative taking into account the length of the bsol\n",
    "    df_freq_rel = df_prune_bsol[['len_bsol','bsol','dij']].groupby(['len_bsol','bsol']).count().reset_index()\n",
    "    # rename columns\n",
    "    df_freq_rel.rename(columns={'dij':'count'}, inplace=True)\n",
    "    # total number of bsol for each length\n",
    "    df_freq_rel['total'] = df_freq_rel.groupby('len_bsol')['count'].transform('sum')\n",
    "    # frequency relative\n",
    "    df_freq_rel['freq_rel'] = df_freq_rel['count'] / df_freq_rel['total']\n",
    "    # sort by length and frequency relative\n",
    "    df_freq_rel.sort_values(['len_bsol','freq_rel'], ascending=[True,False], inplace=True)\n",
    "    # length as string\n",
    "    df_freq_rel['length'] = df_freq_rel['len_bsol'].astype(str)\n",
    "    # uniform distribution\n",
    "    # the first bit is fixed to 0 (flip), so the dof is 2^(len_bsol - 1)\n",
    "    df_freq_rel['uniform'] = 1.0 / (2 ** (df_freq_rel['len_bsol'] - 1))\n",
    "    # keep only the instances with len_bsol <= 20\n",
    "    df_freq_rel = df_freq_rel[df_freq_rel['len_bsol'] <= max_length]\n",
    "    return df_freq_rel\n",
    "\n",
    "df_stats = create_df_stats(df_prune_bsol)\n",
    "print(df_stats.shape)\n",
    "df_stats.head(10)"
   ]
  },
  {
   "cell_type": "code",
   "execution_count": null,
   "metadata": {},
   "outputs": [],
   "source": [
    "import plotly.express as px\n",
    "\n",
    "# scatter, x=len_bsol, y=count, y axis log scale\n",
    "def plot_count_by_length(df_stats:pd.DataFrame):\n",
    "    df = df_stats[['len_bsol', 'length', 'total']].groupby(['len_bsol','length']).first().reset_index()\n",
    "    fig = px.scatter(df, x='length', y='total', log_y=True,\n",
    "                     title=f\"Number of BSOLs\",)\n",
    "    # set size\n",
    "    fig.update_layout(width=800, height=400)\n",
    "    fig.show()\n",
    "\n",
    "plot_count_by_length(df_stats)"
   ]
  },
  {
   "cell_type": "code",
   "execution_count": null,
   "metadata": {},
   "outputs": [],
   "source": [
    "import numpy as np\n",
    "\n",
    "def plot_stats_measures(df_stats:pd.DataFrame) -> pd.DataFrame:\n",
    "    # measure KL divergence\n",
    "    # KL(p||q) = sum(p(x) * log(p(x) / q(x))), where q(x) = 1/2^(len_bsol - 1)\n",
    "    # Note: \n",
    "    #   - The function q is the uniform distribution over all possible BSOLs of length len_bsol.\n",
    "    #   - The minus 1 is because the first bit is fixed to 0.\n",
    "    df = df_stats.copy()\n",
    "    df['KL'] = df_stats.apply(lambda x: x['freq_rel'] * np.log2(x['freq_rel'] / x['uniform']), axis=1)\n",
    "    # measure Hellinger distance\n",
    "    df['HD'] = df_stats.apply(lambda x: np.sqrt(0.5 * (x['freq_rel'] - x['uniform']) ** 2), axis=1)\n",
    "    # sum KL and HD for each length\n",
    "    df = df.groupby(['len_bsol','length']).sum().reset_index()\n",
    "\n",
    "    # plot KL, HD, TV using subplots 1 x 3, each one should have its own y axis\n",
    "    import seaborn as sns\n",
    "    import matplotlib.pyplot as plt\n",
    "\n",
    "    fig, axs = plt.subplots(1, 2, figsize=(8, 4))\n",
    "    sns.lineplot(x='length', y='KL', data=df, ax=axs[0])\n",
    "    axs[0].set_title('KL Divergence')\n",
    "    sns.lineplot(x='length', y='HD', data=df, ax=axs[1])\n",
    "    axs[1].set_title('Hellinger Distance')    \n",
    "    plt.tight_layout()\n",
    "    plt.show()\n",
    "    \n",
    "\n",
    "plot_stats_measures(df_stats)"
   ]
  },
  {
   "cell_type": "code",
   "execution_count": 24,
   "metadata": {},
   "outputs": [
    {
     "name": "stderr",
     "output_type": "stream",
     "text": [
      "100%|██████████| 73647/73647 [05:28<00:00, 224.08it/s] \n"
     ]
    },
    {
     "name": "stdout",
     "output_type": "stream",
     "text": [
      "(121917, 5)\n"
     ]
    },
    {
     "data": {
      "text/html": [
       "<div>\n",
       "<style scoped>\n",
       "    .dataframe tbody tr th:only-of-type {\n",
       "        vertical-align: middle;\n",
       "    }\n",
       "\n",
       "    .dataframe tbody tr th {\n",
       "        vertical-align: top;\n",
       "    }\n",
       "\n",
       "    .dataframe thead th {\n",
       "        text-align: right;\n",
       "    }\n",
       "</style>\n",
       "<table border=\"1\" class=\"dataframe\">\n",
       "  <thead>\n",
       "    <tr style=\"text-align: right;\">\n",
       "      <th></th>\n",
       "      <th>bsol</th>\n",
       "      <th>constraint</th>\n",
       "      <th>count</th>\n",
       "      <th>total</th>\n",
       "      <th>rel_freq</th>\n",
       "    </tr>\n",
       "  </thead>\n",
       "  <tbody>\n",
       "    <tr>\n",
       "      <th>0</th>\n",
       "      <td>00</td>\n",
       "      <td>C 4 CA</td>\n",
       "      <td>401010</td>\n",
       "      <td>692563</td>\n",
       "      <td>0.579023</td>\n",
       "    </tr>\n",
       "    <tr>\n",
       "      <th>1</th>\n",
       "      <td>00</td>\n",
       "      <td>HA 4 CA</td>\n",
       "      <td>38565</td>\n",
       "      <td>73647</td>\n",
       "      <td>0.523647</td>\n",
       "    </tr>\n",
       "    <tr>\n",
       "      <th>2</th>\n",
       "      <td>00</td>\n",
       "      <td>N 4 CA</td>\n",
       "      <td>60</td>\n",
       "      <td>692563</td>\n",
       "      <td>0.000087</td>\n",
       "    </tr>\n",
       "    <tr>\n",
       "      <th>3</th>\n",
       "      <td>000</td>\n",
       "      <td>HA 5 HA</td>\n",
       "      <td>15651</td>\n",
       "      <td>72075</td>\n",
       "      <td>0.217149</td>\n",
       "    </tr>\n",
       "    <tr>\n",
       "      <th>4</th>\n",
       "      <td>0000</td>\n",
       "      <td>H 6 H</td>\n",
       "      <td>9</td>\n",
       "      <td>692535</td>\n",
       "      <td>0.000013</td>\n",
       "    </tr>\n",
       "    <tr>\n",
       "      <th>5</th>\n",
       "      <td>0000</td>\n",
       "      <td>HA 6 HA</td>\n",
       "      <td>59682</td>\n",
       "      <td>677858</td>\n",
       "      <td>0.088045</td>\n",
       "    </tr>\n",
       "    <tr>\n",
       "      <th>6</th>\n",
       "      <td>0000000110100110100</td>\n",
       "      <td>HA 21 H</td>\n",
       "      <td>1</td>\n",
       "      <td>188832</td>\n",
       "      <td>0.000005</td>\n",
       "    </tr>\n",
       "    <tr>\n",
       "      <th>7</th>\n",
       "      <td>0000000110100110100110</td>\n",
       "      <td>HA 24 HA</td>\n",
       "      <td>1</td>\n",
       "      <td>9957</td>\n",
       "      <td>0.000100</td>\n",
       "    </tr>\n",
       "    <tr>\n",
       "      <th>8</th>\n",
       "      <td>0000001</td>\n",
       "      <td>HA 9 H</td>\n",
       "      <td>1</td>\n",
       "      <td>359419</td>\n",
       "      <td>0.000003</td>\n",
       "    </tr>\n",
       "    <tr>\n",
       "      <th>9</th>\n",
       "      <td>0000001100001100111100011101001</td>\n",
       "      <td>H 33 HA</td>\n",
       "      <td>1</td>\n",
       "      <td>3260</td>\n",
       "      <td>0.000307</td>\n",
       "    </tr>\n",
       "  </tbody>\n",
       "</table>\n",
       "</div>"
      ],
      "text/plain": [
       "                              bsol constraint   count   total  rel_freq\n",
       "0                               00     C 4 CA  401010  692563  0.579023\n",
       "1                               00    HA 4 CA   38565   73647  0.523647\n",
       "2                               00     N 4 CA      60  692563  0.000087\n",
       "3                              000    HA 5 HA   15651   72075  0.217149\n",
       "4                             0000      H 6 H       9  692535  0.000013\n",
       "5                             0000    HA 6 HA   59682  677858  0.088045\n",
       "6              0000000110100110100    HA 21 H       1  188832  0.000005\n",
       "7           0000000110100110100110   HA 24 HA       1    9957  0.000100\n",
       "8                          0000001     HA 9 H       1  359419  0.000003\n",
       "9  0000001100001100111100011101001    H 33 HA       1    3260  0.000307"
      ]
     },
     "execution_count": 24,
     "metadata": {},
     "output_type": "execute_result"
    }
   ],
   "source": [
    "import os\n",
    "import numpy as np\n",
    "import pandas as pd\n",
    "from tqdm import tqdm\n",
    "from concurrent.futures import ProcessPoolExecutor\n",
    "from create_dmdgp import read_csv_file\n",
    "from create_dmdgp import create_df_frequencies\n",
    "\n",
    "df_stats = create_df_frequencies(os.listdir(\"prune_bsol\"))\n",
    "print(df_stats.shape)\n",
    "df_stats.head(10)"
   ]
  },
  {
   "cell_type": "code",
   "execution_count": 25,
   "metadata": {},
   "outputs": [],
   "source": [
    "max_length = 20\n",
    "\n",
    "# the first bit is fixed to 0 (flip), so the dof is 2^(len_bsol - 1)\n",
    "df_stats['len_bsol'] = df_stats['bsol'].apply(len)\n",
    "df_stats['uniform'] = 1.0 / (2 ** (df_stats['len_bsol'] - 1))\n",
    "# keep only the instances with len_bsol <= 20\n",
    "df_stats = df_stats[df_stats['len_bsol'] <= max_length]"
   ]
  },
  {
   "cell_type": "code",
   "execution_count": 28,
   "metadata": {},
   "outputs": [
    {
     "data": {
      "application/vnd.plotly.v1+json": {
       "config": {
        "plotlyServerURL": "https://plot.ly"
       },
       "data": [
        {
         "hovertemplate": "constraint=%{x}<br>total=%{y}<extra></extra>",
         "legendgroup": "",
         "marker": {
          "color": "#636efa",
          "symbol": "circle"
         },
         "mode": "markers",
         "name": "",
         "orientation": "v",
         "showlegend": false,
         "type": "scatter",
         "x": [
          "C 4 CA",
          "HA 4 CA",
          "N 4 CA",
          "HA 5 HA",
          "H 6 H",
          "HA 6 HA",
          "HA 8 H",
          "H 9 HA",
          "HA 9 H",
          "HA 11 HA",
          "H 12 H",
          "HA 12 HA",
          "HA 14 H",
          "H 15 HA",
          "HA 15 H",
          "HA 17 HA",
          "H 18 H",
          "HA 18 HA",
          "HA 20 H",
          "H 21 HA",
          "HA 21 H"
         ],
         "xaxis": "x",
         "y": [
          692563,
          73647,
          692563,
          72075,
          692535,
          677858,
          31445,
          208533,
          359419,
          232,
          323451,
          1798,
          20028,
          3068,
          262341,
          2434,
          195759,
          30712,
          12700,
          5960,
          188832
         ],
         "yaxis": "y"
        }
       ],
       "layout": {
        "height": 400,
        "legend": {
         "tracegroupgap": 0
        },
        "template": {
         "data": {
          "bar": [
           {
            "error_x": {
             "color": "#2a3f5f"
            },
            "error_y": {
             "color": "#2a3f5f"
            },
            "marker": {
             "line": {
              "color": "#E5ECF6",
              "width": 0.5
             },
             "pattern": {
              "fillmode": "overlay",
              "size": 10,
              "solidity": 0.2
             }
            },
            "type": "bar"
           }
          ],
          "barpolar": [
           {
            "marker": {
             "line": {
              "color": "#E5ECF6",
              "width": 0.5
             },
             "pattern": {
              "fillmode": "overlay",
              "size": 10,
              "solidity": 0.2
             }
            },
            "type": "barpolar"
           }
          ],
          "carpet": [
           {
            "aaxis": {
             "endlinecolor": "#2a3f5f",
             "gridcolor": "white",
             "linecolor": "white",
             "minorgridcolor": "white",
             "startlinecolor": "#2a3f5f"
            },
            "baxis": {
             "endlinecolor": "#2a3f5f",
             "gridcolor": "white",
             "linecolor": "white",
             "minorgridcolor": "white",
             "startlinecolor": "#2a3f5f"
            },
            "type": "carpet"
           }
          ],
          "choropleth": [
           {
            "colorbar": {
             "outlinewidth": 0,
             "ticks": ""
            },
            "type": "choropleth"
           }
          ],
          "contour": [
           {
            "colorbar": {
             "outlinewidth": 0,
             "ticks": ""
            },
            "colorscale": [
             [
              0,
              "#0d0887"
             ],
             [
              0.1111111111111111,
              "#46039f"
             ],
             [
              0.2222222222222222,
              "#7201a8"
             ],
             [
              0.3333333333333333,
              "#9c179e"
             ],
             [
              0.4444444444444444,
              "#bd3786"
             ],
             [
              0.5555555555555556,
              "#d8576b"
             ],
             [
              0.6666666666666666,
              "#ed7953"
             ],
             [
              0.7777777777777778,
              "#fb9f3a"
             ],
             [
              0.8888888888888888,
              "#fdca26"
             ],
             [
              1,
              "#f0f921"
             ]
            ],
            "type": "contour"
           }
          ],
          "contourcarpet": [
           {
            "colorbar": {
             "outlinewidth": 0,
             "ticks": ""
            },
            "type": "contourcarpet"
           }
          ],
          "heatmap": [
           {
            "colorbar": {
             "outlinewidth": 0,
             "ticks": ""
            },
            "colorscale": [
             [
              0,
              "#0d0887"
             ],
             [
              0.1111111111111111,
              "#46039f"
             ],
             [
              0.2222222222222222,
              "#7201a8"
             ],
             [
              0.3333333333333333,
              "#9c179e"
             ],
             [
              0.4444444444444444,
              "#bd3786"
             ],
             [
              0.5555555555555556,
              "#d8576b"
             ],
             [
              0.6666666666666666,
              "#ed7953"
             ],
             [
              0.7777777777777778,
              "#fb9f3a"
             ],
             [
              0.8888888888888888,
              "#fdca26"
             ],
             [
              1,
              "#f0f921"
             ]
            ],
            "type": "heatmap"
           }
          ],
          "heatmapgl": [
           {
            "colorbar": {
             "outlinewidth": 0,
             "ticks": ""
            },
            "colorscale": [
             [
              0,
              "#0d0887"
             ],
             [
              0.1111111111111111,
              "#46039f"
             ],
             [
              0.2222222222222222,
              "#7201a8"
             ],
             [
              0.3333333333333333,
              "#9c179e"
             ],
             [
              0.4444444444444444,
              "#bd3786"
             ],
             [
              0.5555555555555556,
              "#d8576b"
             ],
             [
              0.6666666666666666,
              "#ed7953"
             ],
             [
              0.7777777777777778,
              "#fb9f3a"
             ],
             [
              0.8888888888888888,
              "#fdca26"
             ],
             [
              1,
              "#f0f921"
             ]
            ],
            "type": "heatmapgl"
           }
          ],
          "histogram": [
           {
            "marker": {
             "pattern": {
              "fillmode": "overlay",
              "size": 10,
              "solidity": 0.2
             }
            },
            "type": "histogram"
           }
          ],
          "histogram2d": [
           {
            "colorbar": {
             "outlinewidth": 0,
             "ticks": ""
            },
            "colorscale": [
             [
              0,
              "#0d0887"
             ],
             [
              0.1111111111111111,
              "#46039f"
             ],
             [
              0.2222222222222222,
              "#7201a8"
             ],
             [
              0.3333333333333333,
              "#9c179e"
             ],
             [
              0.4444444444444444,
              "#bd3786"
             ],
             [
              0.5555555555555556,
              "#d8576b"
             ],
             [
              0.6666666666666666,
              "#ed7953"
             ],
             [
              0.7777777777777778,
              "#fb9f3a"
             ],
             [
              0.8888888888888888,
              "#fdca26"
             ],
             [
              1,
              "#f0f921"
             ]
            ],
            "type": "histogram2d"
           }
          ],
          "histogram2dcontour": [
           {
            "colorbar": {
             "outlinewidth": 0,
             "ticks": ""
            },
            "colorscale": [
             [
              0,
              "#0d0887"
             ],
             [
              0.1111111111111111,
              "#46039f"
             ],
             [
              0.2222222222222222,
              "#7201a8"
             ],
             [
              0.3333333333333333,
              "#9c179e"
             ],
             [
              0.4444444444444444,
              "#bd3786"
             ],
             [
              0.5555555555555556,
              "#d8576b"
             ],
             [
              0.6666666666666666,
              "#ed7953"
             ],
             [
              0.7777777777777778,
              "#fb9f3a"
             ],
             [
              0.8888888888888888,
              "#fdca26"
             ],
             [
              1,
              "#f0f921"
             ]
            ],
            "type": "histogram2dcontour"
           }
          ],
          "mesh3d": [
           {
            "colorbar": {
             "outlinewidth": 0,
             "ticks": ""
            },
            "type": "mesh3d"
           }
          ],
          "parcoords": [
           {
            "line": {
             "colorbar": {
              "outlinewidth": 0,
              "ticks": ""
             }
            },
            "type": "parcoords"
           }
          ],
          "pie": [
           {
            "automargin": true,
            "type": "pie"
           }
          ],
          "scatter": [
           {
            "fillpattern": {
             "fillmode": "overlay",
             "size": 10,
             "solidity": 0.2
            },
            "type": "scatter"
           }
          ],
          "scatter3d": [
           {
            "line": {
             "colorbar": {
              "outlinewidth": 0,
              "ticks": ""
             }
            },
            "marker": {
             "colorbar": {
              "outlinewidth": 0,
              "ticks": ""
             }
            },
            "type": "scatter3d"
           }
          ],
          "scattercarpet": [
           {
            "marker": {
             "colorbar": {
              "outlinewidth": 0,
              "ticks": ""
             }
            },
            "type": "scattercarpet"
           }
          ],
          "scattergeo": [
           {
            "marker": {
             "colorbar": {
              "outlinewidth": 0,
              "ticks": ""
             }
            },
            "type": "scattergeo"
           }
          ],
          "scattergl": [
           {
            "marker": {
             "colorbar": {
              "outlinewidth": 0,
              "ticks": ""
             }
            },
            "type": "scattergl"
           }
          ],
          "scattermapbox": [
           {
            "marker": {
             "colorbar": {
              "outlinewidth": 0,
              "ticks": ""
             }
            },
            "type": "scattermapbox"
           }
          ],
          "scatterpolar": [
           {
            "marker": {
             "colorbar": {
              "outlinewidth": 0,
              "ticks": ""
             }
            },
            "type": "scatterpolar"
           }
          ],
          "scatterpolargl": [
           {
            "marker": {
             "colorbar": {
              "outlinewidth": 0,
              "ticks": ""
             }
            },
            "type": "scatterpolargl"
           }
          ],
          "scatterternary": [
           {
            "marker": {
             "colorbar": {
              "outlinewidth": 0,
              "ticks": ""
             }
            },
            "type": "scatterternary"
           }
          ],
          "surface": [
           {
            "colorbar": {
             "outlinewidth": 0,
             "ticks": ""
            },
            "colorscale": [
             [
              0,
              "#0d0887"
             ],
             [
              0.1111111111111111,
              "#46039f"
             ],
             [
              0.2222222222222222,
              "#7201a8"
             ],
             [
              0.3333333333333333,
              "#9c179e"
             ],
             [
              0.4444444444444444,
              "#bd3786"
             ],
             [
              0.5555555555555556,
              "#d8576b"
             ],
             [
              0.6666666666666666,
              "#ed7953"
             ],
             [
              0.7777777777777778,
              "#fb9f3a"
             ],
             [
              0.8888888888888888,
              "#fdca26"
             ],
             [
              1,
              "#f0f921"
             ]
            ],
            "type": "surface"
           }
          ],
          "table": [
           {
            "cells": {
             "fill": {
              "color": "#EBF0F8"
             },
             "line": {
              "color": "white"
             }
            },
            "header": {
             "fill": {
              "color": "#C8D4E3"
             },
             "line": {
              "color": "white"
             }
            },
            "type": "table"
           }
          ]
         },
         "layout": {
          "annotationdefaults": {
           "arrowcolor": "#2a3f5f",
           "arrowhead": 0,
           "arrowwidth": 1
          },
          "autotypenumbers": "strict",
          "coloraxis": {
           "colorbar": {
            "outlinewidth": 0,
            "ticks": ""
           }
          },
          "colorscale": {
           "diverging": [
            [
             0,
             "#8e0152"
            ],
            [
             0.1,
             "#c51b7d"
            ],
            [
             0.2,
             "#de77ae"
            ],
            [
             0.3,
             "#f1b6da"
            ],
            [
             0.4,
             "#fde0ef"
            ],
            [
             0.5,
             "#f7f7f7"
            ],
            [
             0.6,
             "#e6f5d0"
            ],
            [
             0.7,
             "#b8e186"
            ],
            [
             0.8,
             "#7fbc41"
            ],
            [
             0.9,
             "#4d9221"
            ],
            [
             1,
             "#276419"
            ]
           ],
           "sequential": [
            [
             0,
             "#0d0887"
            ],
            [
             0.1111111111111111,
             "#46039f"
            ],
            [
             0.2222222222222222,
             "#7201a8"
            ],
            [
             0.3333333333333333,
             "#9c179e"
            ],
            [
             0.4444444444444444,
             "#bd3786"
            ],
            [
             0.5555555555555556,
             "#d8576b"
            ],
            [
             0.6666666666666666,
             "#ed7953"
            ],
            [
             0.7777777777777778,
             "#fb9f3a"
            ],
            [
             0.8888888888888888,
             "#fdca26"
            ],
            [
             1,
             "#f0f921"
            ]
           ],
           "sequentialminus": [
            [
             0,
             "#0d0887"
            ],
            [
             0.1111111111111111,
             "#46039f"
            ],
            [
             0.2222222222222222,
             "#7201a8"
            ],
            [
             0.3333333333333333,
             "#9c179e"
            ],
            [
             0.4444444444444444,
             "#bd3786"
            ],
            [
             0.5555555555555556,
             "#d8576b"
            ],
            [
             0.6666666666666666,
             "#ed7953"
            ],
            [
             0.7777777777777778,
             "#fb9f3a"
            ],
            [
             0.8888888888888888,
             "#fdca26"
            ],
            [
             1,
             "#f0f921"
            ]
           ]
          },
          "colorway": [
           "#636efa",
           "#EF553B",
           "#00cc96",
           "#ab63fa",
           "#FFA15A",
           "#19d3f3",
           "#FF6692",
           "#B6E880",
           "#FF97FF",
           "#FECB52"
          ],
          "font": {
           "color": "#2a3f5f"
          },
          "geo": {
           "bgcolor": "white",
           "lakecolor": "white",
           "landcolor": "#E5ECF6",
           "showlakes": true,
           "showland": true,
           "subunitcolor": "white"
          },
          "hoverlabel": {
           "align": "left"
          },
          "hovermode": "closest",
          "mapbox": {
           "style": "light"
          },
          "paper_bgcolor": "white",
          "plot_bgcolor": "#E5ECF6",
          "polar": {
           "angularaxis": {
            "gridcolor": "white",
            "linecolor": "white",
            "ticks": ""
           },
           "bgcolor": "#E5ECF6",
           "radialaxis": {
            "gridcolor": "white",
            "linecolor": "white",
            "ticks": ""
           }
          },
          "scene": {
           "xaxis": {
            "backgroundcolor": "#E5ECF6",
            "gridcolor": "white",
            "gridwidth": 2,
            "linecolor": "white",
            "showbackground": true,
            "ticks": "",
            "zerolinecolor": "white"
           },
           "yaxis": {
            "backgroundcolor": "#E5ECF6",
            "gridcolor": "white",
            "gridwidth": 2,
            "linecolor": "white",
            "showbackground": true,
            "ticks": "",
            "zerolinecolor": "white"
           },
           "zaxis": {
            "backgroundcolor": "#E5ECF6",
            "gridcolor": "white",
            "gridwidth": 2,
            "linecolor": "white",
            "showbackground": true,
            "ticks": "",
            "zerolinecolor": "white"
           }
          },
          "shapedefaults": {
           "line": {
            "color": "#2a3f5f"
           }
          },
          "ternary": {
           "aaxis": {
            "gridcolor": "white",
            "linecolor": "white",
            "ticks": ""
           },
           "baxis": {
            "gridcolor": "white",
            "linecolor": "white",
            "ticks": ""
           },
           "bgcolor": "#E5ECF6",
           "caxis": {
            "gridcolor": "white",
            "linecolor": "white",
            "ticks": ""
           }
          },
          "title": {
           "x": 0.05
          },
          "xaxis": {
           "automargin": true,
           "gridcolor": "white",
           "linecolor": "white",
           "ticks": "",
           "title": {
            "standoff": 15
           },
           "zerolinecolor": "white",
           "zerolinewidth": 2
          },
          "yaxis": {
           "automargin": true,
           "gridcolor": "white",
           "linecolor": "white",
           "ticks": "",
           "title": {
            "standoff": 15
           },
           "zerolinecolor": "white",
           "zerolinewidth": 2
          }
         }
        },
        "title": {
         "text": "Number of BSOLs"
        },
        "width": 800,
        "xaxis": {
         "anchor": "y",
         "domain": [
          0,
          1
         ],
         "title": {
          "text": "constraint"
         }
        },
        "yaxis": {
         "anchor": "x",
         "domain": [
          0,
          1
         ],
         "title": {
          "text": "total"
         },
         "type": "log"
        }
       }
      }
     },
     "metadata": {},
     "output_type": "display_data"
    }
   ],
   "source": [
    "import plotly.express as px\n",
    "\n",
    "# scatter, x=len_bsol, y=count, y axis log scale\n",
    "def plot_count_by_length(df_stats:pd.DataFrame):\n",
    "    df = df_stats[['len_bsol', 'constraint', 'total']].groupby(['len_bsol','constraint']).first().reset_index()\n",
    "    fig = px.scatter(df, x='constraint', y='total', log_y=True,\n",
    "                     title=f\"Number of BSOLs\",)\n",
    "    # set size\n",
    "    fig.update_layout(width=800, height=400)\n",
    "    fig.show()\n",
    "\n",
    "plot_count_by_length(df_stats)"
   ]
  },
  {
   "cell_type": "code",
   "execution_count": 27,
   "metadata": {},
   "outputs": [
    {
     "name": "stderr",
     "output_type": "stream",
     "text": [
      "C:\\Users\\romul\\AppData\\Local\\Temp\\ipykernel_2952\\2661758449.py:27: UserWarning: set_ticklabels() should only be used with a fixed number of ticks, i.e. after set_ticks() or using a FixedLocator.\n",
      "  tick.set_xticklabels(labels=tick.get_xticklabels(), rotation=90)\n",
      "C:\\Users\\romul\\AppData\\Local\\Temp\\ipykernel_2952\\2661758449.py:27: UserWarning: set_ticklabels() should only be used with a fixed number of ticks, i.e. after set_ticks() or using a FixedLocator.\n",
      "  tick.set_xticklabels(labels=tick.get_xticklabels(), rotation=90)\n"
     ]
    },
    {
     "data": {
      "image/png": "[encoded data removed]",
      "text/plain": [
       "<Figure size 800x400 with 2 Axes>"
      ]
     },
     "metadata": {},
     "output_type": "display_data"
    }
   ],
   "source": [
    "import numpy as np\n",
    "\n",
    "def plot_stats_measures(df_stats:pd.DataFrame) -> pd.DataFrame:\n",
    "    # measure KL divergence\n",
    "    # KL(p||q) = sum(p(x) * log(p(x) / q(x))), where q(x) = 1/2^(len_bsol - 1)\n",
    "    # Note: \n",
    "    #   - The function q is the uniform distribution over all possible BSOLs of length len_bsol.\n",
    "    #   - The minus 1 is because the first bit is fixed to 0.\n",
    "    df = df_stats.copy()\n",
    "    df['KL'] = df_stats.apply(lambda x: x['rel_freq'] * np.log2(x['rel_freq'] / x['uniform']), axis=1)\n",
    "    # measure Hellinger distance\n",
    "    df['HD'] = df_stats.apply(lambda x: np.sqrt(0.5 * (x['rel_freq'] - x['uniform']) ** 2), axis=1)\n",
    "    # sum KL and HD for each length\n",
    "    df = df.groupby(['len_bsol','constraint']).sum().reset_index()\n",
    "\n",
    "    # plot KL, HD, TV using subplots 1 x 3, each one should have its own y axis\n",
    "    import seaborn as sns\n",
    "    import matplotlib.pyplot as plt\n",
    "\n",
    "    fig, axs = plt.subplots(1, 2, figsize=(8, 4))\n",
    "    sns.lineplot(x='constraint', y='KL', data=df, ax=axs[0])\n",
    "    axs[0].set_title('KL Divergence')\n",
    "    sns.lineplot(x='constraint', y='HD', data=df, ax=axs[1])\n",
    "    axs[1].set_title('Hellinger Distance')\n",
    "\n",
    "    for tick in axs:\n",
    "        tick.set_xticklabels(labels=tick.get_xticklabels(), rotation=90)\n",
    "\n",
    "    # plt.xticks(rotation=60)\n",
    "    plt.tight_layout()\n",
    "    plt.show()\n",
    "    \n",
    "\n",
    "plot_stats_measures(df_stats)"
   ]
  },
  {
   "cell_type": "code",
   "execution_count": null,
   "metadata": {},
   "outputs": [],
   "source": []
  }
 ],
 "metadata": {
  "kernelspec": {
   "display_name": ".venv",
   "language": "python",
   "name": "python3"
  },
  "language_info": {
   "codemirror_mode": {
    "name": "ipython",
    "version": 3
   },
   "file_extension": ".py",
   "mimetype": "text/x-python",
   "name": "python",
   "nbconvert_exporter": "python",
   "pygments_lexer": "ipython3",
   "version": "3.11.9"
  }
 },
 "nbformat": 4,
 "nbformat_minor": 2
}
